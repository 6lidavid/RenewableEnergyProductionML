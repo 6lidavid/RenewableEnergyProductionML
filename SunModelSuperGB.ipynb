{
 "cells": [
  {
   "cell_type": "code",
   "execution_count": 1,
   "metadata": {},
   "outputs": [],
   "source": [
    "import pandas as pd\n",
    "import numpy as np\n",
    "import matplotlib.pyplot as plt\n",
    "%matplotlib inline"
   ]
  },
  {
   "cell_type": "code",
   "execution_count": 2,
   "metadata": {},
   "outputs": [],
   "source": [
    "# energygenerationdata = pd.read_csv(\"data/time_series_60min_singleindex.csv\",\n",
    "#                         usecols=(lambda s: s.startswith('utc') | \n",
    "#                                  s.startswith('DE_solar') |\n",
    "#                                  s. startswith('DE_wind')),\n",
    "#                         parse_dates=[0], index_col=0)\n",
    "\n",
    "# windgenerationdata = pd.read_csv(\"data/time_series_60min_singleindex.csv\",\n",
    "#                         usecols=(lambda s: s.startswith('utc') | \n",
    "#                                  s. startswith('DE_wind_generation')),\n",
    "#                         parse_dates=[0], index_col=0)\n",
    "\n",
    "\n",
    "\n",
    "solargenGB = pd.read_csv(\"data/time_series_60min_singleindex.csv\",\n",
    "                        usecols=(lambda s: s.startswith('utc') | \n",
    "                                 s.endswith('GB_GBN_solar_generation_actual')),\n",
    "                        parse_dates=[0], index_col=0)\n",
    "\n",
    "solargenSE = pd.read_csv(\"data/time_series_60min_singleindex.csv\",\n",
    "                        usecols=(lambda s: s.startswith('utc') | \n",
    "                                 s.endswith('SE_solar_generation_actual')),\n",
    "                        parse_dates=[0], index_col=0)\n",
    "\n",
    "solargenDE = pd.read_csv(\"data/time_series_60min_singleindex.csv\",\n",
    "                        usecols=(lambda s: s.startswith('utc') | \n",
    "                                 s.endswith('DE_solar_generation_actual')),\n",
    "                        parse_dates=[0], index_col=0)\n",
    "\n",
    "solargenDK = pd.read_csv(\"data/time_series_60min_singleindex.csv\",\n",
    "                        usecols=(lambda s: s.startswith('utc') | \n",
    "                                 s.endswith('DK_solar_generation_actual')),\n",
    "                        parse_dates=[0], index_col=0)"
   ]
  },
  {
   "cell_type": "code",
   "execution_count": 3,
   "metadata": {},
   "outputs": [],
   "source": [
    "# windspeed = pd.read_csv(\"data/weather_data.csv\",\n",
    "#                 usecols=(lambda s: s.startswith('utc') | \n",
    "#                          s.startswith('DE_windspeed')),\n",
    "#                 parse_dates=[0], index_col=0)\n",
    "\n",
    "\n",
    "solardataDK = pd.read_csv(\"data/weather_data.csv\",\n",
    "                usecols=(lambda s: s.startswith('utc') | \n",
    "                         s.endswith(\"DK_radiation_direct_horizontal\") | \n",
    "                         s.endswith(\"DK_radiation_diffuse_horizontal\")),\n",
    "                parse_dates=[0], index_col=0)\n",
    "\n",
    "solardataDE = pd.read_csv(\"data/weather_data.csv\",\n",
    "                usecols=(lambda s: s.startswith('utc') | \n",
    "                         s.endswith(\"DE_radiation_direct_horizontal\") | \n",
    "                         s.endswith(\"DE_radiation_diffuse_horizontal\")),\n",
    "                parse_dates=[0], index_col=0)\n",
    "\n",
    "solardataGB = pd.read_csv(\"data/weather_data.csv\",\n",
    "                usecols=(lambda s: s.startswith('utc') | \n",
    "                         s.endswith(\"GB_radiation_direct_horizontal\") | \n",
    "                         s.endswith(\"GB_radiation_diffuse_horizontal\")),\n",
    "                parse_dates=[0], index_col=0)\n",
    "\n",
    "solardataSE = pd.read_csv(\"data/weather_data.csv\",\n",
    "                usecols=(lambda s: s.startswith('utc') | \n",
    "                         s.endswith(\"SE_radiation_direct_horizontal\") | \n",
    "                         s.endswith(\"SE_radiation_diffuse_horizontal\")),\n",
    "                parse_dates=[0], index_col=0)"
   ]
  },
  {
   "cell_type": "code",
   "execution_count": 4,
   "metadata": {},
   "outputs": [],
   "source": [
    "start_remove = pd.to_datetime('2016-01-01', utc = True)\n",
    "end_remove = pd.to_datetime('2017-01-01', utc = True)\n",
    "\n",
    "start_test = pd.to_datetime('2015-01-01', utc = True)\n",
    "end_test = pd.to_datetime('2016-01-01', utc = True)"
   ]
  },
  {
   "cell_type": "code",
   "execution_count": 5,
   "metadata": {},
   "outputs": [],
   "source": [
    "solardatatrainGB = solardataGB.loc[(solardataGB.index >= start_remove) & (solardataGB.index < end_remove)]\n",
    "solargentrainGB = solargenGB.loc[(solargenGB.index >= start_remove) & (solargenGB.index < end_remove)]\n",
    "\n",
    "solardatatestGB = solardataGB.loc[(solardataGB.index >= start_test) & (solardataGB.index < end_test)]\n",
    "solargentestGB = solargenGB.loc[(solargenGB.index >= start_test) & (solargenGB.index < end_test)]"
   ]
  },
  {
   "cell_type": "code",
   "execution_count": 6,
   "metadata": {},
   "outputs": [],
   "source": [
    "solardatatrainDE = solardataDE.loc[(solardataDE.index >= start_remove) & (solardataDE.index < end_remove)]\n",
    "solargentrainDE = solargenDE.loc[(solargenDE.index >= start_remove) & (solargenDE.index < end_remove)]\n",
    "\n",
    "solardatatestDE = solardataDE.loc[(solardataDE.index >= start_test) & (solardataDE.index < end_test)]\n",
    "solargentestDE = solargenDE.loc[(solargenDE.index >= start_test) & (solargenDE.index < end_test)]"
   ]
  },
  {
   "cell_type": "code",
   "execution_count": 7,
   "metadata": {},
   "outputs": [],
   "source": [
    "solardatatrainDK = solardataDK.loc[(solardataDK.index >= start_remove) & (solardataDK.index < end_remove)]\n",
    "solargentrainDK = solargenDK.loc[(solargenDK.index >= start_remove) & (solargenDK.index < end_remove)]\n",
    "\n",
    "solardatatestDK = solardataDK.loc[(solardataDK.index >= start_test) & (solardataDK.index < end_test)]\n",
    "solargentestDK = solargenDK.loc[(solargenDK.index >= start_test) & (solargenDK.index < end_test)]"
   ]
  },
  {
   "cell_type": "code",
   "execution_count": 8,
   "metadata": {},
   "outputs": [],
   "source": [
    "solardatatrainSE = solardataSE.loc[(solardataSE.index >= start_remove) & (solardataSE.index < end_remove)]\n",
    "solargentrainSE = solargenSE.loc[(solargenSE.index >= start_remove) & (solargenSE.index < end_remove)]\n",
    "\n",
    "solardatatestSE = solardataSE.loc[(solardataSE.index >= start_test) & (solardataSE.index < end_test)]\n",
    "solargentestSE = solargenSE.loc[(solargenSE.index >= start_test) & (solargenSE.index < end_test)]"
   ]
  },
  {
   "cell_type": "code",
   "execution_count": 9,
   "metadata": {},
   "outputs": [],
   "source": [
    "# solardatatrainSE"
   ]
  },
  {
   "cell_type": "code",
   "execution_count": 10,
   "metadata": {},
   "outputs": [],
   "source": [
    "solardatatrainSE = solardatatrainSE.rename({\"utc_timestamp\": \"timestamp\", \"SE_radiation_direct_horizontal\": \"radiation_direct_horizontal\", \"SE_radiation_diffuse_horizontal\": \"radiation_diffuse_horizontal\"}, axis='columns')"
   ]
  },
  {
   "cell_type": "code",
   "execution_count": 11,
   "metadata": {},
   "outputs": [],
   "source": [
    "solardatatrainDE = solardatatrainDE.rename({\"utc_timestamp\": \"timestamp\", \"DE_radiation_direct_horizontal\": \"radiation_direct_horizontal\", \"DE_radiation_diffuse_horizontal\": \"radiation_diffuse_horizontal\"}, axis='columns')"
   ]
  },
  {
   "cell_type": "code",
   "execution_count": 12,
   "metadata": {},
   "outputs": [],
   "source": [
    "solardatatrainDK = solardatatrainDK.rename({\"utc_timestamp\": \"timestamp\", \"DK_radiation_direct_horizontal\": \"radiation_direct_horizontal\", \"DK_radiation_diffuse_horizontal\": \"radiation_diffuse_horizontal\"}, axis='columns')"
   ]
  },
  {
   "cell_type": "code",
   "execution_count": 13,
   "metadata": {},
   "outputs": [],
   "source": [
    "solardatatrainGB = solardatatrainGB.rename({\"utc_timestamp\": \"timestamp\", \"GB_radiation_direct_horizontal\": \"radiation_direct_horizontal\", \"GB_radiation_diffuse_horizontal\": \"radiation_diffuse_horizontal\"}, axis='columns')"
   ]
  },
  {
   "cell_type": "code",
   "execution_count": 14,
   "metadata": {},
   "outputs": [],
   "source": [
    "solardataformatted = pd.concat([solardatatrainSE, solardatatrainDK, solardatatrainDE], sort=False)"
   ]
  },
  {
   "cell_type": "code",
   "execution_count": 15,
   "metadata": {},
   "outputs": [],
   "source": [
    "# windspeedformatted"
   ]
  },
  {
   "cell_type": "code",
   "execution_count": 16,
   "metadata": {},
   "outputs": [],
   "source": [
    "solargentrainSE = solargentrainSE.rename({\"utc_timestamp\": \"timestamp\", \"SE_solar_generation_actual\": \"solar_generation\"}, axis='columns')"
   ]
  },
  {
   "cell_type": "code",
   "execution_count": 17,
   "metadata": {},
   "outputs": [],
   "source": [
    "solargentrainDE = solargentrainDE.rename({\"utc_timestamp\": \"timestamp\", \"DE_solar_generation_actual\": \"solar_generation\"}, axis='columns')"
   ]
  },
  {
   "cell_type": "code",
   "execution_count": 18,
   "metadata": {},
   "outputs": [],
   "source": [
    "solargentrainDK = solargentrainDK.rename({\"utc_timestamp\": \"timestamp\", \"DK_solar_generation_actual\": \"solar_generation\"}, axis='columns')"
   ]
  },
  {
   "cell_type": "code",
   "execution_count": 19,
   "metadata": {},
   "outputs": [],
   "source": [
    "solargentrainGB = solargentrainGB.rename({\"utc_timestamp\": \"timestamp\", \"GB_GBN_solar_generation_actual\": \"solar_generation\"}, axis='columns')"
   ]
  },
  {
   "cell_type": "code",
   "execution_count": 20,
   "metadata": {},
   "outputs": [],
   "source": [
    "solargendataformatted = pd.concat([solargentrainSE, solargentrainDK, solargentrainDE], sort=False)"
   ]
  },
  {
   "cell_type": "code",
   "execution_count": null,
   "metadata": {},
   "outputs": [],
   "source": []
  },
  {
   "cell_type": "code",
   "execution_count": 21,
   "metadata": {},
   "outputs": [],
   "source": [
    "#creating training data but cutting the data based on time stamp\n",
    "# start_remove = pd.to_datetime('2016-01-01', utc = True)\n",
    "# end_remove = pd.to_datetime('2017-01-01', utc = True)\n",
    "\n",
    "# start_remove = pd.to_datetime('2016-01-01')\n",
    "# end_remove = pd.to_datetime('2017-01-01')\n",
    "\n",
    "# windspeedformatted = windspeed.loc[(windspeed.index >= start_remove)]\n",
    "# windgenerationdataformatted = windgenerationdata.loc[(windgenerationdata.index >= start_remove) & (windgenerationdata.index < end_remove)]"
   ]
  },
  {
   "cell_type": "code",
   "execution_count": 22,
   "metadata": {},
   "outputs": [],
   "source": [
    "#creating test/comparison data\n",
    "# start_test = pd.to_datetime('2015-01-01', utc = True)\n",
    "# end_test = pd.to_datetime('2016-01-01', utc = True)\n",
    "\n",
    "# start_test = pd.to_datetime('2015-01-01')\n",
    "# end_test = pd.to_datetime('2016-01-01')\n",
    "# windspeedtest = windspeed.loc[(windspeed.index >= start_test) & (windspeed.index < end_test)]\n",
    "# windgenerationtest = windgenerationdata.loc[(windgenerationdata.index >= start_test) & (windgenerationdata.index < end_test)]"
   ]
  },
  {
   "cell_type": "code",
   "execution_count": 23,
   "metadata": {},
   "outputs": [],
   "source": [
    "# windspeedformatted"
   ]
  },
  {
   "cell_type": "code",
   "execution_count": 24,
   "metadata": {},
   "outputs": [],
   "source": [
    "# windgenerationdataformatted"
   ]
  },
  {
   "cell_type": "code",
   "execution_count": 25,
   "metadata": {},
   "outputs": [],
   "source": [
    "# max(windgenerationdataformatted['DE_wind_generation_actual'])"
   ]
  },
  {
   "cell_type": "code",
   "execution_count": 26,
   "metadata": {},
   "outputs": [],
   "source": [
    "# min(windgenerationdataformatted['DE_wind_generation_actual'])"
   ]
  },
  {
   "cell_type": "code",
   "execution_count": 27,
   "metadata": {},
   "outputs": [],
   "source": [
    "solargendataformatted = solargendataformatted * 1e-3"
   ]
  },
  {
   "cell_type": "code",
   "execution_count": 28,
   "metadata": {},
   "outputs": [],
   "source": [
    "solargentestDE = solargentestDE * 1e-3"
   ]
  },
  {
   "cell_type": "code",
   "execution_count": 29,
   "metadata": {},
   "outputs": [],
   "source": [
    "solargentestGB = solargentestGB * 1e-3"
   ]
  },
  {
   "cell_type": "code",
   "execution_count": 30,
   "metadata": {},
   "outputs": [],
   "source": [
    "solargentrainSE =solargentrainSE * 1e-3"
   ]
  },
  {
   "cell_type": "code",
   "execution_count": 31,
   "metadata": {},
   "outputs": [],
   "source": [
    "solargentrainDK =solargentrainDK * 1e-3"
   ]
  },
  {
   "cell_type": "code",
   "execution_count": 32,
   "metadata": {},
   "outputs": [],
   "source": [
    "solargentrainGB =solargentrainGB * 1e-3"
   ]
  },
  {
   "cell_type": "code",
   "execution_count": 33,
   "metadata": {},
   "outputs": [],
   "source": [
    "solargentrainDE = solargentrainDE * 1e-3"
   ]
  },
  {
   "cell_type": "code",
   "execution_count": 34,
   "metadata": {},
   "outputs": [],
   "source": [
    "# windgenerationtrainDK = windgenerationtrainDK * 1e-3"
   ]
  },
  {
   "cell_type": "code",
   "execution_count": 35,
   "metadata": {},
   "outputs": [],
   "source": [
    "# windgenerationtrainPL = windgenerationtrainPL * 1e-3"
   ]
  },
  {
   "cell_type": "code",
   "execution_count": 36,
   "metadata": {},
   "outputs": [],
   "source": [
    "# windgenerationtest"
   ]
  },
  {
   "cell_type": "code",
   "execution_count": 37,
   "metadata": {},
   "outputs": [],
   "source": [
    "from sklearn.linear_model import LinearRegression\n",
    "# from sklearn.model_selection import train_test_split"
   ]
  },
  {
   "cell_type": "code",
   "execution_count": 38,
   "metadata": {},
   "outputs": [],
   "source": [
    "#train test might not be valid for our case because we have timestamps in play\n",
    "# xtr, xts, ytr, yts = train_test_split(windspeedformatted,windgenerationdataformatted, test_size = 0.33)"
   ]
  },
  {
   "cell_type": "code",
   "execution_count": 39,
   "metadata": {},
   "outputs": [],
   "source": [
    "#inital model training attempt\n",
    "# model = LinearRegression().fit(xtr,ytr)\n",
    "# predicted = model.predict(windspeedformatted)"
   ]
  },
  {
   "cell_type": "code",
   "execution_count": 40,
   "metadata": {},
   "outputs": [],
   "source": [
    "#attempt at cross validation\n",
    "# from sklearn.model_selection import cross_val_score\n",
    "\n",
    "# model = LinearRegression()\n",
    "\n",
    "# scores_wind = cross_val_score(model, windspeedformatted, windgenerationdataformatted, cv=5)\n",
    "# print(scores_wind, \"\\naverage =\", np.mean(scores_wind))"
   ]
  },
  {
   "cell_type": "code",
   "execution_count": 41,
   "metadata": {},
   "outputs": [],
   "source": [
    "#predict using train test split data\n",
    "# predicted = model.predict(xts)"
   ]
  },
  {
   "cell_type": "code",
   "execution_count": 42,
   "metadata": {},
   "outputs": [],
   "source": [
    "# predicted"
   ]
  },
  {
   "cell_type": "code",
   "execution_count": 43,
   "metadata": {},
   "outputs": [],
   "source": [
    "#error when using model from cross validation\n",
    "# predicted = model.predict(windspeedformatted)"
   ]
  },
  {
   "cell_type": "code",
   "execution_count": 44,
   "metadata": {},
   "outputs": [],
   "source": [
    "#timeseries used as x axis when plotting predicted\n",
    "# timeseries = pd.date_range('2016-01-01', '2016-12-31 23:00:00', freq='H')"
   ]
  },
  {
   "cell_type": "code",
   "execution_count": 45,
   "metadata": {},
   "outputs": [],
   "source": [
    "# timeseries"
   ]
  },
  {
   "cell_type": "code",
   "execution_count": 46,
   "metadata": {},
   "outputs": [],
   "source": [
    "# windgenerationdataformatted.plot(linewidth=0.5)"
   ]
  },
  {
   "cell_type": "code",
   "execution_count": 47,
   "metadata": {
    "scrolled": true
   },
   "outputs": [],
   "source": [
    "# I think this is an invalid test because using entire dataset in the predict but the training data is from that same set\n",
    "# plt.plot(timeseries,predicted, linewidth=0.5)"
   ]
  },
  {
   "cell_type": "code",
   "execution_count": 48,
   "metadata": {},
   "outputs": [
    {
     "data": {
      "text/plain": [
       "'\\nTodo:\\ntake in weather data and generation data\\nseparate data into two sets:\\nSolar\\nX = [sun related weather columns] \\nY = wind_generation_actual\\nWind:\\nX = [wind related weather columns] \\nY = sun_generation_actual\\n\\nTrim data based on timestamp\\nWind generation begins at 2010-01-01\\nHowever there are values with NaN. Chose to only take 2016 for now\\nNo wind data past 2016\\n\\nSolar generation begins at 2012-01-01\\n\\nTo try: if there are timestamps do I have to format data?\\n'"
      ]
     },
     "execution_count": 48,
     "metadata": {},
     "output_type": "execute_result"
    }
   ],
   "source": [
    "'''\n",
    "Todo:\n",
    "take in weather data and generation data\n",
    "separate data into two sets:\n",
    "Solar\n",
    "X = [sun related weather columns] \n",
    "Y = wind_generation_actual\n",
    "Wind:\n",
    "X = [wind related weather columns] \n",
    "Y = sun_generation_actual\n",
    "\n",
    "Trim data based on timestamp\n",
    "Wind generation begins at 2010-01-01\n",
    "However there are values with NaN. Chose to only take 2016 for now\n",
    "No wind data past 2016\n",
    "\n",
    "Solar generation begins at 2012-01-01\n",
    "\n",
    "To try: if there are timestamps do I have to format data?\n",
    "'''"
   ]
  },
  {
   "cell_type": "code",
   "execution_count": 49,
   "metadata": {},
   "outputs": [],
   "source": [
    "model = LinearRegression().fit(solardataformatted,solargendataformatted)"
   ]
  },
  {
   "cell_type": "code",
   "execution_count": 50,
   "metadata": {},
   "outputs": [],
   "source": [
    "#using the previously formatted data which is data from 2015\n",
    "prediction = model.predict(solardatatestGB)"
   ]
  },
  {
   "cell_type": "code",
   "execution_count": 51,
   "metadata": {},
   "outputs": [],
   "source": [
    "timeseries = pd.date_range('2015-01-01', '2015-12-31 23:00:00', freq='H')"
   ]
  },
  {
   "cell_type": "code",
   "execution_count": 52,
   "metadata": {},
   "outputs": [
    {
     "name": "stderr",
     "output_type": "stream",
     "text": [
      "C:\\Users\\hong8\\Anaconda3\\lib\\site-packages\\pandas\\core\\arrays\\datetimes.py:1172: UserWarning: Converting to PeriodArray/Index representation will drop timezone information.\n",
      "  \"will drop timezone information.\", UserWarning)\n"
     ]
    },
    {
     "data": {
      "text/plain": [
       "<matplotlib.axes._subplots.AxesSubplot at 0x223beea6860>"
      ]
     },
     "execution_count": 52,
     "metadata": {},
     "output_type": "execute_result"
    },
    {
     "data": {
      "image/png": "[encoded data removed]",
      "text/plain": [
       "<Figure size 432x288 with 1 Axes>"
      ]
     },
     "metadata": {
      "needs_background": "light"
     },
     "output_type": "display_data"
    }
   ],
   "source": [
    "solargentestGB.plot(linewidth=0.5)"
   ]
  },
  {
   "cell_type": "code",
   "execution_count": 53,
   "metadata": {},
   "outputs": [
    {
     "data": {
      "text/plain": [
       "[<matplotlib.lines.Line2D at 0x223bf336be0>]"
      ]
     },
     "execution_count": 53,
     "metadata": {},
     "output_type": "execute_result"
    },
    {
     "data": {
      "image/png": "[encoded data removed]",
      "text/plain": [
       "<Figure size 432x288 with 1 Axes>"
      ]
     },
     "metadata": {
      "needs_background": "light"
     },
     "output_type": "display_data"
    }
   ],
   "source": [
    "plt.plot(timeseries,prediction, linewidth=0.5)"
   ]
  },
  {
   "cell_type": "code",
   "execution_count": 54,
   "metadata": {},
   "outputs": [
    {
     "name": "stdout",
     "output_type": "stream",
     "text": [
      "0.6676279816718086\n"
     ]
    }
   ],
   "source": [
    "from sklearn.metrics import r2_score\n",
    "print(r2_score(solargentestGB, prediction))"
   ]
  },
  {
   "cell_type": "code",
   "execution_count": 55,
   "metadata": {},
   "outputs": [
    {
     "name": "stdout",
     "output_type": "stream",
     "text": [
      "0.8108515937911259\n"
     ]
    }
   ],
   "source": [
    "#large number because we're deadling with large numbers\n",
    "from sklearn.metrics import mean_squared_error\n",
    "print(mean_squared_error(solargentestGB, prediction))"
   ]
  },
  {
   "cell_type": "code",
   "execution_count": 56,
   "metadata": {},
   "outputs": [],
   "source": [
    "# print(np.sum((windgenerationtest-prediction)**2)/(prediction.shape[0]))"
   ]
  },
  {
   "cell_type": "code",
   "execution_count": 57,
   "metadata": {},
   "outputs": [
    {
     "data": {
      "text/plain": [
       "'\\nTo do:\\nFigure out mse (maybe normalize)\\nfigure out cross validation fitting\\nIncorportate more data (more times and more regions)\\n\\nNN model experimentation\\n\\nExpand to solar generation\\n'"
      ]
     },
     "execution_count": 57,
     "metadata": {},
     "output_type": "execute_result"
    }
   ],
   "source": [
    "'''\n",
    "To do:\n",
    "Figure out mse (maybe normalize)\n",
    "figure out cross validation fitting\n",
    "Incorportate more data (more times and more regions)\n",
    "\n",
    "NN model experimentation\n",
    "\n",
    "Expand to solar generation\n",
    "'''"
   ]
  },
  {
   "cell_type": "code",
   "execution_count": 58,
   "metadata": {},
   "outputs": [],
   "source": [
    "#\n",
    "def energy_production(energy):\n",
    "    total_energy = np.sum(energy)\n",
    "    avg_energy_per_hour = total_energy / energy.shape[0]\n",
    "    avg_energy_per_day = total_energy / (energy.shape[0] / 24)\n",
    "    print(\"Energy Data measured in Giga Watts\")\n",
    "    print(\"Total energy:\", total_energy)\n",
    "    print(\"Average Energy Per Hour:\", avg_energy_per_hour)\n",
    "    print(\"Average Energy Per Day:\", avg_energy_per_day)"
   ]
  },
  {
   "cell_type": "code",
   "execution_count": 59,
   "metadata": {},
   "outputs": [
    {
     "name": "stdout",
     "output_type": "stream",
     "text": [
      "Energy Data measured in Giga Watts\n",
      "Total energy: GB_GBN_solar_generation_actual    11110.58\n",
      "dtype: float64\n",
      "Average Energy Per Hour: GB_GBN_solar_generation_actual    1.268331\n",
      "dtype: float64\n",
      "Average Energy Per Day: GB_GBN_solar_generation_actual    30.439945\n",
      "dtype: float64\n"
     ]
    }
   ],
   "source": [
    "energy_production(solargentestGB)"
   ]
  },
  {
   "cell_type": "code",
   "execution_count": 60,
   "metadata": {},
   "outputs": [
    {
     "name": "stdout",
     "output_type": "stream",
     "text": [
      "Energy Data measured in Giga Watts\n",
      "Total energy: 12244.091538190156\n",
      "Average Energy Per Hour: 1.3977273445422553\n",
      "Average Energy Per Day: 33.545456269014124\n"
     ]
    }
   ],
   "source": [
    "energy_production(prediction)"
   ]
  },
  {
   "cell_type": "code",
   "execution_count": null,
   "metadata": {},
   "outputs": [],
   "source": []
  },
  {
   "cell_type": "code",
   "execution_count": 61,
   "metadata": {},
   "outputs": [],
   "source": [
    "# Train with DK, test with FR"
   ]
  },
  {
   "cell_type": "code",
   "execution_count": 62,
   "metadata": {},
   "outputs": [],
   "source": [
    "SE_model = LinearRegression().fit(solardatatrainSE,solargentrainSE)"
   ]
  },
  {
   "cell_type": "code",
   "execution_count": 63,
   "metadata": {},
   "outputs": [],
   "source": [
    "SE_prediction = SE_model.predict(solardatatestGB)"
   ]
  },
  {
   "cell_type": "code",
   "execution_count": 64,
   "metadata": {},
   "outputs": [
    {
     "name": "stderr",
     "output_type": "stream",
     "text": [
      "C:\\Users\\hong8\\Anaconda3\\lib\\site-packages\\pandas\\core\\arrays\\datetimes.py:1172: UserWarning: Converting to PeriodArray/Index representation will drop timezone information.\n",
      "  \"will drop timezone information.\", UserWarning)\n"
     ]
    },
    {
     "data": {
      "text/plain": [
       "<matplotlib.axes._subplots.AxesSubplot at 0x223be027748>"
      ]
     },
     "execution_count": 64,
     "metadata": {},
     "output_type": "execute_result"
    },
    {
     "data": {
      "image/png": "[encoded data removed]",
      "text/plain": [
       "<Figure size 432x288 with 1 Axes>"
      ]
     },
     "metadata": {
      "needs_background": "light"
     },
     "output_type": "display_data"
    }
   ],
   "source": [
    "solargentestGB.plot(linewidth=0.5)"
   ]
  },
  {
   "cell_type": "code",
   "execution_count": 65,
   "metadata": {},
   "outputs": [
    {
     "data": {
      "text/plain": [
       "[<matplotlib.lines.Line2D at 0x223bf7db208>]"
      ]
     },
     "execution_count": 65,
     "metadata": {},
     "output_type": "execute_result"
    },
    {
     "data": {
      "image/png": "[encoded data removed]",
      "text/plain": [
       "<Figure size 432x288 with 1 Axes>"
      ]
     },
     "metadata": {
      "needs_background": "light"
     },
     "output_type": "display_data"
    }
   ],
   "source": [
    "plt.plot(timeseries,SE_prediction, linewidth=0.5)"
   ]
  },
  {
   "cell_type": "code",
   "execution_count": 66,
   "metadata": {},
   "outputs": [
    {
     "name": "stdout",
     "output_type": "stream",
     "text": [
      "-0.6388752107710496\n"
     ]
    }
   ],
   "source": [
    "print(r2_score(solargentestGB, SE_prediction))"
   ]
  },
  {
   "cell_type": "code",
   "execution_count": 67,
   "metadata": {},
   "outputs": [
    {
     "name": "stdout",
     "output_type": "stream",
     "text": [
      "3.998184273642143\n"
     ]
    }
   ],
   "source": [
    "#large number because we're deadling with large numbers\n",
    "print(mean_squared_error(solargentestGB, SE_prediction))"
   ]
  },
  {
   "cell_type": "code",
   "execution_count": 68,
   "metadata": {},
   "outputs": [
    {
     "name": "stdout",
     "output_type": "stream",
     "text": [
      "Energy Data measured in Giga Watts\n",
      "Total energy: 58.00513522201794\n",
      "Average Energy Per Hour: 0.006621590778769172\n",
      "Average Energy Per Day: 0.1589181786904601\n"
     ]
    }
   ],
   "source": [
    "energy_production(SE_prediction)"
   ]
  },
  {
   "cell_type": "code",
   "execution_count": null,
   "metadata": {},
   "outputs": [],
   "source": []
  },
  {
   "cell_type": "code",
   "execution_count": 69,
   "metadata": {},
   "outputs": [],
   "source": [
    "DK_model = LinearRegression().fit(solardatatrainDK,solargentrainDK)"
   ]
  },
  {
   "cell_type": "code",
   "execution_count": 70,
   "metadata": {},
   "outputs": [],
   "source": [
    "DK_prediction = DK_model.predict(solardatatestGB)"
   ]
  },
  {
   "cell_type": "code",
   "execution_count": 71,
   "metadata": {},
   "outputs": [
    {
     "name": "stderr",
     "output_type": "stream",
     "text": [
      "C:\\Users\\hong8\\Anaconda3\\lib\\site-packages\\pandas\\core\\arrays\\datetimes.py:1172: UserWarning: Converting to PeriodArray/Index representation will drop timezone information.\n",
      "  \"will drop timezone information.\", UserWarning)\n"
     ]
    },
    {
     "data": {
      "text/plain": [
       "<matplotlib.axes._subplots.AxesSubplot at 0x223beea6278>"
      ]
     },
     "execution_count": 71,
     "metadata": {},
     "output_type": "execute_result"
    },
    {
     "data": {
      "image/png": "[encoded data removed]",
      "text/plain": [
       "<Figure size 432x288 with 1 Axes>"
      ]
     },
     "metadata": {
      "needs_background": "light"
     },
     "output_type": "display_data"
    }
   ],
   "source": [
    "solargentestGB.plot(linewidth=0.5)"
   ]
  },
  {
   "cell_type": "code",
   "execution_count": 72,
   "metadata": {},
   "outputs": [
    {
     "data": {
      "text/plain": [
       "[<matplotlib.lines.Line2D at 0x223bfb2bac8>]"
      ]
     },
     "execution_count": 72,
     "metadata": {},
     "output_type": "execute_result"
    },
    {
     "data": {
      "image/png": "[encoded data removed]",
      "text/plain": [
       "<Figure size 432x288 with 1 Axes>"
      ]
     },
     "metadata": {
      "needs_background": "light"
     },
     "output_type": "display_data"
    }
   ],
   "source": [
    "plt.plot(timeseries,DK_prediction, linewidth=0.5)"
   ]
  },
  {
   "cell_type": "code",
   "execution_count": 73,
   "metadata": {},
   "outputs": [
    {
     "name": "stdout",
     "output_type": "stream",
     "text": [
      "-0.41328270108008325\n"
     ]
    }
   ],
   "source": [
    "print(r2_score(solargentestGB, DK_prediction))"
   ]
  },
  {
   "cell_type": "code",
   "execution_count": 74,
   "metadata": {},
   "outputs": [
    {
     "name": "stdout",
     "output_type": "stream",
     "text": [
      "3.4478309468177444\n"
     ]
    }
   ],
   "source": [
    "#large number because we're deadling with large numbers\n",
    "print(mean_squared_error(solargentestGB, DK_prediction))"
   ]
  },
  {
   "cell_type": "code",
   "execution_count": 75,
   "metadata": {},
   "outputs": [
    {
     "name": "stdout",
     "output_type": "stream",
     "text": [
      "Energy Data measured in Giga Watts\n",
      "Total energy: 781.0209559870972\n",
      "Average Energy Per Hour: 0.08915764337752251\n",
      "Average Energy Per Day: 2.13978344106054\n"
     ]
    }
   ],
   "source": [
    "energy_production(DK_prediction)"
   ]
  },
  {
   "cell_type": "code",
   "execution_count": null,
   "metadata": {},
   "outputs": [],
   "source": []
  },
  {
   "cell_type": "code",
   "execution_count": 76,
   "metadata": {},
   "outputs": [],
   "source": [
    "DE_model = LinearRegression().fit(solardatatrainDE,solargentrainDE)"
   ]
  },
  {
   "cell_type": "code",
   "execution_count": 77,
   "metadata": {},
   "outputs": [],
   "source": [
    "DE_prediction = DE_model.predict(solardatatestGB)"
   ]
  },
  {
   "cell_type": "code",
   "execution_count": 78,
   "metadata": {},
   "outputs": [
    {
     "name": "stderr",
     "output_type": "stream",
     "text": [
      "C:\\Users\\hong8\\Anaconda3\\lib\\site-packages\\pandas\\core\\arrays\\datetimes.py:1172: UserWarning: Converting to PeriodArray/Index representation will drop timezone information.\n",
      "  \"will drop timezone information.\", UserWarning)\n"
     ]
    },
    {
     "data": {
      "text/plain": [
       "<matplotlib.axes._subplots.AxesSubplot at 0x223bfb7e390>"
      ]
     },
     "execution_count": 78,
     "metadata": {},
     "output_type": "execute_result"
    },
    {
     "data": {
      "image/png": "[encoded data removed]",
      "text/plain": [
       "<Figure size 432x288 with 1 Axes>"
      ]
     },
     "metadata": {
      "needs_background": "light"
     },
     "output_type": "display_data"
    }
   ],
   "source": [
    "solargentestGB.plot(linewidth=0.5)"
   ]
  },
  {
   "cell_type": "code",
   "execution_count": 79,
   "metadata": {},
   "outputs": [
    {
     "data": {
      "text/plain": [
       "[<matplotlib.lines.Line2D at 0x223bfe5eb38>]"
      ]
     },
     "execution_count": 79,
     "metadata": {},
     "output_type": "execute_result"
    },
    {
     "data": {
      "image/png": "[encoded data removed]",
      "text/plain": [
       "<Figure size 432x288 with 1 Axes>"
      ]
     },
     "metadata": {
      "needs_background": "light"
     },
     "output_type": "display_data"
    }
   ],
   "source": [
    "plt.plot(timeseries,DE_prediction, linewidth=0.5)"
   ]
  },
  {
   "cell_type": "code",
   "execution_count": 80,
   "metadata": {},
   "outputs": [
    {
     "name": "stdout",
     "output_type": "stream",
     "text": [
      "-9.113910304831391\n"
     ]
    }
   ],
   "source": [
    "print(r2_score(solargentestGB, DE_prediction))"
   ]
  },
  {
   "cell_type": "code",
   "execution_count": 81,
   "metadata": {},
   "outputs": [
    {
     "name": "stdout",
     "output_type": "stream",
     "text": [
      "24.673798749313775\n"
     ]
    }
   ],
   "source": [
    "#large number because we're deadling with large numbers\n",
    "print(mean_squared_error(solargentestGB, DE_prediction))"
   ]
  },
  {
   "cell_type": "code",
   "execution_count": 82,
   "metadata": {},
   "outputs": [
    {
     "name": "stdout",
     "output_type": "stream",
     "text": [
      "Energy Data measured in Giga Watts\n",
      "Total energy: 32886.87688519045\n",
      "Average Energy Per Hour: 3.754209690090234\n",
      "Average Energy Per Day: 90.10103256216563\n"
     ]
    }
   ],
   "source": [
    "energy_production(DE_prediction)"
   ]
  },
  {
   "cell_type": "code",
   "execution_count": null,
   "metadata": {},
   "outputs": [],
   "source": []
  }
 ],
 "metadata": {
  "kernelspec": {
   "display_name": "Python 3",
   "language": "python",
   "name": "python3"
  },
  "language_info": {
   "codemirror_mode": {
    "name": "ipython",
    "version": 3
   },
   "file_extension": ".py",
   "mimetype": "text/x-python",
   "name": "python",
   "nbconvert_exporter": "python",
   "pygments_lexer": "ipython3",
   "version": "3.7.3"
  }
 },
 "nbformat": 4,
 "nbformat_minor": 2
}
