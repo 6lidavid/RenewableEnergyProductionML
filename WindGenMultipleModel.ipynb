{
 "cells": [
  {
   "cell_type": "code",
   "execution_count": 1,
   "metadata": {},
   "outputs": [],
   "source": [
    "import pandas as pd\n",
    "import numpy as np\n",
    "import matplotlib.pyplot as plt\n",
    "%matplotlib inline"
   ]
  },
  {
   "cell_type": "code",
   "execution_count": 2,
   "metadata": {},
   "outputs": [],
   "source": [
    "country_list_x = ['FR','PL','DK','AT'] #Germany,Denmark ,Sweden \n",
    "country_list_y = ['FR','PL','DK','AT']\n",
    "radiation_data_list = []"
   ]
  },
  {
   "cell_type": "code",
   "execution_count": 3,
   "metadata": {},
   "outputs": [],
   "source": [
    "# energygenerationdata = pd.read_csv(\"data/time_series_60min_singleindex.csv\",\n",
    "#                         usecols=(lambda s: s.startswith('utc') | \n",
    "#                                  s.startswith('DE_solar') |\n",
    "#                                  s. startswith('DE_wind')),\n",
    "#                         parse_dates=[0], index_col=0)\n",
    "wind_gen_list = []\n",
    "for i in country_list_x:\n",
    "    i = i+\"_wind_onshore_generation\"\n",
    "    wind_gen_dat = pd.read_csv(\"data/time_series_60min_singleindex.csv\",\n",
    "                        usecols=(lambda s: s.startswith('utc') | \n",
    "                                 (s. startswith(i))),\n",
    "                        parse_dates=[0], index_col=0)# wind generation is measured in MW\n",
    "    wind_gen_list.append(wind_gen_dat)\n"
   ]
  },
  {
   "cell_type": "code",
   "execution_count": 4,
   "metadata": {
    "scrolled": true
   },
   "outputs": [
    {
     "name": "stdout",
     "output_type": "stream",
     "text": [
      "[                           FR_wind_onshore_generation_actual\n",
      "utc_timestamp                                               \n",
      "2004-12-31 23:00:00+00:00                                NaN\n",
      "2005-01-01 00:00:00+00:00                                NaN\n",
      "2005-01-01 01:00:00+00:00                                NaN\n",
      "2005-01-01 02:00:00+00:00                                NaN\n",
      "2005-01-01 03:00:00+00:00                                NaN\n",
      "...                                                      ...\n",
      "2019-04-30 19:00:00+00:00                                NaN\n",
      "2019-04-30 20:00:00+00:00                                NaN\n",
      "2019-04-30 21:00:00+00:00                                NaN\n",
      "2019-04-30 22:00:00+00:00                                NaN\n",
      "2019-04-30 23:00:00+00:00                                NaN\n",
      "\n",
      "[125593 rows x 1 columns],                            PL_wind_onshore_generation_actual\n",
      "utc_timestamp                                               \n",
      "2004-12-31 23:00:00+00:00                                NaN\n",
      "2005-01-01 00:00:00+00:00                                NaN\n",
      "2005-01-01 01:00:00+00:00                                NaN\n",
      "2005-01-01 02:00:00+00:00                                NaN\n",
      "2005-01-01 03:00:00+00:00                                NaN\n",
      "...                                                      ...\n",
      "2019-04-30 19:00:00+00:00                                NaN\n",
      "2019-04-30 20:00:00+00:00                                NaN\n",
      "2019-04-30 21:00:00+00:00                                NaN\n",
      "2019-04-30 22:00:00+00:00                                NaN\n",
      "2019-04-30 23:00:00+00:00                                NaN\n",
      "\n",
      "[125593 rows x 1 columns],                            DK_wind_onshore_generation_actual\n",
      "utc_timestamp                                               \n",
      "2004-12-31 23:00:00+00:00                                NaN\n",
      "2005-01-01 00:00:00+00:00                                NaN\n",
      "2005-01-01 01:00:00+00:00                                NaN\n",
      "2005-01-01 02:00:00+00:00                                NaN\n",
      "2005-01-01 03:00:00+00:00                                NaN\n",
      "...                                                      ...\n",
      "2019-04-30 19:00:00+00:00                                NaN\n",
      "2019-04-30 20:00:00+00:00                                NaN\n",
      "2019-04-30 21:00:00+00:00                                NaN\n",
      "2019-04-30 22:00:00+00:00                                NaN\n",
      "2019-04-30 23:00:00+00:00                                NaN\n",
      "\n",
      "[125593 rows x 1 columns],                            AT_wind_onshore_generation_actual\n",
      "utc_timestamp                                               \n",
      "2004-12-31 23:00:00+00:00                                NaN\n",
      "2005-01-01 00:00:00+00:00                                NaN\n",
      "2005-01-01 01:00:00+00:00                                NaN\n",
      "2005-01-01 02:00:00+00:00                                NaN\n",
      "2005-01-01 03:00:00+00:00                                NaN\n",
      "...                                                      ...\n",
      "2019-04-30 19:00:00+00:00                             1787.0\n",
      "2019-04-30 20:00:00+00:00                             1917.0\n",
      "2019-04-30 21:00:00+00:00                             2218.0\n",
      "2019-04-30 22:00:00+00:00                             2496.0\n",
      "2019-04-30 23:00:00+00:00                             2532.0\n",
      "\n",
      "[125593 rows x 1 columns]]\n"
     ]
    }
   ],
   "source": [
    "print(wind_gen_list)"
   ]
  },
  {
   "cell_type": "code",
   "execution_count": 5,
   "metadata": {},
   "outputs": [],
   "source": [
    "# weatherdata = pd.read_csv(\"data/weather_data.csv\",\n",
    "#                 usecols=(lambda s: s.startswith('utc') | \n",
    "#                          s.startswith('DE')),\n",
    "#                 parse_dates=[0], index_col=0)"
   ]
  },
  {
   "cell_type": "code",
   "execution_count": 6,
   "metadata": {
    "scrolled": true
   },
   "outputs": [
    {
     "name": "stdout",
     "output_type": "stream",
     "text": [
      "                           FR_windspeed_10m\n",
      "utc_timestamp                              \n",
      "1980-01-01 00:00:00+00:00              2.67\n",
      "1980-01-01 01:00:00+00:00              2.58\n",
      "1980-01-01 02:00:00+00:00              2.52\n",
      "1980-01-01 03:00:00+00:00              2.49\n",
      "1980-01-01 04:00:00+00:00              2.48\n",
      "...                                     ...\n",
      "2016-12-31 19:00:00+00:00              2.42\n",
      "2016-12-31 20:00:00+00:00              2.55\n",
      "2016-12-31 21:00:00+00:00              2.62\n",
      "2016-12-31 22:00:00+00:00              2.69\n",
      "2016-12-31 23:00:00+00:00              2.74\n",
      "\n",
      "[324360 rows x 1 columns]\n",
      "                           PL_windspeed_10m\n",
      "utc_timestamp                              \n",
      "1980-01-01 00:00:00+00:00              3.57\n",
      "1980-01-01 01:00:00+00:00              3.50\n",
      "1980-01-01 02:00:00+00:00              3.49\n",
      "1980-01-01 03:00:00+00:00              3.47\n",
      "1980-01-01 04:00:00+00:00              3.34\n",
      "...                                     ...\n",
      "2016-12-31 19:00:00+00:00              5.68\n",
      "2016-12-31 20:00:00+00:00              5.73\n",
      "2016-12-31 21:00:00+00:00              5.74\n",
      "2016-12-31 22:00:00+00:00              5.76\n",
      "2016-12-31 23:00:00+00:00              5.77\n",
      "\n",
      "[324360 rows x 1 columns]\n",
      "                           DK_windspeed_10m\n",
      "utc_timestamp                              \n",
      "1980-01-01 00:00:00+00:00              4.18\n",
      "1980-01-01 01:00:00+00:00              4.19\n",
      "1980-01-01 02:00:00+00:00              4.16\n",
      "1980-01-01 03:00:00+00:00              4.06\n",
      "1980-01-01 04:00:00+00:00              3.92\n",
      "...                                     ...\n",
      "2016-12-31 19:00:00+00:00              9.52\n",
      "2016-12-31 20:00:00+00:00              9.74\n",
      "2016-12-31 21:00:00+00:00              9.93\n",
      "2016-12-31 22:00:00+00:00              9.98\n",
      "2016-12-31 23:00:00+00:00             10.12\n",
      "\n",
      "[324360 rows x 1 columns]\n",
      "                           AT_windspeed_10m\n",
      "utc_timestamp                              \n",
      "1980-01-01 00:00:00+00:00              4.08\n",
      "1980-01-01 01:00:00+00:00              4.03\n",
      "1980-01-01 02:00:00+00:00              4.14\n",
      "1980-01-01 03:00:00+00:00              4.38\n",
      "1980-01-01 04:00:00+00:00              4.48\n",
      "...                                     ...\n",
      "2016-12-31 19:00:00+00:00              2.44\n",
      "2016-12-31 20:00:00+00:00              2.45\n",
      "2016-12-31 21:00:00+00:00              2.42\n",
      "2016-12-31 22:00:00+00:00              2.48\n",
      "2016-12-31 23:00:00+00:00              2.45\n",
      "\n",
      "[324360 rows x 1 columns]\n"
     ]
    }
   ],
   "source": [
    "windspeed_list =[]\n",
    "for i in country_list_y:\n",
    "    i = i + \"_windspeed\"\n",
    "    windspeed = pd.read_csv(\"data/weather_data.csv\",\n",
    "                usecols=(lambda s: s.startswith('utc') | \n",
    "                         s.startswith(i)),\n",
    "                parse_dates=[0], index_col=0)\n",
    "    print(windspeed)\n",
    "    windspeed_list.append(windspeed)"
   ]
  },
  {
   "cell_type": "code",
   "execution_count": 7,
   "metadata": {},
   "outputs": [
    {
     "name": "stdout",
     "output_type": "stream",
     "text": [
      "4\n",
      "                           FR_windspeed_10m\n",
      "utc_timestamp                              \n",
      "1980-01-01 00:00:00+00:00              2.67\n",
      "1980-01-01 01:00:00+00:00              2.58\n",
      "1980-01-01 02:00:00+00:00              2.52\n",
      "1980-01-01 03:00:00+00:00              2.49\n",
      "1980-01-01 04:00:00+00:00              2.48\n",
      "...                                     ...\n",
      "2016-12-31 19:00:00+00:00              2.42\n",
      "2016-12-31 20:00:00+00:00              2.55\n",
      "2016-12-31 21:00:00+00:00              2.62\n",
      "2016-12-31 22:00:00+00:00              2.69\n",
      "2016-12-31 23:00:00+00:00              2.74\n",
      "\n",
      "[324360 rows x 1 columns]\n",
      "                           PL_windspeed_10m\n",
      "utc_timestamp                              \n",
      "1980-01-01 00:00:00+00:00              3.57\n",
      "1980-01-01 01:00:00+00:00              3.50\n",
      "1980-01-01 02:00:00+00:00              3.49\n",
      "1980-01-01 03:00:00+00:00              3.47\n",
      "1980-01-01 04:00:00+00:00              3.34\n",
      "...                                     ...\n",
      "2016-12-31 19:00:00+00:00              5.68\n",
      "2016-12-31 20:00:00+00:00              5.73\n",
      "2016-12-31 21:00:00+00:00              5.74\n",
      "2016-12-31 22:00:00+00:00              5.76\n",
      "2016-12-31 23:00:00+00:00              5.77\n",
      "\n",
      "[324360 rows x 1 columns]\n"
     ]
    }
   ],
   "source": [
    "print(len(windspeed_list))\n",
    "for i in range(0,2):\n",
    "    print(windspeed_list[i])"
   ]
  },
  {
   "cell_type": "code",
   "execution_count": null,
   "metadata": {},
   "outputs": [],
   "source": []
  },
  {
   "cell_type": "code",
   "execution_count": 8,
   "metadata": {},
   "outputs": [],
   "source": [
    "#creating training data but cutting the data based on time stamp\n",
    "# start_remove = pd.to_datetime('2016-01-01')\n",
    "# end_remove = pd.to_datetime('2017-01-01')\n",
    "# windspeedformatted = windspeed.loc[(windspeed.index >= start_remove)]\n",
    "# windgenerationdataformatted = windgenerationdata.loc[(windgenerationdata.index >= start_remove) & (windgenerationdata.index < end_remove)]\n",
    "\n",
    "# start_remove = pd.to_datetime('2015-01-01')\n",
    "# end_remove = pd.to_datetime('2016-01-01')\n",
    "# windspeedformatted = windspeed.loc[(windspeed.index >= start_remove)]\n",
    "# windgenerationdataformatted = windgenerationdata.loc[(windgenerationdata.index >= start_remove) & (windgenerationdata.index < end_remove)]\n",
    "\n",
    "\n",
    "# training and data set\n",
    "\n",
    "# start_remove = pd.to_datetime('2015-01-01')\n",
    "# end_remove = pd.to_datetime('2016-12-01')\n",
    "# windspeedformatted = windspeed.loc[(windspeed.index >= start_remove) & (windspeed.index < end_remove)]\n",
    "# windgenerationdataformatted = windgenerationdata.loc[(windgenerationdata.index >= start_remove) & (windgenerationdata.index < end_remove)]\n",
    "\n",
    "# start_test = pd.to_datetime('2016-12-01')\n",
    "# end_test = pd.to_datetime('2017-01-01')\n",
    "# windspeedtest = windspeed.loc[(windspeed.index >= start_test)]\n",
    "# windgenerationtest = windgenerationdata.loc[(windgenerationdata.index >= start_test) & (windgenerationdata.index < end_test)]\n",
    "#Creating data for multiple models\n",
    "windspeedtrain = []\n",
    "windspeedtest = []\n",
    "windgentrain =[]\n",
    "windgentest = []\n",
    "start_remove = pd.to_datetime('2016-01-01',utc=True)\n",
    "end_remove = pd.to_datetime('2017-01-01',utc=True)\n",
    "for i in range(0,len(windspeed_list)): #Create xtrain\n",
    "    current_item = windspeed_list[i]\n",
    "    windspeedtrain.append(current_item.loc[(current_item.index >= start_remove) & (current_item.index < end_remove)])\n",
    "\n",
    "for i in range(0,len(windspeed_list)): #Create ytrain\n",
    "    current_item = wind_gen_list[i]\n",
    "    windgentrain.append(current_item.loc[(current_item.index >= start_remove) & (current_item.index < end_remove)])\n",
    "\n",
    "start_test = pd.to_datetime('2015-01-01',utc=True)\n",
    "end_test = pd.to_datetime('2016-01-01',utc=True)\n",
    "\n",
    "for i in range(0,len(windspeed_list)): # Create xtest\n",
    "    current_item = windspeed_list[i]\n",
    "    windspeedtest.append(current_item.loc[(current_item.index >= start_test) & (current_item.index < end_test)])\n",
    "\n",
    "for i in range(0,len(windspeed_list)): # Create ytest\n",
    "    current_item = windspeed_list[i]\n",
    "    windgentest.append(current_item.loc[(current_item.index >= start_test) & (current_item.index < end_test)])\n"
   ]
  },
  {
   "cell_type": "code",
   "execution_count": 9,
   "metadata": {},
   "outputs": [],
   "source": [
    "\n",
    "#windspeedformatted.replace([np.inf, -np.inf], 0)"
   ]
  },
  {
   "cell_type": "code",
   "execution_count": 10,
   "metadata": {},
   "outputs": [],
   "source": [
    "#creating test/comparison data\n",
    "# start_test = pd.to_datetime('2015-01-01')\n",
    "# end_test = pd.to_datetime('2016-01-01')\n",
    "# windspeedtest = windspeed.loc[(windspeed.index >= start_test) & (windspeed.index < end_test)]\n",
    "# windgenerationtest = windgenerationdata.loc[(windgenerationdata.index >= start_test) & (windgenerationdata.index < end_test)]"
   ]
  },
  {
   "cell_type": "code",
   "execution_count": 11,
   "metadata": {},
   "outputs": [],
   "source": [
    "#windspeedformatted.dtypes"
   ]
  },
  {
   "cell_type": "code",
   "execution_count": 12,
   "metadata": {},
   "outputs": [],
   "source": [
    "#windgenerationdataformatted"
   ]
  },
  {
   "cell_type": "code",
   "execution_count": 13,
   "metadata": {},
   "outputs": [],
   "source": [
    "#max(windgenerationdataformatted['DE_wind_generation_actual'])"
   ]
  },
  {
   "cell_type": "code",
   "execution_count": 14,
   "metadata": {},
   "outputs": [],
   "source": [
    "#min(windgenerationdataformatted['DE_wind_generation_actual'])"
   ]
  },
  {
   "cell_type": "code",
   "execution_count": 15,
   "metadata": {},
   "outputs": [],
   "source": [
    "#windgenerationdataformatted = windgenerationdataformatted * 1e-3"
   ]
  },
  {
   "cell_type": "code",
   "execution_count": 16,
   "metadata": {},
   "outputs": [],
   "source": [
    "#windgenerationtest = windgenerationtest * 1e-3"
   ]
  },
  {
   "cell_type": "code",
   "execution_count": 17,
   "metadata": {},
   "outputs": [],
   "source": [
    "#windgenerationtest"
   ]
  },
  {
   "cell_type": "code",
   "execution_count": 18,
   "metadata": {},
   "outputs": [],
   "source": [
    "from sklearn.linear_model import LinearRegression\n",
    "from sklearn.model_selection import train_test_split"
   ]
  },
  {
   "cell_type": "code",
   "execution_count": 19,
   "metadata": {},
   "outputs": [],
   "source": [
    "#train test might not be valid for our case because we have timestamps in play\n",
    "# xtr, xts, ytr, yts = train_test_split(windspeedformatted,windgenerationdataformatted, test_size = 0.33)"
   ]
  },
  {
   "cell_type": "code",
   "execution_count": 20,
   "metadata": {},
   "outputs": [],
   "source": [
    "#inital model training attempt\n",
    "# model = LinearRegression().fit(xtr,ytr)\n",
    "# predicted = model.predict(windspeedformatted)"
   ]
  },
  {
   "cell_type": "code",
   "execution_count": 21,
   "metadata": {},
   "outputs": [],
   "source": [
    "#attempt at cross validation\n",
    "# from sklearn.model_selection import cross_val_score\n",
    "\n",
    "# model = LinearRegression()\n",
    "\n",
    "# scores_wind = cross_val_score(model, windspeedformatted, windgenerationdataformatted, cv=5)\n",
    "# print(scores_wind, \"\\naverage =\", np.mean(scores_wind))"
   ]
  },
  {
   "cell_type": "code",
   "execution_count": 22,
   "metadata": {},
   "outputs": [],
   "source": [
    "#predict using train test split data\n",
    "# predicted = model.predict(xts)"
   ]
  },
  {
   "cell_type": "code",
   "execution_count": 23,
   "metadata": {},
   "outputs": [],
   "source": [
    "# predicted"
   ]
  },
  {
   "cell_type": "code",
   "execution_count": 24,
   "metadata": {},
   "outputs": [],
   "source": [
    "#error when using model from cross validation\n",
    "# predicted = model.predict(windspeedformatted)"
   ]
  },
  {
   "cell_type": "code",
   "execution_count": 25,
   "metadata": {},
   "outputs": [],
   "source": [
    "#timeseries used as x axis when plotting predicted\n",
    "# timeseries = pd.date_range('2016-01-01', '2016-12-31 23:00:00', freq='H')"
   ]
  },
  {
   "cell_type": "code",
   "execution_count": 26,
   "metadata": {},
   "outputs": [],
   "source": [
    "# timeseries"
   ]
  },
  {
   "cell_type": "code",
   "execution_count": 27,
   "metadata": {},
   "outputs": [],
   "source": [
    "# windgenerationdataformatted.plot(linewidth=0.5)"
   ]
  },
  {
   "cell_type": "code",
   "execution_count": 28,
   "metadata": {
    "scrolled": true
   },
   "outputs": [],
   "source": [
    "# I think this is an invalid test because using entire dataset in the predict but the training data is from that same set\n",
    "# plt.plot(timeseries,predicted, linewidth=0.5)"
   ]
  },
  {
   "cell_type": "code",
   "execution_count": 29,
   "metadata": {},
   "outputs": [
    {
     "data": {
      "text/plain": [
       "'\\nTodo:\\ntake in weather data and generation data\\nseparate data into two sets:\\nSolar\\nX = [sun related weather columns] \\nY = wind_generation_actual\\nWind:\\nX = [wind related weather columns] \\nY = sun_generation_actual\\n\\nTrim data based on timestamp\\nWind generation begins at 2010-01-01\\nHowever there are values with NaN.\\nNo wind data past 2016\\nOnly valid times for dataset is 2015-01-01 to 2017\\n\\nSolar generation begins at 2012-01-01\\n\\nTo try: if there are timestamps do I have to format data?\\n'"
      ]
     },
     "execution_count": 29,
     "metadata": {},
     "output_type": "execute_result"
    }
   ],
   "source": [
    "'''\n",
    "Todo:\n",
    "take in weather data and generation data\n",
    "separate data into two sets:\n",
    "Solar\n",
    "X = [sun related weather columns] \n",
    "Y = wind_generation_actual\n",
    "Wind:\n",
    "X = [wind related weather columns] \n",
    "Y = sun_generation_actual\n",
    "\n",
    "Trim data based on timestamp\n",
    "Wind generation begins at 2010-01-01\n",
    "However there are values with NaN.\n",
    "No wind data past 2016\n",
    "Only valid times for dataset is 2015-01-01 to 2017\n",
    "\n",
    "Solar generation begins at 2012-01-01\n",
    "\n",
    "To try: if there are timestamps do I have to format data?\n",
    "'''"
   ]
  },
  {
   "cell_type": "code",
   "execution_count": null,
   "metadata": {},
   "outputs": [],
   "source": []
  },
  {
   "cell_type": "code",
   "execution_count": 30,
   "metadata": {},
   "outputs": [],
   "source": [
    "def energy_production(energy):\n",
    "    total_energy = np.sum(energy)\n",
    "    avg_energy_per_hour = total_energy / energy.shape[0]\n",
    "    avg_energy_per_day = total_energy / (energy.shape[0] / 24)\n",
    "    print(\"Energy Data measured in Giga Watts\")\n",
    "    print(\"Total energy:\", total_energy)\n",
    "    print(\"Average Energy Per Hour:\", avg_energy_per_hour)\n",
    "    print(\"Average Energy Per Day:\", avg_energy_per_day)"
   ]
  },
  {
   "cell_type": "code",
   "execution_count": 31,
   "metadata": {},
   "outputs": [],
   "source": [
    "timeseries = pd.date_range('2016-01-01', '2016-12-31 23:00:00', freq='H')"
   ]
  },
  {
   "cell_type": "code",
   "execution_count": 32,
   "metadata": {},
   "outputs": [],
   "source": [
    "for i in range (0,4):\n",
    "\n",
    "    windspeedtest[i] = windspeedtest[i].rename({\"utc_timestamp\": \"timestamp\", country_list_x[i]+\"_windspeed_10m\": \"windspeed\"}, axis='columns')"
   ]
  },
  {
   "cell_type": "code",
   "execution_count": 33,
   "metadata": {},
   "outputs": [],
   "source": [
    "for i in range (0,4):\n",
    "\n",
    "    windspeedtrain[i] = windspeedtrain[i].rename({\"utc_timestamp\": \"timestamp\", country_list_x[i]+\"_windspeed_10m\": \"windspeed\"}, axis='columns')"
   ]
  },
  {
   "cell_type": "code",
   "execution_count": 34,
   "metadata": {},
   "outputs": [],
   "source": [
    "for i in range (0,4):\n",
    "\n",
    "    windgentrain[i] = windgentrain[i].rename({\"utc_timestamp\": \"timestamp\", country_list_y[i]+\"_wind_onshore_generation_actual\": \"wind_generation\"}, axis='columns')"
   ]
  },
  {
   "cell_type": "code",
   "execution_count": 35,
   "metadata": {},
   "outputs": [],
   "source": [
    "for i in range(0,4):\n",
    "    windgentest[i] = windgentest[i].rename({\"utc_timestamp\": \"timestamp\", country_list_y[i]+\"_wind_onshore_generation_actual\": \"wind_generation\"}, axis='columns')"
   ]
  },
  {
   "cell_type": "code",
   "execution_count": 36,
   "metadata": {},
   "outputs": [],
   "source": [
    "model_list = []\n",
    "for i in range (0,len(windspeedtrain)): #create multiple models\n",
    "    model = LinearRegression().fit(windspeedtrain[i],windgentrain[i])\n",
    "    model_list.append(model)"
   ]
  },
  {
   "cell_type": "markdown",
   "metadata": {},
   "source": []
  },
  {
   "cell_type": "code",
   "execution_count": 37,
   "metadata": {},
   "outputs": [],
   "source": [
    "#concatenate all the data\n"
   ]
  },
  {
   "cell_type": "code",
   "execution_count": null,
   "metadata": {},
   "outputs": [],
   "source": []
  },
  {
   "cell_type": "code",
   "execution_count": 38,
   "metadata": {},
   "outputs": [],
   "source": [
    "prediction_list = [[],[],[],[]]\n",
    "#prediction_array = np.zeros((4,4)) # Rows = Predictions per country\n",
    "#Columns = Predictions per test set\n",
    "for i in range (0,4):# Predict each model separately, then average the predictions\n",
    "    for j in range(0,4):\n",
    "        prediction = model_list[i].predict(windspeedtest[j])\n",
    "        prediction_list[i].append(prediction)\n"
   ]
  },
  {
   "cell_type": "code",
   "execution_count": 39,
   "metadata": {},
   "outputs": [
    {
     "name": "stdout",
     "output_type": "stream",
     "text": [
      "(4, 8760, 1)\n",
      "(4, 8760)\n"
     ]
    }
   ],
   "source": [
    "average_pred = np.average(prediction_list, axis = 0) #Average out our predictions per country\n",
    "print(np.average(prediction_list,axis = 0).shape)\n",
    "average_pred = average_pred.reshape(4,8760)\n",
    "print(average_pred.shape) # Has an extra dimension\n"
   ]
  },
  {
   "cell_type": "code",
   "execution_count": 40,
   "metadata": {},
   "outputs": [
    {
     "name": "stdout",
     "output_type": "stream",
     "text": [
      "(8760,)\n"
     ]
    }
   ],
   "source": [
    "timeseries = pd.date_range('2015-01-01', '2015-12-31 23:00:00', freq='H')\n",
    "print(timeseries.shape)"
   ]
  },
  {
   "cell_type": "code",
   "execution_count": 41,
   "metadata": {},
   "outputs": [
    {
     "name": "stdout",
     "output_type": "stream",
     "text": [
      "Energy Data measured in Giga Watts\n",
      "Total energy: 12291920.884042248\n",
      "Average Energy Per Hour: 1403.187315529937\n",
      "Average Energy Per Day: 33676.495572718486\n"
     ]
    },
    {
     "name": "stderr",
     "output_type": "stream",
     "text": [
      "C:\\Users\\ezhu2\\Anaconda3\\lib\\site-packages\\pandas\\plotting\\_matplotlib\\converter.py:103: FutureWarning: Using an implicitly registered datetime converter for a matplotlib plotting method. The converter was registered by pandas on import. Future versions of pandas will require you to explicitly register matplotlib converters.\n",
      "\n",
      "To register the converters:\n",
      "\t>>> from pandas.plotting import register_matplotlib_converters\n",
      "\t>>> register_matplotlib_converters()\n",
      "  warnings.warn(msg, FutureWarning)\n"
     ]
    },
    {
     "data": {
      "image/png": "[encoded data removed]",
      "text/plain": [
       "<Figure size 432x288 with 1 Axes>"
      ]
     },
     "metadata": {
      "needs_background": "light"
     },
     "output_type": "display_data"
    }
   ],
   "source": [
    "france_gen = average_pred[0]  #Individual countries results\n",
    "plt.plot(timeseries,france_gen)\n",
    "plt.ylabel('Energy output')\n",
    "energy_production(france_gen)"
   ]
  },
  {
   "cell_type": "code",
   "execution_count": 42,
   "metadata": {},
   "outputs": [
    {
     "name": "stdout",
     "output_type": "stream",
     "text": [
      "Energy Data measured in Giga Watts\n",
      "Total energy: 13756702.194102883\n",
      "Average Energy Per Hour: 1570.399793847361\n",
      "Average Energy Per Day: 37689.59505233667\n"
     ]
    },
    {
     "data": {
      "image/png": "[encoded data removed]",
      "text/plain": [
       "<Figure size 432x288 with 1 Axes>"
      ]
     },
     "metadata": {
      "needs_background": "light"
     },
     "output_type": "display_data"
    }
   ],
   "source": [
    "pol_gen = average_pred[1]  #Individual countries results\n",
    "plt.plot(timeseries,pol_gen)\n",
    "plt.ylabel('Energy output')\n",
    "energy_production(pol_gen)"
   ]
  },
  {
   "cell_type": "code",
   "execution_count": 43,
   "metadata": {},
   "outputs": [
    {
     "name": "stdout",
     "output_type": "stream",
     "text": [
      "Energy Data measured in Giga Watts\n",
      "Total energy: 22781729.554697774\n",
      "Average Energy Per Hour: 2600.6540587554537\n",
      "Average Energy Per Day: 62415.69741013089\n"
     ]
    },
    {
     "data": {
      "image/png": "[encoded data removed]",
      "text/plain": [
       "<Figure size 432x288 with 1 Axes>"
      ]
     },
     "metadata": {
      "needs_background": "light"
     },
     "output_type": "display_data"
    }
   ],
   "source": [
    "dk_gen = average_pred[2]  #Individual countries results\n",
    "plt.plot(timeseries,dk_gen)\n",
    "plt.ylabel('Energy output')\n",
    "energy_production(dk_gen)"
   ]
  },
  {
   "cell_type": "code",
   "execution_count": 44,
   "metadata": {},
   "outputs": [
    {
     "name": "stdout",
     "output_type": "stream",
     "text": [
      "Energy Data measured in Giga Watts\n",
      "Total energy: 5749078.318287896\n",
      "Average Energy Per Hour: 656.2874792566091\n",
      "Average Energy Per Day: 15750.89950215862\n"
     ]
    },
    {
     "data": {
      "image/png": "[encoded data removed]",
      "text/plain": [
       "<Figure size 432x288 with 1 Axes>"
      ]
     },
     "metadata": {
      "needs_background": "light"
     },
     "output_type": "display_data"
    }
   ],
   "source": [
    "at_gen = average_pred[3]  #Individual countries results\n",
    "plt.plot(timeseries,at_gen)\n",
    "plt.ylabel('Energy output')\n",
    "energy_production(at_gen)"
   ]
  },
  {
   "cell_type": "code",
   "execution_count": null,
   "metadata": {},
   "outputs": [],
   "source": []
  },
  {
   "cell_type": "code",
   "execution_count": 45,
   "metadata": {},
   "outputs": [
    {
     "name": "stdout",
     "output_type": "stream",
     "text": [
      "-1190793.607502474 r2 score for FR\n",
      "-969014.4467554 r2 score for PL\n",
      "-1194984.1619561086 r2 score for DK\n",
      "-588550.7700411692 r2 score for AT\n"
     ]
    }
   ],
   "source": [
    "from sklearn.metrics import r2_score\n",
    "#print(r2_score(solargenerationtest, prediction))\n",
    "for i in range(0,4):\n",
    "    print(str(r2_score(windgentest[i],average_pred[i])) + \" r2 score for \" + country_list_x[i])"
   ]
  },
  {
   "cell_type": "code",
   "execution_count": 48,
   "metadata": {},
   "outputs": [
    {
     "name": "stdout",
     "output_type": "stream",
     "text": [
      "2702541.7329257824 mse for FR\n",
      "3709300.735101649 mse for PL\n",
      "9281872.747886084 mse for DK\n",
      "965974.4690300861 mse for AT\n"
     ]
    }
   ],
   "source": [
    "#large number because we're deadling with large numbers\n",
    "from sklearn.metrics import mean_squared_error\n",
    "for i in range(0,4):\n",
    "    print(str(mean_squared_error(windgentest[i],average_pred[i] )) + \" mse for \" + country_list_x[i] )"
   ]
  },
  {
   "cell_type": "code",
   "execution_count": 49,
   "metadata": {},
   "outputs": [
    {
     "name": "stdout",
     "output_type": "stream",
     "text": [
      "FR_windspeed_10m    2.669881e+09\n",
      "dtype: float64\n",
      "PL_windspeed_10m    3.166244e+09\n",
      "dtype: float64\n"
     ]
    }
   ],
   "source": [
    "for i in range(0,2):\n",
    "    \n",
    "    print(np.sum((windgentest[i]-prediction[i])**2)/(prediction[i].shape[0]))"
   ]
  },
  {
   "cell_type": "code",
   "execution_count": null,
   "metadata": {},
   "outputs": [],
   "source": [
    "'''\n",
    "To do:\n",
    "Figure out mse (maybe normalize)\n",
    "figure out cross validation fitting\n",
    "Incorportate more data (more times and more regions)\n",
    "\n",
    "NN model experimentation\n",
    "\n",
    "Expand to solar generation\n",
    "'''"
   ]
  },
  {
   "cell_type": "code",
   "execution_count": null,
   "metadata": {},
   "outputs": [],
   "source": []
  },
  {
   "cell_type": "code",
   "execution_count": null,
   "metadata": {},
   "outputs": [],
   "source": [
    "# np.where((windspeedformatted.values).dtype != np.float64)"
   ]
  },
  {
   "cell_type": "code",
   "execution_count": null,
   "metadata": {},
   "outputs": [],
   "source": [
    "# 3.3706 != np.float64"
   ]
  },
  {
   "cell_type": "code",
   "execution_count": null,
   "metadata": {},
   "outputs": [],
   "source": [
    "# windspeedformatted.values"
   ]
  },
  {
   "cell_type": "code",
   "execution_count": null,
   "metadata": {},
   "outputs": [],
   "source": [
    "# windspeedformatted.values.dtype != np.float64"
   ]
  },
  {
   "cell_type": "code",
   "execution_count": null,
   "metadata": {},
   "outputs": [],
   "source": []
  }
 ],
 "metadata": {
  "kernelspec": {
   "display_name": "Python 3",
   "language": "python",
   "name": "python3"
  },
  "language_info": {
   "codemirror_mode": {
    "name": "ipython",
    "version": 3
   },
   "file_extension": ".py",
   "mimetype": "text/x-python",
   "name": "python",
   "nbconvert_exporter": "python",
   "pygments_lexer": "ipython3",
   "version": "3.7.4"
  }
 },
 "nbformat": 4,
 "nbformat_minor": 2
}
