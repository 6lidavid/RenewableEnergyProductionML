{
 "cells": [
  {
   "cell_type": "code",
   "execution_count": 1,
   "metadata": {},
   "outputs": [],
   "source": [
    "import pandas as pd\n",
    "import numpy as np\n",
    "import matplotlib.pyplot as plt\n",
    "%matplotlib inline"
   ]
  },
  {
   "cell_type": "code",
   "execution_count": 2,
   "metadata": {},
   "outputs": [],
   "source": [
    "#Creating a list of countries to make models of \n",
    "country_list_sol = ['DE','DK_1','GB_GBN','SE'] #Germany,Denmark ,Great Britain,Sweden \n",
    "country_list_rad = ['DE','DK','GB','SE']\n",
    "solar_gen_data_list =[]\n",
    "radiation_data_list = []"
   ]
  },
  {
   "cell_type": "code",
   "execution_count": 3,
   "metadata": {},
   "outputs": [],
   "source": [
    "solar_gen_data_list = []\n",
    "# energygenerationdata = pd.read_csv(\"data/time_series_60min_singleindex.csv\",\n",
    "#                         usecols=(lambda s: s.startswith('utc') | \n",
    "#                                  s.startswith('DE_solar') |\n",
    "#                                  s. startswith('DE_wind')),\n",
    "#                         parse_dates=[0], index_col=0)\n",
    "\n",
    "# windgenerationdata = pd.read_csv(\"data/time_series_60min_singleindex.csv\",\n",
    "#                         usecols=(lambda s: s.startswith('utc') | \n",
    "#                                  s. startswith('DE_wind_generation')),\n",
    "#                         parse_dates=[0], index_col=0)\n",
    "\n",
    "for i in country_list_sol:\n",
    "    column_name = i +\"_solar_generation_actual\"\n",
    "    solargenerationdata = pd.read_csv(\"data/time_series_60min_singleindex.csv\",\n",
    "                        usecols=(lambda s: s.startswith('utc') | \n",
    "                                 (s.startswith(column_name) &\n",
    "                                  s.endswith(\"generation_actual\"))),\n",
    "                        parse_dates=[0], index_col=0)\n",
    "    \n",
    "    solar_gen_data_list.append(solargenerationdata)\n",
    "\n",
    "#solargenerationdata = pd.read_csv(\"data/time_series_60min_singleindex.csv\",\n",
    " #                       usecols=(lambda s: s.startswith('utc') | \n",
    "  ##                     parse_dates=[0], index_col=0)\n"
   ]
  },
  {
   "cell_type": "code",
   "execution_count": 4,
   "metadata": {},
   "outputs": [
    {
     "name": "stdout",
     "output_type": "stream",
     "text": [
      "4\n",
      "                           DE_solar_generation_actual\n",
      "utc_timestamp                                        \n",
      "2004-12-31 23:00:00+00:00                         NaN\n",
      "2005-01-01 00:00:00+00:00                         NaN\n",
      "2005-01-01 01:00:00+00:00                         NaN\n",
      "2005-01-01 02:00:00+00:00                         NaN\n",
      "2005-01-01 03:00:00+00:00                         NaN\n",
      "...                                               ...\n",
      "2019-04-30 19:00:00+00:00                         NaN\n",
      "2019-04-30 20:00:00+00:00                         NaN\n",
      "2019-04-30 21:00:00+00:00                         NaN\n",
      "2019-04-30 22:00:00+00:00                         NaN\n",
      "2019-04-30 23:00:00+00:00                         NaN\n",
      "\n",
      "[125593 rows x 1 columns]\n",
      "                           DK_1_solar_generation_actual\n",
      "utc_timestamp                                          \n",
      "2004-12-31 23:00:00+00:00                           NaN\n",
      "2005-01-01 00:00:00+00:00                           NaN\n",
      "2005-01-01 01:00:00+00:00                           NaN\n",
      "2005-01-01 02:00:00+00:00                           NaN\n",
      "2005-01-01 03:00:00+00:00                           NaN\n",
      "...                                                 ...\n",
      "2019-04-30 19:00:00+00:00                           NaN\n",
      "2019-04-30 20:00:00+00:00                           NaN\n",
      "2019-04-30 21:00:00+00:00                           NaN\n",
      "2019-04-30 22:00:00+00:00                           NaN\n",
      "2019-04-30 23:00:00+00:00                           NaN\n",
      "\n",
      "[125593 rows x 1 columns]\n",
      "                           GB_GBN_solar_generation_actual\n",
      "utc_timestamp                                            \n",
      "2004-12-31 23:00:00+00:00                             NaN\n",
      "2005-01-01 00:00:00+00:00                             NaN\n",
      "2005-01-01 01:00:00+00:00                             NaN\n",
      "2005-01-01 02:00:00+00:00                             NaN\n",
      "2005-01-01 03:00:00+00:00                             NaN\n",
      "...                                                   ...\n",
      "2019-04-30 19:00:00+00:00                             NaN\n",
      "2019-04-30 20:00:00+00:00                             NaN\n",
      "2019-04-30 21:00:00+00:00                             NaN\n",
      "2019-04-30 22:00:00+00:00                             NaN\n",
      "2019-04-30 23:00:00+00:00                             NaN\n",
      "\n",
      "[125593 rows x 1 columns]\n",
      "                           SE_solar_generation_actual\n",
      "utc_timestamp                                        \n",
      "2004-12-31 23:00:00+00:00                         NaN\n",
      "2005-01-01 00:00:00+00:00                         NaN\n",
      "2005-01-01 01:00:00+00:00                         NaN\n",
      "2005-01-01 02:00:00+00:00                         NaN\n",
      "2005-01-01 03:00:00+00:00                         NaN\n",
      "...                                               ...\n",
      "2019-04-30 19:00:00+00:00                         NaN\n",
      "2019-04-30 20:00:00+00:00                         NaN\n",
      "2019-04-30 21:00:00+00:00                         NaN\n",
      "2019-04-30 22:00:00+00:00                         NaN\n",
      "2019-04-30 23:00:00+00:00                         NaN\n",
      "\n",
      "[125593 rows x 1 columns]\n"
     ]
    }
   ],
   "source": [
    "print(len(solar_gen_data_list))\n",
    "for i in solar_gen_data_list:\n",
    "    print(i)"
   ]
  },
  {
   "cell_type": "code",
   "execution_count": 5,
   "metadata": {},
   "outputs": [],
   "source": [
    "radiation_data_list= []\n",
    "for i in country_list_rad:\n",
    "    i = i+ \"_radiation\"\n",
    "    radiationdata = pd.read_csv(\"data/weather_data.csv\",\n",
    "                        usecols=(lambda s: s.startswith('utc') | \n",
    "                                 (s.startswith(i) &\n",
    "                                  (s.endswith(\"radiation_direct_horizontal\") | s.endswith(\"radiation_diffuse_horizontal\")))),\n",
    "                        parse_dates=[0], index_col=0)\n",
    "    \n",
    "    radiation_data_list.append(radiationdata)\n",
    "\n",
    "#solardata = pd.read_csv(\"data/weather_data.csv\",\n",
    " #               usecols=(lambda s: s.startswith('utc') | \n",
    "  #                       s.startswith('DE_radiation_direct_horizontal') |\n",
    "   #                      s.startswith('DE_radiation_diffuse_horizontal')),\n",
    "        #        parse_dates=[0], index_col=0)"
   ]
  },
  {
   "cell_type": "code",
   "execution_count": 6,
   "metadata": {},
   "outputs": [
    {
     "name": "stdout",
     "output_type": "stream",
     "text": [
      "                           DE_radiation_direct_horizontal  \\\n",
      "utc_timestamp                                               \n",
      "1980-01-01 00:00:00+00:00                             0.0   \n",
      "1980-01-01 01:00:00+00:00                             0.0   \n",
      "1980-01-01 02:00:00+00:00                             0.0   \n",
      "1980-01-01 03:00:00+00:00                             0.0   \n",
      "1980-01-01 04:00:00+00:00                             0.0   \n",
      "...                                                   ...   \n",
      "2016-12-31 19:00:00+00:00                             0.0   \n",
      "2016-12-31 20:00:00+00:00                             0.0   \n",
      "2016-12-31 21:00:00+00:00                             0.0   \n",
      "2016-12-31 22:00:00+00:00                             0.0   \n",
      "2016-12-31 23:00:00+00:00                             0.0   \n",
      "\n",
      "                           DE_radiation_diffuse_horizontal  \n",
      "utc_timestamp                                               \n",
      "1980-01-01 00:00:00+00:00                              0.0  \n",
      "1980-01-01 01:00:00+00:00                              0.0  \n",
      "1980-01-01 02:00:00+00:00                              0.0  \n",
      "1980-01-01 03:00:00+00:00                              0.0  \n",
      "1980-01-01 04:00:00+00:00                              0.0  \n",
      "...                                                    ...  \n",
      "2016-12-31 19:00:00+00:00                              0.0  \n",
      "2016-12-31 20:00:00+00:00                              0.0  \n",
      "2016-12-31 21:00:00+00:00                              0.0  \n",
      "2016-12-31 22:00:00+00:00                              0.0  \n",
      "2016-12-31 23:00:00+00:00                              0.0  \n",
      "\n",
      "[324360 rows x 2 columns]\n",
      "                           DK_radiation_direct_horizontal  \\\n",
      "utc_timestamp                                               \n",
      "1980-01-01 00:00:00+00:00                             0.0   \n",
      "1980-01-01 01:00:00+00:00                             0.0   \n",
      "1980-01-01 02:00:00+00:00                             0.0   \n",
      "1980-01-01 03:00:00+00:00                             0.0   \n",
      "1980-01-01 04:00:00+00:00                             0.0   \n",
      "...                                                   ...   \n",
      "2016-12-31 19:00:00+00:00                             0.0   \n",
      "2016-12-31 20:00:00+00:00                             0.0   \n",
      "2016-12-31 21:00:00+00:00                             0.0   \n",
      "2016-12-31 22:00:00+00:00                             0.0   \n",
      "2016-12-31 23:00:00+00:00                             0.0   \n",
      "\n",
      "                           DK_radiation_diffuse_horizontal  \n",
      "utc_timestamp                                               \n",
      "1980-01-01 00:00:00+00:00                              0.0  \n",
      "1980-01-01 01:00:00+00:00                              0.0  \n",
      "1980-01-01 02:00:00+00:00                              0.0  \n",
      "1980-01-01 03:00:00+00:00                              0.0  \n",
      "1980-01-01 04:00:00+00:00                              0.0  \n",
      "...                                                    ...  \n",
      "2016-12-31 19:00:00+00:00                              0.0  \n",
      "2016-12-31 20:00:00+00:00                              0.0  \n",
      "2016-12-31 21:00:00+00:00                              0.0  \n",
      "2016-12-31 22:00:00+00:00                              0.0  \n",
      "2016-12-31 23:00:00+00:00                              0.0  \n",
      "\n",
      "[324360 rows x 2 columns]\n",
      "                           GB_radiation_direct_horizontal  \\\n",
      "utc_timestamp                                               \n",
      "1980-01-01 00:00:00+00:00                             0.0   \n",
      "1980-01-01 01:00:00+00:00                             0.0   \n",
      "1980-01-01 02:00:00+00:00                             0.0   \n",
      "1980-01-01 03:00:00+00:00                             0.0   \n",
      "1980-01-01 04:00:00+00:00                             0.0   \n",
      "...                                                   ...   \n",
      "2016-12-31 19:00:00+00:00                             0.0   \n",
      "2016-12-31 20:00:00+00:00                             0.0   \n",
      "2016-12-31 21:00:00+00:00                             0.0   \n",
      "2016-12-31 22:00:00+00:00                             0.0   \n",
      "2016-12-31 23:00:00+00:00                             0.0   \n",
      "\n",
      "                           GB_radiation_diffuse_horizontal  \n",
      "utc_timestamp                                               \n",
      "1980-01-01 00:00:00+00:00                              0.0  \n",
      "1980-01-01 01:00:00+00:00                              0.0  \n",
      "1980-01-01 02:00:00+00:00                              0.0  \n",
      "1980-01-01 03:00:00+00:00                              0.0  \n",
      "1980-01-01 04:00:00+00:00                              0.0  \n",
      "...                                                    ...  \n",
      "2016-12-31 19:00:00+00:00                              0.0  \n",
      "2016-12-31 20:00:00+00:00                              0.0  \n",
      "2016-12-31 21:00:00+00:00                              0.0  \n",
      "2016-12-31 22:00:00+00:00                              0.0  \n",
      "2016-12-31 23:00:00+00:00                              0.0  \n",
      "\n",
      "[324360 rows x 2 columns]\n",
      "                           SE_radiation_direct_horizontal  \\\n",
      "utc_timestamp                                               \n",
      "1980-01-01 00:00:00+00:00                             0.0   \n",
      "1980-01-01 01:00:00+00:00                             0.0   \n",
      "1980-01-01 02:00:00+00:00                             0.0   \n",
      "1980-01-01 03:00:00+00:00                             0.0   \n",
      "1980-01-01 04:00:00+00:00                             0.0   \n",
      "...                                                   ...   \n",
      "2016-12-31 19:00:00+00:00                             0.0   \n",
      "2016-12-31 20:00:00+00:00                             0.0   \n",
      "2016-12-31 21:00:00+00:00                             0.0   \n",
      "2016-12-31 22:00:00+00:00                             0.0   \n",
      "2016-12-31 23:00:00+00:00                             0.0   \n",
      "\n",
      "                           SE_radiation_diffuse_horizontal  \n",
      "utc_timestamp                                               \n",
      "1980-01-01 00:00:00+00:00                              0.0  \n",
      "1980-01-01 01:00:00+00:00                              0.0  \n",
      "1980-01-01 02:00:00+00:00                              0.0  \n",
      "1980-01-01 03:00:00+00:00                              0.0  \n",
      "1980-01-01 04:00:00+00:00                              0.0  \n",
      "...                                                    ...  \n",
      "2016-12-31 19:00:00+00:00                              0.0  \n",
      "2016-12-31 20:00:00+00:00                              0.0  \n",
      "2016-12-31 21:00:00+00:00                              0.0  \n",
      "2016-12-31 22:00:00+00:00                              0.0  \n",
      "2016-12-31 23:00:00+00:00                              0.0  \n",
      "\n",
      "[324360 rows x 2 columns]\n"
     ]
    }
   ],
   "source": [
    "#print output data of each country\n",
    "\n",
    "for i in radiation_data_list:\n",
    "    print(i)"
   ]
  },
  {
   "cell_type": "code",
   "execution_count": null,
   "metadata": {},
   "outputs": [],
   "source": []
  },
  {
   "cell_type": "code",
   "execution_count": 7,
   "metadata": {},
   "outputs": [],
   "source": [
    "#creating training data but cutting the data based on time stamp\n",
    "# start_remove = pd.to_datetime('2016-01-01')\n",
    "# end_remove = pd.to_datetime('2017-01-01')\n",
    "# windspeedformatted = windspeed.loc[(windspeed.index >= start_remove)]\n",
    "# windgenerationdataformatted = windgenerationdata.loc[(windgenerationdata.index >= start_remove) & (windgenerationdata.index < end_remove)]\n",
    "\n",
    "# start_remove = pd.to_datetime('2015-01-01')\n",
    "# end_remove = pd.to_datetime('2016-01-01')\n",
    "# windspeedformatted = windspeed.loc[(windspeed.index >= start_remove)]\n",
    "# windgenerationdataformatted = windgenerationdata.loc[(windgenerationdata.index >= start_remove) & (windgenerationdata.index < end_remove)]\n",
    "\n",
    "\n",
    "# training and data set\n",
    "\n",
    "# start_remove = pd.to_datetime('2015-01-01')\n",
    "# end_remove = pd.to_datetime('2016-12-01')\n",
    "# windspeedformatted = windspeed.loc[(windspeed.index >= start_remove) & (windspeed.index < end_remove)]\n",
    "# windgenerationdataformatted = windgenerationdata.loc[(windgenerationdata.index >= start_remove) & (windgenerationdata.index < end_remove)]\n",
    "\n",
    "# start_test = pd.to_datetime('2016-12-01')\n",
    "# end_test = pd.to_datetime('2017-01-01')\n",
    "# windspeedtest = windspeed.loc[(windspeed.index >= start_test)]\n",
    "# windgenerationtest = windgenerationdata.loc[(windgenerationdata.index >= start_test) & (windgenerationdata.index < end_test)]\n",
    "\n",
    "solardatatrain =[]\n",
    "solargentrain = []\n",
    "solardatatest = []\n",
    "solargentest = []\n",
    "# Cutting data based on time stamp, 2015-2016 for training, 2016-2017 for testing\n",
    "start_train = pd.to_datetime('2016-01-01',utc = True)\n",
    "end_train = pd.to_datetime('2017-01-01' , utc = True)\n",
    "for i in range(0,len(solar_gen_data_list)):\n",
    "    solargentrain.append(solar_gen_data_list[i].loc[(solar_gen_data_list[i].index >= start_train) & (solar_gen_data_list[i].index < end_train)])\n",
    "    solardatatrain.append(radiation_data_list[i].loc[(radiation_data_list[i].index >= start_train) &(radiation_data_list[i].index < end_train)])\n",
    "#solardatatrain = solardata.loc[(solardata.index >= start_train) & (solardata.index < end_train)]\n",
    "#solargenerationtrain = solargenerationdata.loc[(solargenerationdata.index >= start_train) & (solargenerationdata.index < end_train)]\n",
    "\n",
    "start_test = pd.to_datetime('2015-01-01', utc = True)\n",
    "end_test = pd.to_datetime('2016-01-01', utc = True)\n",
    "#solardatatest = solardata.loc[(solardata.index >= start_test)]\n",
    "#solargenerationtest = solargenerationdata.loc[(solargenerationdata.index >= start_test) & (solargenerationdata.index < end_test)]\n",
    "for i in range(0,len(solar_gen_data_list)):\n",
    "    solargentest.append(solar_gen_data_list[i].loc[(solar_gen_data_list[i].index >= start_test) & (solar_gen_data_list[i].index < end_test)])\n",
    "    solardatatest.append(radiation_data_list[i].loc[(radiation_data_list[i].index >= start_test) &(radiation_data_list[i].index < end_test)])"
   ]
  },
  {
   "cell_type": "code",
   "execution_count": 8,
   "metadata": {
    "scrolled": false
   },
   "outputs": [],
   "source": [
    "#for i in solardatatrain:\n",
    "#    print(i)\n",
    "#for j in solargentrain:\n",
    "#    print(j)\n",
    "#for k in solardatatest:\n",
    " #   print(k)\n",
    "#for l in solargentest:\n",
    " #   print(l)"
   ]
  },
  {
   "cell_type": "code",
   "execution_count": 9,
   "metadata": {},
   "outputs": [],
   "source": [
    "#creating test/comparison data\n",
    "# start_test = pd.to_datetime('2015-01-01')\n",
    "# end_test = pd.to_datetime('2016-01-01')\n",
    "# windspeedtest = windspeed.loc[(windspeed.index >= start_test) & (windspeed.index < end_test)]\n",
    "# windgenerationtest = windgenerationdata.loc[(windgenerationdata.index >= start_test) & (windgenerationdata.index < end_test)]"
   ]
  },
  {
   "cell_type": "code",
   "execution_count": 10,
   "metadata": {},
   "outputs": [
    {
     "name": "stdout",
     "output_type": "stream",
     "text": [
      "[   0    1    2 ... 3229 3230 3231]\n",
      "[0.000e+00 1.000e-03 2.000e-03 ... 3.229e+00 3.230e+00 3.231e+00]\n"
     ]
    }
   ],
   "source": [
    "testing  = np.arange(0,3232)\n",
    "print(testing)\n",
    "testing = testing *1e-3\n",
    "print(testing)"
   ]
  },
  {
   "cell_type": "code",
   "execution_count": 11,
   "metadata": {},
   "outputs": [],
   "source": [
    "from sklearn.linear_model import LinearRegression\n",
    "from sklearn.model_selection import train_test_split"
   ]
  },
  {
   "cell_type": "code",
   "execution_count": 12,
   "metadata": {},
   "outputs": [],
   "source": [
    "def energy_production(energy):\n",
    "    total_energy = np.sum(energy)\n",
    "    avg_energy_per_hour = total_energy / energy.shape[0]\n",
    "    avg_energy_per_day = total_energy / (energy.shape[0] / 24)\n",
    "    print(\"Energy Data measured in Giga Watts\")\n",
    "    print(\"Total energy:\", total_energy)\n",
    "    print(\"Average Energy Per Hour:\", avg_energy_per_hour)\n",
    "    print(\"Average Energy Per Day:\", avg_energy_per_day)"
   ]
  },
  {
   "cell_type": "code",
   "execution_count": 13,
   "metadata": {},
   "outputs": [],
   "source": [
    "model_list =[]\n",
    "for i in range(0,len(solardatatrain)):\n",
    "    model =LinearRegression().fit(solardatatrain[i],solargentrain[i])\n",
    "    model_list.append(model)"
   ]
  },
  {
   "cell_type": "code",
   "execution_count": 14,
   "metadata": {},
   "outputs": [],
   "source": [
    "#using the previously formatted data which is data from 2015\n",
    "#This is if we wish to test each model on separate data, which we are not doing\n",
    "#prediction_list = []\n",
    "#for i in range(0,len(solardatatrain)): # We have 4 items in solardata train\n",
    " #   prediction = model_list[i].predict(solardatatest[i])\n",
    "  #  prediction_list.append(prediction)\n"
   ]
  },
  {
   "cell_type": "code",
   "execution_count": 15,
   "metadata": {},
   "outputs": [
    {
     "name": "stdout",
     "output_type": "stream",
     "text": [
      "DE_radiation_direct_horizontal\n"
     ]
    }
   ],
   "source": [
    "print(country_list_rad[0]+\"_radiation_direct_horizontal\")"
   ]
  },
  {
   "cell_type": "code",
   "execution_count": 16,
   "metadata": {
    "scrolled": false
   },
   "outputs": [
    {
     "name": "stdout",
     "output_type": "stream",
     "text": [
      "<class 'pandas.core.frame.DataFrame'>\n",
      "DE_solar_generation_actual\n",
      "                           DE_solar_generation_actual\n",
      "utc_timestamp                                        \n",
      "2016-01-01 00:00:00+00:00                         0.0\n",
      "2016-01-01 01:00:00+00:00                         0.0\n",
      "2016-01-01 02:00:00+00:00                         0.0\n",
      "2016-01-01 03:00:00+00:00                         0.0\n",
      "2016-01-01 04:00:00+00:00                         0.0\n",
      "...                                               ...\n",
      "2016-12-31 19:00:00+00:00                         0.0\n",
      "2016-12-31 20:00:00+00:00                         0.0\n",
      "2016-12-31 21:00:00+00:00                         0.0\n",
      "2016-12-31 22:00:00+00:00                         0.0\n",
      "2016-12-31 23:00:00+00:00                         0.0\n",
      "\n",
      "[8784 rows x 1 columns]\n"
     ]
    }
   ],
   "source": [
    " # Scale the output data\n",
    "print(type(solargentrain[0]))\n",
    "print(max(solargentrain[0]))\n",
    "print(solargentrain[0])\n",
    "#for i in solargentrain:\n",
    " #   i = i*1e-3\n",
    "#for i in solargentest:\n",
    " #   i = i*1e-3"
   ]
  },
  {
   "cell_type": "code",
   "execution_count": 17,
   "metadata": {},
   "outputs": [],
   "source": [
    "model_list =[]\n",
    "#Train all the models\n",
    "for i in range(0,len(solardatatrain)):\n",
    "    model =LinearRegression().fit(solardatatrain[i],solargentrain[i])\n",
    "    model_list.append(model)\n"
   ]
  },
  {
   "cell_type": "code",
   "execution_count": 18,
   "metadata": {},
   "outputs": [],
   "source": [
    "for i in range(0,4): #Combine all the x test data into one pile.-.q-0000---\n",
    "    solardatatest[i] = solardatatest[i].rename({\"utc_timestamp\": \"timestamp\", country_list_rad[i]+\"_radiation_direct_horizontal\": \"radiation_direct_horizontal\", country_list_rad[i]+\"_radiation_diffuse_horizontal\": \"radiation_diffuse_horizontal\"}, axis='columns')"
   ]
  },
  {
   "cell_type": "code",
   "execution_count": 19,
   "metadata": {},
   "outputs": [],
   "source": [
    "for i in range(0,4): #Reformat  all the y test data into one pile, unused\n",
    "    solargentest[i] = solargentest[i].rename({\"utc_timestamp\": \"timestamp\",  country_list_sol[i]+\"_solar_generation_actual\": \"solar_generation\"}, axis='columns')"
   ]
  },
  {
   "cell_type": "code",
   "execution_count": 20,
   "metadata": {},
   "outputs": [],
   "source": [
    "#Concatenate y test data, unused\n",
    "#all_gen_test = pd.concat([solargentest[0],solargentest[1],solargentest[3]], sort = False)\n",
    "#all_gen_test = all_gen_test * 1e-3\n",
    "#print(all_gen_test)\n",
    "#print(solargentest[0])\n",
    "#print(solargentest[1])"
   ]
  },
  {
   "cell_type": "code",
   "execution_count": 21,
   "metadata": {},
   "outputs": [],
   "source": [
    "all_data_test = pd.concat([solardatatest[0],solardatatest[1],solardatatest[3]],sort = False)\n",
    "all_data_test = all_data_test * 1e-3"
   ]
  },
  {
   "cell_type": "code",
   "execution_count": 22,
   "metadata": {},
   "outputs": [
    {
     "name": "stdout",
     "output_type": "stream",
     "text": [
      "                           radiation_direct_horizontal  \\\n",
      "utc_timestamp                                            \n",
      "2015-01-01 00:00:00+00:00                          0.0   \n",
      "2015-01-01 01:00:00+00:00                          0.0   \n",
      "2015-01-01 02:00:00+00:00                          0.0   \n",
      "2015-01-01 03:00:00+00:00                          0.0   \n",
      "2015-01-01 04:00:00+00:00                          0.0   \n",
      "...                                                ...   \n",
      "2015-12-31 19:00:00+00:00                          0.0   \n",
      "2015-12-31 20:00:00+00:00                          0.0   \n",
      "2015-12-31 21:00:00+00:00                          0.0   \n",
      "2015-12-31 22:00:00+00:00                          0.0   \n",
      "2015-12-31 23:00:00+00:00                          0.0   \n",
      "\n",
      "                           radiation_diffuse_horizontal  \n",
      "utc_timestamp                                            \n",
      "2015-01-01 00:00:00+00:00                           0.0  \n",
      "2015-01-01 01:00:00+00:00                           0.0  \n",
      "2015-01-01 02:00:00+00:00                           0.0  \n",
      "2015-01-01 03:00:00+00:00                           0.0  \n",
      "2015-01-01 04:00:00+00:00                           0.0  \n",
      "...                                                 ...  \n",
      "2015-12-31 19:00:00+00:00                           0.0  \n",
      "2015-12-31 20:00:00+00:00                           0.0  \n",
      "2015-12-31 21:00:00+00:00                           0.0  \n",
      "2015-12-31 22:00:00+00:00                           0.0  \n",
      "2015-12-31 23:00:00+00:00                           0.0  \n",
      "\n",
      "[26280 rows x 2 columns]\n"
     ]
    }
   ],
   "source": [
    "#print(solardatatest[0])\n",
    "print(all_data_test)"
   ]
  },
  {
   "cell_type": "code",
   "execution_count": 23,
   "metadata": {},
   "outputs": [],
   "source": [
    "model_list =[]\n",
    "for i in range(0,len(solardatatrain)):\n",
    "    model =LinearRegression().fit(solardatatrain[i],solargentrain[i])\n",
    "    model_list.append(model)"
   ]
  },
  {
   "cell_type": "code",
   "execution_count": 24,
   "metadata": {
    "scrolled": false
   },
   "outputs": [],
   "source": [
    "prediction_list = [[],[],[],[]]\n",
    "#prediction_array = np.zeros((4,4)) # Rows = Predictions per country\n",
    "#Columns = Predictions per test set\n",
    "for i in range (0,4):# Predict each model separately, then average the predictions\n",
    "    for j in range(0,4):\n",
    "        prediction = model_list[i].predict(solardatatest[j])\n",
    "        prediction_list[i].append(prediction)\n"
   ]
  },
  {
   "cell_type": "code",
   "execution_count": 25,
   "metadata": {},
   "outputs": [
    {
     "name": "stdout",
     "output_type": "stream",
     "text": [
      "(4, 8760, 1)\n",
      "(4, 8760)\n"
     ]
    }
   ],
   "source": [
    "average_pred = np.average(prediction_list, axis = 0)\n",
    "print(np.average(prediction_list,axis = 0).shape)\n",
    "average_pred = average_pred.reshape(4,8760)\n",
    "print(average_pred.shape) # Has an extra dimension\n"
   ]
  },
  {
   "cell_type": "code",
   "execution_count": 26,
   "metadata": {},
   "outputs": [
    {
     "name": "stdout",
     "output_type": "stream",
     "text": [
      "(8760,)\n"
     ]
    }
   ],
   "source": [
    "timeseries = pd.date_range('2015-01-01', '2015-12-31 23:00:00', freq='H')\n",
    "print(timeseries.shape)"
   ]
  },
  {
   "cell_type": "code",
   "execution_count": 27,
   "metadata": {},
   "outputs": [
    {
     "name": "stdout",
     "output_type": "stream",
     "text": [
      "Energy Data measured in Giga Watts\n",
      "Total energy: 12513868.455801576\n",
      "Average Energy Per Hour: 1428.5237963243808\n",
      "Average Energy Per Day: 34284.57111178514\n"
     ]
    },
    {
     "name": "stderr",
     "output_type": "stream",
     "text": [
      "C:\\Users\\ezhu2\\Anaconda3\\lib\\site-packages\\pandas\\plotting\\_matplotlib\\converter.py:103: FutureWarning: Using an implicitly registered datetime converter for a matplotlib plotting method. The converter was registered by pandas on import. Future versions of pandas will require you to explicitly register matplotlib converters.\n",
      "\n",
      "To register the converters:\n",
      "\t>>> from pandas.plotting import register_matplotlib_converters\n",
      "\t>>> register_matplotlib_converters()\n",
      "  warnings.warn(msg, FutureWarning)\n"
     ]
    },
    {
     "data": {
      "image/png": "[encoded data removed]",
      "text/plain": [
       "<Figure size 432x288 with 1 Axes>"
      ]
     },
     "metadata": {
      "needs_background": "light"
     },
     "output_type": "display_data"
    }
   ],
   "source": [
    "germany_gen = average_pred[0] \n",
    "plt.plot(timeseries,germany_gen)\n",
    "plt.ylabel('Energy output')\n",
    "energy_production(germany_gen)"
   ]
  },
  {
   "cell_type": "code",
   "execution_count": 28,
   "metadata": {},
   "outputs": [
    {
     "name": "stdout",
     "output_type": "stream",
     "text": [
      "Energy Data measured in Giga Watts\n",
      "Total energy: 11101076.444609584\n",
      "Average Energy Per Hour: 1267.24616947598\n",
      "Average Energy Per Day: 30413.90806742352\n"
     ]
    },
    {
     "data": {
      "image/png": "[encoded data removed]",
      "text/plain": [
       "<Figure size 432x288 with 1 Axes>"
      ]
     },
     "metadata": {
      "needs_background": "light"
     },
     "output_type": "display_data"
    }
   ],
   "source": [
    "denmark_gen = average_pred[1]\n",
    "plt.plot(timeseries,denmark_gen)\n",
    "plt.ylabel('Energy output')\n",
    "energy_production(denmark_gen)"
   ]
  },
  {
   "cell_type": "code",
   "execution_count": 29,
   "metadata": {},
   "outputs": [
    {
     "name": "stdout",
     "output_type": "stream",
     "text": [
      "Energy Data measured in Giga Watts\n",
      "Total energy: 11508723.021368364\n",
      "Average Energy Per Hour: 1313.7811668228726\n",
      "Average Energy Per Day: 31530.74800374894\n"
     ]
    },
    {
     "data": {
      "image/png": "[encoded data removed]",
      "text/plain": [
       "<Figure size 432x288 with 1 Axes>"
      ]
     },
     "metadata": {
      "needs_background": "light"
     },
     "output_type": "display_data"
    }
   ],
   "source": [
    "great_britain_gen = average_pred[2]\n",
    "plt.plot(timeseries,great_britain_gen)\n",
    "plt.ylabel('Energy output')\n",
    "energy_production(great_britain_gen)\n"
   ]
  },
  {
   "cell_type": "code",
   "execution_count": 30,
   "metadata": {},
   "outputs": [
    {
     "name": "stdout",
     "output_type": "stream",
     "text": [
      "Energy Data measured in Giga Watts\n",
      "Total energy: 10053873.438200844\n",
      "Average Energy Per Hour: 1147.7024472832013\n",
      "Average Energy Per Day: 27544.858734796835\n"
     ]
    },
    {
     "data": {
      "image/png": "[encoded data removed]",
      "text/plain": [
       "<Figure size 432x288 with 1 Axes>"
      ]
     },
     "metadata": {
      "needs_background": "light"
     },
     "output_type": "display_data"
    }
   ],
   "source": [
    "sweden_gen = average_pred[3]\n",
    "plt.plot(timeseries,sweden_gen)\n",
    "plt.ylabel('Energy output')\n",
    "energy_production(sweden_gen)"
   ]
  },
  {
   "cell_type": "code",
   "execution_count": null,
   "metadata": {},
   "outputs": [],
   "source": []
  },
  {
   "cell_type": "code",
   "execution_count": null,
   "metadata": {},
   "outputs": [],
   "source": []
  },
  {
   "cell_type": "code",
   "execution_count": 31,
   "metadata": {},
   "outputs": [
    {
     "name": "stdout",
     "output_type": "stream",
     "text": [
      "0.3549455690675061 r2 score for DE\n",
      "-782.7410249463599 r2 score for DK_1\n",
      "0.85154607788267 r2 score for GB_GBN\n",
      "-110323.79418926971 r2 score for SE\n"
     ]
    }
   ],
   "source": [
    "from sklearn.metrics import r2_score\n",
    "#print(r2_score(solargenerationtest, prediction))\n",
    "for i in range(0,4):\n",
    "    print(str(r2_score(solargentest[i],average_pred[i])) + \" r2 score for \" + country_list_sol[i])"
   ]
  },
  {
   "cell_type": "code",
   "execution_count": 32,
   "metadata": {},
   "outputs": [
    {
     "name": "stdout",
     "output_type": "stream",
     "text": [
      "23554946.172202677 MSE for DE\n",
      "4752361.289212043 MSE for DK_1\n",
      "362166.7671028814 MSE for GB_GBN\n",
      "4082158.39796256 MSE for SE\n"
     ]
    }
   ],
   "source": [
    "#large number because we're deadling with large numbers\n",
    "from sklearn.metrics import mean_squared_error\n",
    "for i in range(0,4):\n",
    "    #print(solargentest[i].shape)\n",
    "    #print(prediction_list[i].shape)\n",
    "    print(str(mean_squared_error(solargentest[i],average_pred[i])) + \" MSE for \" + country_list_sol[i])"
   ]
  },
  {
   "cell_type": "code",
   "execution_count": 33,
   "metadata": {},
   "outputs": [
    {
     "ename": "NameError",
     "evalue": "name 'solargenerationtest' is not defined",
     "output_type": "error",
     "traceback": [
      "\u001b[1;31m---------------------------------------------------------------------------\u001b[0m",
      "\u001b[1;31mNameError\u001b[0m                                 Traceback (most recent call last)",
      "\u001b[1;32m<ipython-input-33-de1bfe5f5080>\u001b[0m in \u001b[0;36m<module>\u001b[1;34m\u001b[0m\n\u001b[1;32m----> 1\u001b[1;33m \u001b[0mprint\u001b[0m\u001b[1;33m(\u001b[0m\u001b[0mnp\u001b[0m\u001b[1;33m.\u001b[0m\u001b[0msum\u001b[0m\u001b[1;33m(\u001b[0m\u001b[1;33m(\u001b[0m\u001b[0msolargenerationtest\u001b[0m\u001b[1;33m-\u001b[0m\u001b[0mprediction\u001b[0m\u001b[1;33m)\u001b[0m\u001b[1;33m**\u001b[0m\u001b[1;36m2\u001b[0m\u001b[1;33m)\u001b[0m\u001b[1;33m/\u001b[0m\u001b[1;33m(\u001b[0m\u001b[0mprediction\u001b[0m\u001b[1;33m.\u001b[0m\u001b[0mshape\u001b[0m\u001b[1;33m[\u001b[0m\u001b[1;36m0\u001b[0m\u001b[1;33m]\u001b[0m\u001b[1;33m)\u001b[0m\u001b[1;33m)\u001b[0m\u001b[1;33m\u001b[0m\u001b[1;33m\u001b[0m\u001b[0m\n\u001b[0m",
      "\u001b[1;31mNameError\u001b[0m: name 'solargenerationtest' is not defined"
     ]
    }
   ],
   "source": [
    "#MSE may be extremely high because the data was not yet properly scaled\n",
    "#R2 score is extremely low for DK_1 and S2, possibly because the scale of the output is entirely different\n",
    "#Because the output size of GB is so much higher than the rest, it would be necessary to add weights to the average in the future\n",
    "#This would help us get more accurate data in further iterations"
   ]
  },
  {
   "cell_type": "code",
   "execution_count": null,
   "metadata": {},
   "outputs": [],
   "source": [
    "'''\n",
    "To do:\n",
    "Figure out mse (maybe normalize)\n",
    "figure out cross validation fitting\n",
    "Incorportate more data (more times and more regions)\n",
    "\n",
    "NN model experimentation\n",
    "\n",
    "Expand to solar generation\n",
    "'''"
   ]
  },
  {
   "cell_type": "code",
   "execution_count": null,
   "metadata": {},
   "outputs": [],
   "source": []
  }
 ],
 "metadata": {
  "kernelspec": {
   "display_name": "Python 3",
   "language": "python",
   "name": "python3"
  },
  "language_info": {
   "codemirror_mode": {
    "name": "ipython",
    "version": 3
   },
   "file_extension": ".py",
   "mimetype": "text/x-python",
   "name": "python",
   "nbconvert_exporter": "python",
   "pygments_lexer": "ipython3",
   "version": "3.7.4"
  }
 },
 "nbformat": 4,
 "nbformat_minor": 2
}
