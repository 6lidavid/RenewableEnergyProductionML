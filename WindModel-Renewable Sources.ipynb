{
 "cells": [
  {
   "cell_type": "code",
   "execution_count": 2,
   "metadata": {},
   "outputs": [],
   "source": [
    "import pandas as pd\n",
    "import numpy as np\n",
    "import matplotlib.pyplot as plt\n",
    "%matplotlib inline"
   ]
  },
  {
   "cell_type": "code",
   "execution_count": 4,
   "metadata": {},
   "outputs": [
    {
     "name": "stdout",
     "output_type": "stream",
     "text": [
      "29543\n"
     ]
    }
   ],
   "source": [
    "## Wind generation buildings in DE\n",
    "\n",
    "DE_renew = pd.read_csv(\"data/renewable_power_plants_DE.csv\")\n",
    "\n",
    "DE_renew.groupby(level=[0,1].count([0]))\n",
    "DE_dict = DE_renew['energy_source_level_2'].value_counts().to_dict()\n",
    "\n",
    "print(DE_dict['Wind'])"
   ]
  },
  {
   "cell_type": "markdown",
   "metadata": {},
   "source": [
    "## saving the wind generation data (the target variable) into dataframes"
   ]
  },
  {
   "cell_type": "code",
   "execution_count": 15,
   "metadata": {},
   "outputs": [],
   "source": [
    "windgenerationdata = pd.read_csv(\"data/time_series_60min_singleindex.csv\",\n",
    "                        usecols=(lambda s: s.startswith('utc') | \n",
    "                                 s. startswith('DE_wind_generation')),\n",
    "                        parse_dates=[0], index_col=0)"
   ]
  },
  {
   "cell_type": "markdown",
   "metadata": {},
   "source": [
    "## saving the wind weather data (the features) into dataframes"
   ]
  },
  {
   "cell_type": "code",
   "execution_count": 13,
   "metadata": {},
   "outputs": [],
   "source": [
    "windspeed = pd.read_csv(\"data/weather_data.csv\",\n",
    "                usecols=(lambda s: s.startswith('utc') | \n",
    "                         s.startswith('DE_windspeed')),\n",
    "                parse_dates=[0], index_col=0)"
   ]
  },
  {
   "cell_type": "code",
   "execution_count": 5,
   "metadata": {},
   "outputs": [],
   "source": [
    "windspeedDK = pd.read_csv(\"data/weather_data.csv\",\n",
    "                usecols=(lambda s: s.startswith('utc') | \n",
    "                         s.startswith('DK_windspeed')),\n",
    "                parse_dates=[0], index_col=0)\n"
   ]
  },
  {
   "cell_type": "code",
   "execution_count": 6,
   "metadata": {},
   "outputs": [],
   "source": [
    "\n",
    "windgenDK = pd.read_csv(\"data/time_series_60min_singleindex.csv\",\n",
    "                        usecols=(lambda s: s.startswith('utc') | \n",
    "                                 s. startswith('DK_wind_onshore_generation')),\n",
    "                        parse_dates=[0], index_col=0)"
   ]
  },
  {
   "cell_type": "markdown",
   "metadata": {},
   "source": [
    "## Next two cells are identical in purpose but if you get a tz-naive error you need to run the other block of code. The block of code needed differs based on system"
   ]
  },
  {
   "cell_type": "code",
   "execution_count": 4,
   "metadata": {},
   "outputs": [],
   "source": [
    "#start_remove = pd.to_datetime('2016-01-01')\n",
    "#end_remove = pd.to_datetime('2017-01-01')\n",
    "\n",
    "#start_test = pd.to_datetime('2015-01-01')\n",
    "#end_test = pd.to_datetime('2016-01-01')"
   ]
  },
  {
   "cell_type": "code",
   "execution_count": 7,
   "metadata": {},
   "outputs": [],
   "source": [
    "start_remove = pd.to_datetime('2016-01-01', utc = True)\n",
    "end_remove = pd.to_datetime('2017-01-01', utc = True)\n",
    "\n",
    "start_test = pd.to_datetime('2015-01-01', utc = True)\n",
    "end_test = pd.to_datetime('2016-01-01', utc = True)"
   ]
  },
  {
   "cell_type": "markdown",
   "metadata": {},
   "source": [
    "## Limiting the data to just data from 2015 & 2016. Only these two years are consistent for most of the regions. Other years may be missing generation data"
   ]
  },
  {
   "cell_type": "code",
   "execution_count": 21,
   "metadata": {},
   "outputs": [],
   "source": [
    "#creating training data but cutting the data based on time stamp\n",
    "windspeedformatted = windspeed.loc[(windspeed.index >= start_remove)]\n",
    "windgenerationdataformatted = windgenerationdata.loc[(windgenerationdata.index >= start_remove) & (windgenerationdata.index < end_remove)]"
   ]
  },
  {
   "cell_type": "code",
   "execution_count": 16,
   "metadata": {},
   "outputs": [],
   "source": [
    "#creating test/comparison data\n",
    "windspeedtest = windspeedDK.loc[(windspeedDK.index >= start_test) & (windspeed.index < end_test)]\n",
    "windgenerationtest = windgenerationdata.loc[(windgenDK.index >= start_test) & (windgenerationdata.index < end_test)]"
   ]
  },
  {
   "cell_type": "code",
   "execution_count": 17,
   "metadata": {},
   "outputs": [],
   "source": [
    "windspeedDKtest = windspeedDK.loc[(windspeedDK.index >= start_test) & (windspeedDK.index < end_test)]\n",
    "windgenDKtest = windgenDK.loc[(windgenDK.index >= start_test) & (windgenDK.index < end_test)]"
   ]
  },
  {
   "cell_type": "code",
   "execution_count": 42,
   "metadata": {},
   "outputs": [
    {
     "name": "stderr",
     "output_type": "stream",
     "text": [
      "C:\\Users\\ezhu2\\Anaconda3\\lib\\site-packages\\ipykernel_launcher.py:3: SettingWithCopyWarning: \n",
      "A value is trying to be set on a copy of a slice from a DataFrame.\n",
      "Try using .loc[row_indexer,col_indexer] = value instead\n",
      "\n",
      "See the caveats in the documentation: http://pandas.pydata.org/pandas-docs/stable/user_guide/indexing.html#returning-a-view-versus-a-copy\n",
      "  This is separate from the ipykernel package so we can avoid doing imports until\n",
      "C:\\Users\\ezhu2\\Anaconda3\\lib\\site-packages\\ipykernel_launcher.py:10: SettingWithCopyWarning: \n",
      "A value is trying to be set on a copy of a slice from a DataFrame.\n",
      "Try using .loc[row_indexer,col_indexer] = value instead\n",
      "\n",
      "See the caveats in the documentation: http://pandas.pydata.org/pandas-docs/stable/user_guide/indexing.html#returning-a-view-versus-a-copy\n",
      "  # Remove the CWD from sys.path while we load stuff.\n",
      "C:\\Users\\ezhu2\\Anaconda3\\lib\\site-packages\\ipykernel_launcher.py:13: SettingWithCopyWarning: \n",
      "A value is trying to be set on a copy of a slice from a DataFrame.\n",
      "Try using .loc[row_indexer,col_indexer] = value instead\n",
      "\n",
      "See the caveats in the documentation: http://pandas.pydata.org/pandas-docs/stable/user_guide/indexing.html#returning-a-view-versus-a-copy\n",
      "  del sys.path[0]\n"
     ]
    },
    {
     "data": {
      "text/html": [
       "<div>\n",
       "<style scoped>\n",
       "    .dataframe tbody tr th:only-of-type {\n",
       "        vertical-align: middle;\n",
       "    }\n",
       "\n",
       "    .dataframe tbody tr th {\n",
       "        vertical-align: top;\n",
       "    }\n",
       "\n",
       "    .dataframe thead th {\n",
       "        text-align: right;\n",
       "    }\n",
       "</style>\n",
       "<table border=\"1\" class=\"dataframe\">\n",
       "  <thead>\n",
       "    <tr style=\"text-align: right;\">\n",
       "      <th></th>\n",
       "      <th>DE_windspeed_10m</th>\n",
       "      <th>Wind</th>\n",
       "    </tr>\n",
       "    <tr>\n",
       "      <th>utc_timestamp</th>\n",
       "      <th></th>\n",
       "      <th></th>\n",
       "    </tr>\n",
       "  </thead>\n",
       "  <tbody>\n",
       "    <tr>\n",
       "      <td>2016-01-01 00:00:00+00:00</td>\n",
       "      <td>3.3849</td>\n",
       "      <td>29543.0</td>\n",
       "    </tr>\n",
       "    <tr>\n",
       "      <td>2016-01-01 01:00:00+00:00</td>\n",
       "      <td>3.3636</td>\n",
       "      <td>29543.0</td>\n",
       "    </tr>\n",
       "    <tr>\n",
       "      <td>2016-01-01 02:00:00+00:00</td>\n",
       "      <td>3.3268</td>\n",
       "      <td>29543.0</td>\n",
       "    </tr>\n",
       "    <tr>\n",
       "      <td>2016-01-01 03:00:00+00:00</td>\n",
       "      <td>3.2796</td>\n",
       "      <td>29543.0</td>\n",
       "    </tr>\n",
       "    <tr>\n",
       "      <td>2016-01-01 04:00:00+00:00</td>\n",
       "      <td>3.1705</td>\n",
       "      <td>29543.0</td>\n",
       "    </tr>\n",
       "    <tr>\n",
       "      <td>...</td>\n",
       "      <td>...</td>\n",
       "      <td>...</td>\n",
       "    </tr>\n",
       "    <tr>\n",
       "      <td>2016-12-31 19:00:00+00:00</td>\n",
       "      <td>4.2129</td>\n",
       "      <td>29543.0</td>\n",
       "    </tr>\n",
       "    <tr>\n",
       "      <td>2016-12-31 20:00:00+00:00</td>\n",
       "      <td>4.2875</td>\n",
       "      <td>29543.0</td>\n",
       "    </tr>\n",
       "    <tr>\n",
       "      <td>2016-12-31 21:00:00+00:00</td>\n",
       "      <td>4.2965</td>\n",
       "      <td>29543.0</td>\n",
       "    </tr>\n",
       "    <tr>\n",
       "      <td>2016-12-31 22:00:00+00:00</td>\n",
       "      <td>4.4200</td>\n",
       "      <td>29543.0</td>\n",
       "    </tr>\n",
       "    <tr>\n",
       "      <td>2016-12-31 23:00:00+00:00</td>\n",
       "      <td>4.4611</td>\n",
       "      <td>29543.0</td>\n",
       "    </tr>\n",
       "  </tbody>\n",
       "</table>\n",
       "<p>8784 rows × 2 columns</p>\n",
       "</div>"
      ],
      "text/plain": [
       "                           DE_windspeed_10m     Wind\n",
       "utc_timestamp                                       \n",
       "2016-01-01 00:00:00+00:00            3.3849  29543.0\n",
       "2016-01-01 01:00:00+00:00            3.3636  29543.0\n",
       "2016-01-01 02:00:00+00:00            3.3268  29543.0\n",
       "2016-01-01 03:00:00+00:00            3.2796  29543.0\n",
       "2016-01-01 04:00:00+00:00            3.1705  29543.0\n",
       "...                                     ...      ...\n",
       "2016-12-31 19:00:00+00:00            4.2129  29543.0\n",
       "2016-12-31 20:00:00+00:00            4.2875  29543.0\n",
       "2016-12-31 21:00:00+00:00            4.2965  29543.0\n",
       "2016-12-31 22:00:00+00:00            4.4200  29543.0\n",
       "2016-12-31 23:00:00+00:00            4.4611  29543.0\n",
       "\n",
       "[8784 rows x 2 columns]"
      ]
     },
     "execution_count": 42,
     "metadata": {},
     "output_type": "execute_result"
    }
   ],
   "source": [
    "DKCOUNT2015Array = np.zeros(8760)\n",
    "DKCOUNT2015Array.fill(214)\n",
    "windspeedDKtest['Wind'] = DKCOUNT2015Array\n",
    "#DKCOUNT2016Array = np.zeros(8784)\n",
    "#DKCOUNT2016Array.fill(214)\n",
    "#windspeedDKtrain['Wind'] = DKCOUNT2016Array\n",
    "\n",
    "DECOUNT2015Array = np.zeros(8760)\n",
    "DECOUNT2015Array.fill(29543)\n",
    "windspeedtest['Wind'] = DECOUNT2015Array\n",
    "DECOUNT2016Array = np.zeros(8784)\n",
    "DECOUNT2016Array.fill(29543)\n",
    "windspeedformatted['Wind'] = DECOUNT2016Array\n",
    "\n",
    "\n",
    "windspeedformatted"
   ]
  },
  {
   "cell_type": "markdown",
   "metadata": {},
   "source": [
    "## The energy generation data is measured in Mega Watts and even then has a large magnitude. Here changing the magnitude so that it's in Giga Watts"
   ]
  },
  {
   "cell_type": "code",
   "execution_count": 23,
   "metadata": {},
   "outputs": [],
   "source": [
    "windgenerationdataformatted = windgenerationdataformatted * 1e-3"
   ]
  },
  {
   "cell_type": "code",
   "execution_count": 24,
   "metadata": {},
   "outputs": [],
   "source": [
    "windgenerationtest = windgenerationtest * 1e-3"
   ]
  },
  {
   "cell_type": "code",
   "execution_count": 58,
   "metadata": {},
   "outputs": [],
   "source": [
    "windgenDKtest = windgenDKtest * 1e-3"
   ]
  },
  {
   "cell_type": "code",
   "execution_count": null,
   "metadata": {},
   "outputs": [],
   "source": []
  },
  {
   "cell_type": "code",
   "execution_count": 25,
   "metadata": {},
   "outputs": [],
   "source": [
    "from sklearn.linear_model import LinearRegression\n",
    "from sklearn.metrics import mean_squared_error\n",
    "from sklearn.metrics import r2_score"
   ]
  },
  {
   "cell_type": "code",
   "execution_count": 11,
   "metadata": {},
   "outputs": [],
   "source": [
    "#attempt at cross validation\n",
    "\n",
    "# from sklearn.model_selection import cross_val_score\n",
    "\n",
    "# model = LinearRegression()\n",
    "\n",
    "# scores_wind = cross_val_score(model, windspeedformatted, windgenerationdataformatted, cv=5)\n",
    "# print(scores_wind, \"\\naverage =\", np.mean(scores_wind))"
   ]
  },
  {
   "cell_type": "code",
   "execution_count": 12,
   "metadata": {},
   "outputs": [],
   "source": [
    "# import sklearn.model_selection\n",
    "\n",
    "# nfold = 10\n",
    "# kf = sklearn.model_selection.KFold(n_splits = nfold, shuffle = True)\n",
    "\n",
    "# dtest = np.arange(0, 10)\n",
    "# nd = len(dtest)\n",
    "\n",
    "# RSSts = np.zeros((nd, nfold))\n",
    "\n",
    "# for isplit, Ind in enumerate(kf.split(windspeedformatted)):\n",
    "#     Itr, Its = Ind\n",
    "#     xtr = windspeedformatted[Itr]\n",
    "#     ytr = windgenerationdataformatted[Itr]\n",
    "#     xts = windspeedformatted[Its]\n",
    "#     yts = windgenerationdataformatted[Its]\n",
    "    \n",
    "#     for it, d in enumerate(dtest):\n",
    "#         beta_hat = poly.polyfit(xtr, ytr, d)\n",
    "        \n",
    "#         yhat = poly.polyval(xts, beta_hat)\n",
    "#         RSSts[it, isplit] = np.mean((yhat-yts) ** 2)"
   ]
  },
  {
   "cell_type": "code",
   "execution_count": 59,
   "metadata": {},
   "outputs": [],
   "source": [
    "#function to print out generation averages for hour and day. This is used as a visual representation of the data\n",
    "#later will throw train data and predicted data to see how they fair\n",
    "#summing up all the hourly generation numbers to product the total production for the year\n",
    "#then doing division for the averages\n",
    "def energy_production(energy):\n",
    "    total_energy = np.sum(energy)\n",
    "    avg_energy_per_hour = total_energy / energy.shape[0]\n",
    "    avg_energy_per_day = total_energy / (energy.shape[0] / 24)\n",
    "    print(\"Energy Data measured in Giga Watts\")\n",
    "    print(\"Total energy:\", total_energy)\n",
    "    print(\"Average Energy Per Hour:\", avg_energy_per_hour)\n",
    "    print(\"Average Energy Per Day:\", avg_energy_per_day)"
   ]
  },
  {
   "cell_type": "code",
   "execution_count": 60,
   "metadata": {},
   "outputs": [
    {
     "name": "stdout",
     "output_type": "stream",
     "text": [
      "                           DE_windspeed_10m     Wind\n",
      "utc_timestamp                                       \n",
      "2016-01-01 00:00:00+00:00            3.3849  29543.0\n",
      "2016-01-01 01:00:00+00:00            3.3636  29543.0\n",
      "2016-01-01 02:00:00+00:00            3.3268  29543.0\n",
      "2016-01-01 03:00:00+00:00            3.2796  29543.0\n",
      "2016-01-01 04:00:00+00:00            3.1705  29543.0\n",
      "...                                     ...      ...\n",
      "2016-12-31 19:00:00+00:00            4.2129  29543.0\n",
      "2016-12-31 20:00:00+00:00            4.2875  29543.0\n",
      "2016-12-31 21:00:00+00:00            4.2965  29543.0\n",
      "2016-12-31 22:00:00+00:00            4.4200  29543.0\n",
      "2016-12-31 23:00:00+00:00            4.4611  29543.0\n",
      "\n",
      "[8784 rows x 2 columns]\n"
     ]
    }
   ],
   "source": [
    "# fitting the model with the features and target variables\n",
    "model = LinearRegression().fit(windspeedformatted,windgenerationdataformatted)\n",
    "print(windspeedformatted)"
   ]
  },
  {
   "cell_type": "code",
   "execution_count": 61,
   "metadata": {},
   "outputs": [
    {
     "data": {
      "text/html": [
       "<div>\n",
       "<style scoped>\n",
       "    .dataframe tbody tr th:only-of-type {\n",
       "        vertical-align: middle;\n",
       "    }\n",
       "\n",
       "    .dataframe tbody tr th {\n",
       "        vertical-align: top;\n",
       "    }\n",
       "\n",
       "    .dataframe thead th {\n",
       "        text-align: right;\n",
       "    }\n",
       "</style>\n",
       "<table border=\"1\" class=\"dataframe\">\n",
       "  <thead>\n",
       "    <tr style=\"text-align: right;\">\n",
       "      <th></th>\n",
       "      <th>DK_windspeed_10m</th>\n",
       "      <th>Wind</th>\n",
       "    </tr>\n",
       "    <tr>\n",
       "      <th>utc_timestamp</th>\n",
       "      <th></th>\n",
       "      <th></th>\n",
       "    </tr>\n",
       "  </thead>\n",
       "  <tbody>\n",
       "    <tr>\n",
       "      <td>2015-01-01 00:00:00+00:00</td>\n",
       "      <td>7.57</td>\n",
       "      <td>214.0</td>\n",
       "    </tr>\n",
       "    <tr>\n",
       "      <td>2015-01-01 01:00:00+00:00</td>\n",
       "      <td>7.59</td>\n",
       "      <td>214.0</td>\n",
       "    </tr>\n",
       "    <tr>\n",
       "      <td>2015-01-01 02:00:00+00:00</td>\n",
       "      <td>7.65</td>\n",
       "      <td>214.0</td>\n",
       "    </tr>\n",
       "    <tr>\n",
       "      <td>2015-01-01 03:00:00+00:00</td>\n",
       "      <td>7.66</td>\n",
       "      <td>214.0</td>\n",
       "    </tr>\n",
       "    <tr>\n",
       "      <td>2015-01-01 04:00:00+00:00</td>\n",
       "      <td>7.82</td>\n",
       "      <td>214.0</td>\n",
       "    </tr>\n",
       "    <tr>\n",
       "      <td>...</td>\n",
       "      <td>...</td>\n",
       "      <td>...</td>\n",
       "    </tr>\n",
       "    <tr>\n",
       "      <td>2015-12-31 19:00:00+00:00</td>\n",
       "      <td>5.99</td>\n",
       "      <td>214.0</td>\n",
       "    </tr>\n",
       "    <tr>\n",
       "      <td>2015-12-31 20:00:00+00:00</td>\n",
       "      <td>5.62</td>\n",
       "      <td>214.0</td>\n",
       "    </tr>\n",
       "    <tr>\n",
       "      <td>2015-12-31 21:00:00+00:00</td>\n",
       "      <td>5.03</td>\n",
       "      <td>214.0</td>\n",
       "    </tr>\n",
       "    <tr>\n",
       "      <td>2015-12-31 22:00:00+00:00</td>\n",
       "      <td>4.48</td>\n",
       "      <td>214.0</td>\n",
       "    </tr>\n",
       "    <tr>\n",
       "      <td>2015-12-31 23:00:00+00:00</td>\n",
       "      <td>4.27</td>\n",
       "      <td>214.0</td>\n",
       "    </tr>\n",
       "  </tbody>\n",
       "</table>\n",
       "<p>8760 rows × 2 columns</p>\n",
       "</div>"
      ],
      "text/plain": [
       "                           DK_windspeed_10m   Wind\n",
       "utc_timestamp                                     \n",
       "2015-01-01 00:00:00+00:00              7.57  214.0\n",
       "2015-01-01 01:00:00+00:00              7.59  214.0\n",
       "2015-01-01 02:00:00+00:00              7.65  214.0\n",
       "2015-01-01 03:00:00+00:00              7.66  214.0\n",
       "2015-01-01 04:00:00+00:00              7.82  214.0\n",
       "...                                     ...    ...\n",
       "2015-12-31 19:00:00+00:00              5.99  214.0\n",
       "2015-12-31 20:00:00+00:00              5.62  214.0\n",
       "2015-12-31 21:00:00+00:00              5.03  214.0\n",
       "2015-12-31 22:00:00+00:00              4.48  214.0\n",
       "2015-12-31 23:00:00+00:00              4.27  214.0\n",
       "\n",
       "[8760 rows x 2 columns]"
      ]
     },
     "execution_count": 61,
     "metadata": {},
     "output_type": "execute_result"
    }
   ],
   "source": [
    "# using trained model to predict on new set of wind features\n",
    "prediction = model.predict(windspeedDKtest)\n",
    "windspeedDKtest"
   ]
  },
  {
   "cell_type": "code",
   "execution_count": 62,
   "metadata": {},
   "outputs": [],
   "source": [
    "timeseries = pd.date_range('2015-01-01', '2015-12-31 23:00:00', freq='H')"
   ]
  },
  {
   "cell_type": "code",
   "execution_count": 63,
   "metadata": {},
   "outputs": [
    {
     "name": "stderr",
     "output_type": "stream",
     "text": [
      "C:\\Users\\ezhu2\\Anaconda3\\lib\\site-packages\\pandas\\core\\arrays\\datetimes.py:1269: UserWarning: Converting to PeriodArray/Index representation will drop timezone information.\n",
      "  UserWarning,\n"
     ]
    },
    {
     "data": {
      "text/plain": [
       "<matplotlib.axes._subplots.AxesSubplot at 0x2990419c988>"
      ]
     },
     "execution_count": 63,
     "metadata": {},
     "output_type": "execute_result"
    },
    {
     "data": {
      "image/png": "[encoded data removed]",
      "text/plain": [
       "<Figure size 432x288 with 1 Axes>"
      ]
     },
     "metadata": {
      "needs_background": "light"
     },
     "output_type": "display_data"
    }
   ],
   "source": [
    "# plotting the actual generation plot\n",
    "windgenerationtest.plot(linewidth=0.5, title='Actual Plot', legend=False)"
   ]
  },
  {
   "cell_type": "code",
   "execution_count": 64,
   "metadata": {},
   "outputs": [
    {
     "data": {
      "image/png": "[encoded data removed]",
      "text/plain": [
       "<Figure size 432x288 with 1 Axes>"
      ]
     },
     "metadata": {
      "needs_background": "light"
     },
     "output_type": "display_data"
    }
   ],
   "source": [
    "#plotting the predicted values\n",
    "plt.plot(timeseries,prediction, linewidth=0.5)\n",
    "plt.xlabel('Timestamp')\n",
    "plt.ylabel('Energy Production in GigaWatts')\n",
    "plt.title('Predicted Plot')\n",
    "plt.show()"
   ]
  },
  {
   "cell_type": "code",
   "execution_count": 65,
   "metadata": {},
   "outputs": [
    {
     "name": "stdout",
     "output_type": "stream",
     "text": [
      "-454.0163597302531\n"
     ]
    }
   ],
   "source": [
    "print(r2_score(windgenDKtest, prediction))"
   ]
  },
  {
   "cell_type": "code",
   "execution_count": 66,
   "metadata": {},
   "outputs": [
    {
     "name": "stdout",
     "output_type": "stream",
     "text": [
      "335.55604129902457\n"
     ]
    }
   ],
   "source": [
    "print(mean_squared_error(windgenDKtest, prediction))"
   ]
  },
  {
   "cell_type": "code",
   "execution_count": 67,
   "metadata": {},
   "outputs": [
    {
     "name": "stdout",
     "output_type": "stream",
     "text": [
      "Energy Data measured in Giga Watts\n",
      "Total energy: DK_wind_onshore_generation_actual    9301.4969\n",
      "dtype: float64\n",
      "Average Energy Per Hour: DK_wind_onshore_generation_actual    1.061815\n",
      "dtype: float64\n",
      "Average Energy Per Day: DK_wind_onshore_generation_actual    25.483553\n",
      "dtype: float64\n"
     ]
    }
   ],
   "source": [
    "energy_production(windgenDKtest)"
   ]
  },
  {
   "cell_type": "code",
   "execution_count": 68,
   "metadata": {},
   "outputs": [
    {
     "name": "stdout",
     "output_type": "stream",
     "text": [
      "Energy Data measured in Giga Watts\n",
      "Total energy: 148832.25679764038\n",
      "Average Energy Per Hour: 16.989983652698673\n",
      "Average Energy Per Day: 407.75960766476817\n"
     ]
    }
   ],
   "source": [
    "energy_production(prediction)"
   ]
  },
  {
   "cell_type": "code",
   "execution_count": 39,
   "metadata": {},
   "outputs": [
    {
     "name": "stdout",
     "output_type": "stream",
     "text": [
      "                           DK_windspeed_10m\n",
      "utc_timestamp                              \n",
      "1980-01-01 00:00:00+00:00              4.18\n",
      "1980-01-01 01:00:00+00:00              4.19\n",
      "1980-01-01 02:00:00+00:00              4.16\n",
      "1980-01-01 03:00:00+00:00              4.06\n",
      "1980-01-01 04:00:00+00:00              3.92\n",
      "...                                     ...\n",
      "2016-12-31 19:00:00+00:00              9.52\n",
      "2016-12-31 20:00:00+00:00              9.74\n",
      "2016-12-31 21:00:00+00:00              9.93\n",
      "2016-12-31 22:00:00+00:00              9.98\n",
      "2016-12-31 23:00:00+00:00             10.12\n",
      "\n",
      "[324360 rows x 1 columns]\n"
     ]
    }
   ],
   "source": [
    "print(windspeedDK)"
   ]
  },
  {
   "cell_type": "code",
   "execution_count": null,
   "metadata": {},
   "outputs": [],
   "source": []
  }
 ],
 "metadata": {
  "kernelspec": {
   "display_name": "Python 3",
   "language": "python",
   "name": "python3"
  },
  "language_info": {
   "codemirror_mode": {
    "name": "ipython",
    "version": 3
   },
   "file_extension": ".py",
   "mimetype": "text/x-python",
   "name": "python",
   "nbconvert_exporter": "python",
   "pygments_lexer": "ipython3",
   "version": "3.7.4"
  }
 },
 "nbformat": 4,
 "nbformat_minor": 2
}
