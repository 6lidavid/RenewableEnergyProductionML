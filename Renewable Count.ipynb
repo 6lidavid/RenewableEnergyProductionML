{
 "cells": [
  {
   "cell_type": "code",
   "execution_count": 1,
   "metadata": {},
   "outputs": [],
   "source": [
    "import pandas as pd\n",
    "import numpy as np\n",
    "import matplotlib.pyplot as plt\n",
    "%matplotlib inline\n"
   ]
  },
  {
   "cell_type": "code",
   "execution_count": 2,
   "metadata": {},
   "outputs": [
    {
     "name": "stderr",
     "output_type": "stream",
     "text": [
      "C:\\Users\\ezhu2\\Anaconda3\\lib\\site-packages\\IPython\\core\\interactiveshell.py:3058: DtypeWarning: Columns (8) have mixed types. Specify dtype option on import or set low_memory=False.\n",
      "  interactivity=interactivity, compiler=compiler, result=result)\n"
     ]
    },
    {
     "name": "stdout",
     "output_type": "stream",
     "text": [
      "        commissioning_date  decommissioning_date energy_source_level_1  \\\n",
      "0               1901-01-01                   NaN      Renewable energy   \n",
      "1               1901-01-01                   NaN      Renewable energy   \n",
      "2               1901-07-01                   NaN      Renewable energy   \n",
      "3               1901-11-01                   NaN      Renewable energy   \n",
      "4               1904-01-01                   NaN      Renewable energy   \n",
      "...                    ...                   ...                   ...   \n",
      "1805907         2019-01-11                   NaN      Renewable energy   \n",
      "1805908         2019-01-11                   NaN      Renewable energy   \n",
      "1805909         2019-01-11                   NaN      Renewable energy   \n",
      "1805910         2019-01-14                   NaN      Renewable energy   \n",
      "1805911         2019-01-21                   NaN      Renewable energy   \n",
      "\n",
      "        energy_source_level_2 energy_source_level_3     technology  \\\n",
      "0                       Hydro                   NaN   Run-of-river   \n",
      "1                       Hydro                   NaN   Run-of-river   \n",
      "2                       Hydro                   NaN   Run-of-river   \n",
      "3                       Hydro                   NaN   Run-of-river   \n",
      "4                       Hydro                   NaN   Run-of-river   \n",
      "...                       ...                   ...            ...   \n",
      "1805907                 Solar                   NaN  Photovoltaics   \n",
      "1805908                 Solar                   NaN  Photovoltaics   \n",
      "1805909                 Solar                   NaN  Photovoltaics   \n",
      "1805910                 Solar                   NaN  Photovoltaics   \n",
      "1805911                 Solar                   NaN  Photovoltaics   \n",
      "\n",
      "         electrical_capacity                 voltage_level         tso  \\\n",
      "0                    0.12000                   low voltage  TransnetBW   \n",
      "1                    0.05500  low voltage / medium voltage  TransnetBW   \n",
      "2                    0.04400                   low voltage  TransnetBW   \n",
      "3                    0.08000                   low voltage  TransnetBW   \n",
      "4                    0.05000                   low voltage  TransnetBW   \n",
      "...                      ...                           ...         ...   \n",
      "1805907              0.00672                           NaN         NaN   \n",
      "1805908              0.00930                           NaN         NaN   \n",
      "1805909              0.00679                           NaN         NaN   \n",
      "1805910              0.00990                           NaN         NaN   \n",
      "1805911              0.00576                           NaN         NaN   \n",
      "\n",
      "                           dso  ...                             eeg_id  \\\n",
      "0                Netze BW GmbH  ...  E1084301000ZE000000266944RA000001   \n",
      "1                Netze BW GmbH  ...  E1084301000ZE000000266945RA000001   \n",
      "2                    Syna GmbH  ...  E11495010000000000060207975500000   \n",
      "3                    Syna GmbH  ...  E11495010000000000060208119100000   \n",
      "4        Elektrizitätswerk Ley  ...  E10358010000000000000003010400001   \n",
      "...                        ...  ...                                ...   \n",
      "1805907                    NaN  ...                                NaN   \n",
      "1805908                    NaN  ...                                NaN   \n",
      "1805909                    NaN  ...                                NaN   \n",
      "1805910                    NaN  ...                                NaN   \n",
      "1805911                    NaN  ...                                NaN   \n",
      "\n",
      "               federal_state postcode  municipality_code    municipality  \\\n",
      "0          Baden-Württemberg  88255.0          8436011.0       Baienfurt   \n",
      "1          Baden-Württemberg  88255.0          8436011.0       Baienfurt   \n",
      "2          Baden-Württemberg  69245.0                NaN       Bammental   \n",
      "3          Baden-Württemberg  69245.0          8226006.0       Bammental   \n",
      "4          Baden-Württemberg  74549.0                NaN  Unterscheffach   \n",
      "...                      ...      ...                ...             ...   \n",
      "1805907  Nordrhein-Westfalen  52385.0                NaN        Nideggen   \n",
      "1805908               Bayern  84427.0                NaN  Sankt Wolfgang   \n",
      "1805909       Sachsen-Anhalt   6862.0                NaN   Dessau-Roßlau   \n",
      "1805910               Bayern  84094.0                NaN       Elsendorf   \n",
      "1805911        Niedersachsen  38159.0                NaN        Vechelde   \n",
      "\n",
      "                   address        lat        lon  data_source comment  \n",
      "0        Niederbieger Str.  47.846131   9.664273   TransnetBW     NaN  \n",
      "1              Am Sägewerk  47.846131   9.664273   TransnetBW     NaN  \n",
      "2        Wiesenbacher Str.  49.355539   8.775571   TransnetBW     NaN  \n",
      "3             Hauptstr. 81  49.355539   8.775571   TransnetBW     NaN  \n",
      "4           Brückenstrasse  49.162694   9.853297   TransnetBW     NaN  \n",
      "...                    ...        ...        ...          ...     ...  \n",
      "1805907                NaN  50.681730   6.493388    BNetzA_PV     NaN  \n",
      "1805908                NaN  48.218401  12.140532    BNetzA_PV     NaN  \n",
      "1805909                NaN  51.912080  12.276554    BNetzA_PV     NaN  \n",
      "1805910                NaN  48.701869  11.815692    BNetzA_PV     NaN  \n",
      "1805911                NaN  52.247831  10.364983    BNetzA_PV     NaN  \n",
      "\n",
      "[1805912 rows x 21 columns]\n"
     ]
    }
   ],
   "source": [
    "DE_renew = pd.read_csv(\"data/renewable_power_plants_DE.csv\")\n",
    "    \n",
    "print(DE_renew)\n",
    "    "
   ]
  },
  {
   "cell_type": "code",
   "execution_count": 3,
   "metadata": {},
   "outputs": [
    {
     "name": "stdout",
     "output_type": "stream",
     "text": [
      "<class 'pandas.core.frame.DataFrame'>\n"
     ]
    }
   ],
   "source": [
    "print(type(DE_renew))"
   ]
  },
  {
   "cell_type": "code",
   "execution_count": 4,
   "metadata": {},
   "outputs": [
    {
     "name": "stdout",
     "output_type": "stream",
     "text": [
      "['commissioning_date', 'decommissioning_date', 'energy_source_level_1', 'energy_source_level_2', 'energy_source_level_3', 'technology', 'electrical_capacity', 'voltage_level', 'tso', 'dso', 'dso_id', 'eeg_id', 'federal_state', 'postcode', 'municipality_code', 'municipality', 'address', 'lat', 'lon', 'data_source', 'comment']\n"
     ]
    }
   ],
   "source": [
    "columns = list(DE_renew)\n",
    "print(columns)"
   ]
  },
  {
   "cell_type": "code",
   "execution_count": 5,
   "metadata": {},
   "outputs": [],
   "source": [
    "for i in duh:\n",
    "    if i != \"energy_source_level_2\":\n",
    "        del DE_renew[i]\n"
   ]
  },
  {
   "cell_type": "code",
   "execution_count": 10,
   "metadata": {},
   "outputs": [
    {
     "name": "stdout",
     "output_type": "stream",
     "text": [
      "   energy_source_level_2\n",
      "0                  Hydro\n",
      "1                  Hydro\n",
      "2                  Hydro\n",
      "3                  Hydro\n",
      "4                  Hydro\n",
      "..                   ...\n",
      "94                 Hydro\n",
      "95                 Hydro\n",
      "96                 Hydro\n",
      "97                 Hydro\n",
      "98                 Hydro\n",
      "\n",
      "[99 rows x 1 columns]\n"
     ]
    }
   ],
   "source": [
    "print(DE_renew.head(99))"
   ]
  },
  {
   "cell_type": "code",
   "execution_count": 7,
   "metadata": {},
   "outputs": [
    {
     "ename": "TypeError",
     "evalue": "Can only count levels on hierarchical index.",
     "output_type": "error",
     "traceback": [
      "\u001b[1;31m---------------------------------------------------------------------------\u001b[0m",
      "\u001b[1;31mTypeError\u001b[0m                                 Traceback (most recent call last)",
      "\u001b[1;32m<ipython-input-7-58a849b53251>\u001b[0m in \u001b[0;36m<module>\u001b[1;34m\u001b[0m\n\u001b[1;32m----> 1\u001b[1;33m \u001b[0mprint\u001b[0m\u001b[1;33m(\u001b[0m\u001b[0mDE_renew\u001b[0m\u001b[1;33m.\u001b[0m\u001b[0mcount\u001b[0m\u001b[1;33m(\u001b[0m\u001b[0mlevel\u001b[0m\u001b[1;33m=\u001b[0m \u001b[1;34m'energy_source_level_2'\u001b[0m\u001b[1;33m)\u001b[0m\u001b[1;33m)\u001b[0m\u001b[1;33m\u001b[0m\u001b[1;33m\u001b[0m\u001b[0m\n\u001b[0m",
      "\u001b[1;32m~\\Anaconda3\\lib\\site-packages\\pandas\\core\\frame.py\u001b[0m in \u001b[0;36mcount\u001b[1;34m(self, axis, level, numeric_only)\u001b[0m\n\u001b[0;32m   7812\u001b[0m         \u001b[0maxis\u001b[0m \u001b[1;33m=\u001b[0m \u001b[0mself\u001b[0m\u001b[1;33m.\u001b[0m\u001b[0m_get_axis_number\u001b[0m\u001b[1;33m(\u001b[0m\u001b[0maxis\u001b[0m\u001b[1;33m)\u001b[0m\u001b[1;33m\u001b[0m\u001b[1;33m\u001b[0m\u001b[0m\n\u001b[0;32m   7813\u001b[0m         \u001b[1;32mif\u001b[0m \u001b[0mlevel\u001b[0m \u001b[1;32mis\u001b[0m \u001b[1;32mnot\u001b[0m \u001b[1;32mNone\u001b[0m\u001b[1;33m:\u001b[0m\u001b[1;33m\u001b[0m\u001b[1;33m\u001b[0m\u001b[0m\n\u001b[1;32m-> 7814\u001b[1;33m             \u001b[1;32mreturn\u001b[0m \u001b[0mself\u001b[0m\u001b[1;33m.\u001b[0m\u001b[0m_count_level\u001b[0m\u001b[1;33m(\u001b[0m\u001b[0mlevel\u001b[0m\u001b[1;33m,\u001b[0m \u001b[0maxis\u001b[0m\u001b[1;33m=\u001b[0m\u001b[0maxis\u001b[0m\u001b[1;33m,\u001b[0m \u001b[0mnumeric_only\u001b[0m\u001b[1;33m=\u001b[0m\u001b[0mnumeric_only\u001b[0m\u001b[1;33m)\u001b[0m\u001b[1;33m\u001b[0m\u001b[1;33m\u001b[0m\u001b[0m\n\u001b[0m\u001b[0;32m   7815\u001b[0m \u001b[1;33m\u001b[0m\u001b[0m\n\u001b[0;32m   7816\u001b[0m         \u001b[1;32mif\u001b[0m \u001b[0mnumeric_only\u001b[0m\u001b[1;33m:\u001b[0m\u001b[1;33m\u001b[0m\u001b[1;33m\u001b[0m\u001b[0m\n",
      "\u001b[1;32m~\\Anaconda3\\lib\\site-packages\\pandas\\core\\frame.py\u001b[0m in \u001b[0;36m_count_level\u001b[1;34m(self, level, axis, numeric_only)\u001b[0m\n\u001b[0;32m   7847\u001b[0m             raise TypeError(\n\u001b[0;32m   7848\u001b[0m                 \u001b[1;34m\"Can only count levels on hierarchical \"\u001b[0m\u001b[1;33m\u001b[0m\u001b[1;33m\u001b[0m\u001b[0m\n\u001b[1;32m-> 7849\u001b[1;33m                 \u001b[1;34m\"{ax}.\"\u001b[0m\u001b[1;33m.\u001b[0m\u001b[0mformat\u001b[0m\u001b[1;33m(\u001b[0m\u001b[0max\u001b[0m\u001b[1;33m=\u001b[0m\u001b[0mself\u001b[0m\u001b[1;33m.\u001b[0m\u001b[0m_get_axis_name\u001b[0m\u001b[1;33m(\u001b[0m\u001b[0maxis\u001b[0m\u001b[1;33m)\u001b[0m\u001b[1;33m)\u001b[0m\u001b[1;33m\u001b[0m\u001b[1;33m\u001b[0m\u001b[0m\n\u001b[0m\u001b[0;32m   7850\u001b[0m             )\n\u001b[0;32m   7851\u001b[0m \u001b[1;33m\u001b[0m\u001b[0m\n",
      "\u001b[1;31mTypeError\u001b[0m: Can only count levels on hierarchical index."
     ]
    }
   ],
   "source": []
  },
  {
   "cell_type": "code",
   "execution_count": 8,
   "metadata": {},
   "outputs": [
    {
     "name": "stdout",
     "output_type": "stream",
     "text": [
      "<pandas.core.groupby.generic.DataFrameGroupBy object at 0x000001C9F5C73088>\n",
      "{'Solar': 1754275, 'Wind': 29543, 'Bioenergy': 14873, 'Hydro': 7134, 'Other fossil fuels': 75, 'Geothermal': 11, 'Storage': 1}\n",
      "1754275\n"
     ]
    }
   ],
   "source": [
    "\n",
    "print(DE_renew.groupby(level = [0,1].count([0])))\n",
    "DE_dict = DE_renew['energy_source_level_2'].value_counts().to_dict()\n",
    "print(DE_renew['energy_source_level_2'].value_counts().to_dict())\n",
    "print(DE_dict['Solar'])\n"
   ]
  },
  {
   "cell_type": "code",
   "execution_count": 13,
   "metadata": {},
   "outputs": [
    {
     "name": "stdout",
     "output_type": "stream",
     "text": [
      "95505\n"
     ]
    }
   ],
   "source": [
    "DK_renew = pd.read_csv(\"data/renewable_power_plants_DK.csv\")\n",
    "\n",
    "DK_renew.groupby(level=[0,1].count([0]))\n",
    "DK_dict = DK_renew['energy_source_level_2'].value_counts().to_dict()\n",
    "\n",
    "print(DK_dict['Solar'])"
   ]
  },
  {
   "cell_type": "code",
   "execution_count": null,
   "metadata": {},
   "outputs": [],
   "source": [
    "FR_renew = pd.read_csv(\"data/renewable_power_plants_FR.csv\")\n",
    "\n",
    "FR_renew.groupby(level=[0,1].count([0]))\n",
    "FR_dict= FR_renew['energy_source_level_2'.value_counts().to_dict()]"
   ]
  },
  {
   "cell_type": "code",
   "execution_count": null,
   "metadata": {},
   "outputs": [],
   "source": [
    "CH_renew = pd.read_csv(\"data/renewable_power_plants_CH.csv\")\n",
    "\n",
    "CH_renew.groupby(level=[0,1].count([0]))\n",
    "CH_dict= CH_renew['energy_source_level_2'.value_counts().to_dict()]"
   ]
  },
  {
   "cell_type": "code",
   "execution_count": null,
   "metadata": {},
   "outputs": [],
   "source": [
    "EU_renew = pd.read_csv(\"data/renewable_power_plants_EU.csv\")\n",
    "\n",
    "EU_renew.groupby(level=[0,1].count([0]))\n",
    "EU_dict= EU_renew['energy_source_level_2'.value_counts().to_dict()]"
   ]
  },
  {
   "cell_type": "code",
   "execution_count": null,
   "metadata": {},
   "outputs": [],
   "source": [
    "PL_renew = pd.read_csv(\"data/renewable_power_plants_PL.csv\")\n",
    "\n",
    "PL_renew.groupby(level=[0,1].count([0]))\n",
    "PL_dict= PL_renew['energy_source_level_2'.value_counts().to_dict()]"
   ]
  },
  {
   "cell_type": "code",
   "execution_count": null,
   "metadata": {},
   "outputs": [],
   "source": [
    "UK_renew = pd.read_csv(\"data/renewable_power_plants_UK.csv\")\n",
    "\n",
    "UK_renew.groupby(level=[0,1].count([0]))\n",
    "UK_dict= FR_renew['energy_source_level_2'.value_counts().to_dict()]"
   ]
  }
 ],
 "metadata": {
  "kernelspec": {
   "display_name": "Python 3",
   "language": "python",
   "name": "python3"
  },
  "language_info": {
   "codemirror_mode": {
    "name": "ipython",
    "version": 3
   },
   "file_extension": ".py",
   "mimetype": "text/x-python",
   "name": "python",
   "nbconvert_exporter": "python",
   "pygments_lexer": "ipython3",
   "version": "3.7.4"
  }
 },
 "nbformat": 4,
 "nbformat_minor": 2
}
