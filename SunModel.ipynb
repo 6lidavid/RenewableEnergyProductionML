{
 "cells": [
  {
   "cell_type": "code",
   "execution_count": 1,
   "metadata": {},
   "outputs": [],
   "source": [
    "import pandas as pd\n",
    "import numpy as np\n",
    "import matplotlib.pyplot as plt\n",
    "%matplotlib inline"
   ]
  },
  {
   "cell_type": "code",
   "execution_count": 2,
   "metadata": {},
   "outputs": [],
   "source": [
    "#Creating a list of countries to make models of \n",
    "country_list_sol = ['DE','DK_1','GB_GBN','SE'] #Germany,Denmark ,Great Britain,Sweden \n",
    "country_list_rad = ['DE','DK','GB','SE']\n",
    "solar_gen_data_list =[]\n",
    "radiation_data_list = []"
   ]
  },
  {
   "cell_type": "code",
   "execution_count": 3,
   "metadata": {},
   "outputs": [],
   "source": [
    "solar_gen_data_list = []\n",
    "# energygenerationdata = pd.read_csv(\"data/time_series_60min_singleindex.csv\",\n",
    "#                         usecols=(lambda s: s.startswith('utc') | \n",
    "#                                  s.startswith('DE_solar') |\n",
    "#                                  s. startswith('DE_wind')),\n",
    "#                         parse_dates=[0], index_col=0)\n",
    "\n",
    "# windgenerationdata = pd.read_csv(\"data/time_series_60min_singleindex.csv\",\n",
    "#                         usecols=(lambda s: s.startswith('utc') | \n",
    "#                                  s. startswith('DE_wind_generation')),\n",
    "#                         parse_dates=[0], index_col=0)\n",
    "\n",
    "for i in country_list_sol:\n",
    "    column_name = i +\"_solar_generation_actual\"\n",
    "    solargenerationdata = pd.read_csv(\"data/time_series_60min_singleindex.csv\",\n",
    "                        usecols=(lambda s: s.startswith('utc') | \n",
    "                                 (s.startswith(column_name) &\n",
    "                                  s.endswith(\"generation_actual\"))),\n",
    "                        parse_dates=[0], index_col=0)\n",
    "    \n",
    "    solar_gen_data_list.append(solargenerationdata)\n",
    "\n",
    "#solargenerationdata = pd.read_csv(\"data/time_series_60min_singleindex.csv\",\n",
    " #                       usecols=(lambda s: s.startswith('utc') | \n",
    "  ##                     parse_dates=[0], index_col=0)\n"
   ]
  },
  {
   "cell_type": "code",
   "execution_count": 4,
   "metadata": {},
   "outputs": [
    {
     "name": "stdout",
     "output_type": "stream",
     "text": [
      "4\n",
      "                           DE_solar_generation_actual\n",
      "utc_timestamp                                        \n",
      "2004-12-31 23:00:00+00:00                         NaN\n",
      "2005-01-01 00:00:00+00:00                         NaN\n",
      "2005-01-01 01:00:00+00:00                         NaN\n",
      "2005-01-01 02:00:00+00:00                         NaN\n",
      "2005-01-01 03:00:00+00:00                         NaN\n",
      "...                                               ...\n",
      "2019-04-30 19:00:00+00:00                         NaN\n",
      "2019-04-30 20:00:00+00:00                         NaN\n",
      "2019-04-30 21:00:00+00:00                         NaN\n",
      "2019-04-30 22:00:00+00:00                         NaN\n",
      "2019-04-30 23:00:00+00:00                         NaN\n",
      "\n",
      "[125593 rows x 1 columns]\n",
      "                           DK_1_solar_generation_actual\n",
      "utc_timestamp                                          \n",
      "2004-12-31 23:00:00+00:00                           NaN\n",
      "2005-01-01 00:00:00+00:00                           NaN\n",
      "2005-01-01 01:00:00+00:00                           NaN\n",
      "2005-01-01 02:00:00+00:00                           NaN\n",
      "2005-01-01 03:00:00+00:00                           NaN\n",
      "...                                                 ...\n",
      "2019-04-30 19:00:00+00:00                           NaN\n",
      "2019-04-30 20:00:00+00:00                           NaN\n",
      "2019-04-30 21:00:00+00:00                           NaN\n",
      "2019-04-30 22:00:00+00:00                           NaN\n",
      "2019-04-30 23:00:00+00:00                           NaN\n",
      "\n",
      "[125593 rows x 1 columns]\n",
      "                           GB_GBN_solar_generation_actual\n",
      "utc_timestamp                                            \n",
      "2004-12-31 23:00:00+00:00                             NaN\n",
      "2005-01-01 00:00:00+00:00                             NaN\n",
      "2005-01-01 01:00:00+00:00                             NaN\n",
      "2005-01-01 02:00:00+00:00                             NaN\n",
      "2005-01-01 03:00:00+00:00                             NaN\n",
      "...                                                   ...\n",
      "2019-04-30 19:00:00+00:00                             NaN\n",
      "2019-04-30 20:00:00+00:00                             NaN\n",
      "2019-04-30 21:00:00+00:00                             NaN\n",
      "2019-04-30 22:00:00+00:00                             NaN\n",
      "2019-04-30 23:00:00+00:00                             NaN\n",
      "\n",
      "[125593 rows x 1 columns]\n",
      "                           SE_solar_generation_actual\n",
      "utc_timestamp                                        \n",
      "2004-12-31 23:00:00+00:00                         NaN\n",
      "2005-01-01 00:00:00+00:00                         NaN\n",
      "2005-01-01 01:00:00+00:00                         NaN\n",
      "2005-01-01 02:00:00+00:00                         NaN\n",
      "2005-01-01 03:00:00+00:00                         NaN\n",
      "...                                               ...\n",
      "2019-04-30 19:00:00+00:00                         NaN\n",
      "2019-04-30 20:00:00+00:00                         NaN\n",
      "2019-04-30 21:00:00+00:00                         NaN\n",
      "2019-04-30 22:00:00+00:00                         NaN\n",
      "2019-04-30 23:00:00+00:00                         NaN\n",
      "\n",
      "[125593 rows x 1 columns]\n"
     ]
    }
   ],
   "source": [
    "print(len(solar_gen_data_list))\n",
    "for i in solar_gen_data_list:\n",
    "    print(i)"
   ]
  },
  {
   "cell_type": "code",
   "execution_count": 5,
   "metadata": {},
   "outputs": [],
   "source": [
    "# weatherdata = pd.read_csv(\"data/weather_data.csv\",\n",
    "#                 usecols=(lambda s: s.startswith('utc') | \n",
    "#                          s.startswith('DE')),\n",
    "#                 parse_dates=[0], index_col=0)"
   ]
  },
  {
   "cell_type": "code",
   "execution_count": 6,
   "metadata": {},
   "outputs": [],
   "source": [
    "radiation_data_list= []\n",
    "for i in country_list_rad:\n",
    "    i = i+ \"_radiation\"\n",
    "    radiationdata = pd.read_csv(\"data/weather_data.csv\",\n",
    "                        usecols=(lambda s: s.startswith('utc') | \n",
    "                                 (s.startswith(i) &\n",
    "                                  (s.endswith(\"radiation_direct_horizontal\") | s.endswith(\"radiation_diffuse_horizontal\")))),\n",
    "                        parse_dates=[0], index_col=0)\n",
    "    \n",
    "    radiation_data_list.append(radiationdata)\n",
    "\n",
    "#solardata = pd.read_csv(\"data/weather_data.csv\",\n",
    " #               usecols=(lambda s: s.startswith('utc') | \n",
    "  #                       s.startswith('DE_radiation_direct_horizontal') |\n",
    "   #                      s.startswith('DE_radiation_diffuse_horizontal')),\n",
    "        #        parse_dates=[0], index_col=0)"
   ]
  },
  {
   "cell_type": "code",
   "execution_count": 7,
   "metadata": {},
   "outputs": [
    {
     "name": "stdout",
     "output_type": "stream",
     "text": [
      "4\n",
      "                           DE_radiation_direct_horizontal  \\\n",
      "utc_timestamp                                               \n",
      "1980-01-01 00:00:00+00:00                             0.0   \n",
      "1980-01-01 01:00:00+00:00                             0.0   \n",
      "1980-01-01 02:00:00+00:00                             0.0   \n",
      "1980-01-01 03:00:00+00:00                             0.0   \n",
      "1980-01-01 04:00:00+00:00                             0.0   \n",
      "...                                                   ...   \n",
      "2016-12-31 19:00:00+00:00                             0.0   \n",
      "2016-12-31 20:00:00+00:00                             0.0   \n",
      "2016-12-31 21:00:00+00:00                             0.0   \n",
      "2016-12-31 22:00:00+00:00                             0.0   \n",
      "2016-12-31 23:00:00+00:00                             0.0   \n",
      "\n",
      "                           DE_radiation_diffuse_horizontal  \n",
      "utc_timestamp                                               \n",
      "1980-01-01 00:00:00+00:00                              0.0  \n",
      "1980-01-01 01:00:00+00:00                              0.0  \n",
      "1980-01-01 02:00:00+00:00                              0.0  \n",
      "1980-01-01 03:00:00+00:00                              0.0  \n",
      "1980-01-01 04:00:00+00:00                              0.0  \n",
      "...                                                    ...  \n",
      "2016-12-31 19:00:00+00:00                              0.0  \n",
      "2016-12-31 20:00:00+00:00                              0.0  \n",
      "2016-12-31 21:00:00+00:00                              0.0  \n",
      "2016-12-31 22:00:00+00:00                              0.0  \n",
      "2016-12-31 23:00:00+00:00                              0.0  \n",
      "\n",
      "[324360 rows x 2 columns]\n",
      "                           DK_radiation_direct_horizontal  \\\n",
      "utc_timestamp                                               \n",
      "1980-01-01 00:00:00+00:00                             0.0   \n",
      "1980-01-01 01:00:00+00:00                             0.0   \n",
      "1980-01-01 02:00:00+00:00                             0.0   \n",
      "1980-01-01 03:00:00+00:00                             0.0   \n",
      "1980-01-01 04:00:00+00:00                             0.0   \n",
      "...                                                   ...   \n",
      "2016-12-31 19:00:00+00:00                             0.0   \n",
      "2016-12-31 20:00:00+00:00                             0.0   \n",
      "2016-12-31 21:00:00+00:00                             0.0   \n",
      "2016-12-31 22:00:00+00:00                             0.0   \n",
      "2016-12-31 23:00:00+00:00                             0.0   \n",
      "\n",
      "                           DK_radiation_diffuse_horizontal  \n",
      "utc_timestamp                                               \n",
      "1980-01-01 00:00:00+00:00                              0.0  \n",
      "1980-01-01 01:00:00+00:00                              0.0  \n",
      "1980-01-01 02:00:00+00:00                              0.0  \n",
      "1980-01-01 03:00:00+00:00                              0.0  \n",
      "1980-01-01 04:00:00+00:00                              0.0  \n",
      "...                                                    ...  \n",
      "2016-12-31 19:00:00+00:00                              0.0  \n",
      "2016-12-31 20:00:00+00:00                              0.0  \n",
      "2016-12-31 21:00:00+00:00                              0.0  \n",
      "2016-12-31 22:00:00+00:00                              0.0  \n",
      "2016-12-31 23:00:00+00:00                              0.0  \n",
      "\n",
      "[324360 rows x 2 columns]\n",
      "                           GB_radiation_direct_horizontal  \\\n",
      "utc_timestamp                                               \n",
      "1980-01-01 00:00:00+00:00                             0.0   \n",
      "1980-01-01 01:00:00+00:00                             0.0   \n",
      "1980-01-01 02:00:00+00:00                             0.0   \n",
      "1980-01-01 03:00:00+00:00                             0.0   \n",
      "1980-01-01 04:00:00+00:00                             0.0   \n",
      "...                                                   ...   \n",
      "2016-12-31 19:00:00+00:00                             0.0   \n",
      "2016-12-31 20:00:00+00:00                             0.0   \n",
      "2016-12-31 21:00:00+00:00                             0.0   \n",
      "2016-12-31 22:00:00+00:00                             0.0   \n",
      "2016-12-31 23:00:00+00:00                             0.0   \n",
      "\n",
      "                           GB_radiation_diffuse_horizontal  \n",
      "utc_timestamp                                               \n",
      "1980-01-01 00:00:00+00:00                              0.0  \n",
      "1980-01-01 01:00:00+00:00                              0.0  \n",
      "1980-01-01 02:00:00+00:00                              0.0  \n",
      "1980-01-01 03:00:00+00:00                              0.0  \n",
      "1980-01-01 04:00:00+00:00                              0.0  \n",
      "...                                                    ...  \n",
      "2016-12-31 19:00:00+00:00                              0.0  \n",
      "2016-12-31 20:00:00+00:00                              0.0  \n",
      "2016-12-31 21:00:00+00:00                              0.0  \n",
      "2016-12-31 22:00:00+00:00                              0.0  \n",
      "2016-12-31 23:00:00+00:00                              0.0  \n",
      "\n",
      "[324360 rows x 2 columns]\n",
      "                           SE_radiation_direct_horizontal  \\\n",
      "utc_timestamp                                               \n",
      "1980-01-01 00:00:00+00:00                             0.0   \n",
      "1980-01-01 01:00:00+00:00                             0.0   \n",
      "1980-01-01 02:00:00+00:00                             0.0   \n",
      "1980-01-01 03:00:00+00:00                             0.0   \n",
      "1980-01-01 04:00:00+00:00                             0.0   \n",
      "...                                                   ...   \n",
      "2016-12-31 19:00:00+00:00                             0.0   \n",
      "2016-12-31 20:00:00+00:00                             0.0   \n",
      "2016-12-31 21:00:00+00:00                             0.0   \n",
      "2016-12-31 22:00:00+00:00                             0.0   \n",
      "2016-12-31 23:00:00+00:00                             0.0   \n",
      "\n",
      "                           SE_radiation_diffuse_horizontal  \n",
      "utc_timestamp                                               \n",
      "1980-01-01 00:00:00+00:00                              0.0  \n",
      "1980-01-01 01:00:00+00:00                              0.0  \n",
      "1980-01-01 02:00:00+00:00                              0.0  \n",
      "1980-01-01 03:00:00+00:00                              0.0  \n",
      "1980-01-01 04:00:00+00:00                              0.0  \n",
      "...                                                    ...  \n",
      "2016-12-31 19:00:00+00:00                              0.0  \n",
      "2016-12-31 20:00:00+00:00                              0.0  \n",
      "2016-12-31 21:00:00+00:00                              0.0  \n",
      "2016-12-31 22:00:00+00:00                              0.0  \n",
      "2016-12-31 23:00:00+00:00                              0.0  \n",
      "\n",
      "[324360 rows x 2 columns]\n"
     ]
    }
   ],
   "source": [
    "print(len(radiation_data_list))\n",
    "for i in radiation_data_list:\n",
    "    print(i)"
   ]
  },
  {
   "cell_type": "code",
   "execution_count": null,
   "metadata": {},
   "outputs": [],
   "source": []
  },
  {
   "cell_type": "code",
   "execution_count": 21,
   "metadata": {},
   "outputs": [],
   "source": [
    "#creating training data but cutting the data based on time stamp\n",
    "# start_remove = pd.to_datetime('2016-01-01')\n",
    "# end_remove = pd.to_datetime('2017-01-01')\n",
    "# windspeedformatted = windspeed.loc[(windspeed.index >= start_remove)]\n",
    "# windgenerationdataformatted = windgenerationdata.loc[(windgenerationdata.index >= start_remove) & (windgenerationdata.index < end_remove)]\n",
    "\n",
    "# start_remove = pd.to_datetime('2015-01-01')\n",
    "# end_remove = pd.to_datetime('2016-01-01')\n",
    "# windspeedformatted = windspeed.loc[(windspeed.index >= start_remove)]\n",
    "# windgenerationdataformatted = windgenerationdata.loc[(windgenerationdata.index >= start_remove) & (windgenerationdata.index < end_remove)]\n",
    "\n",
    "\n",
    "# training and data set\n",
    "\n",
    "# start_remove = pd.to_datetime('2015-01-01')\n",
    "# end_remove = pd.to_datetime('2016-12-01')\n",
    "# windspeedformatted = windspeed.loc[(windspeed.index >= start_remove) & (windspeed.index < end_remove)]\n",
    "# windgenerationdataformatted = windgenerationdata.loc[(windgenerationdata.index >= start_remove) & (windgenerationdata.index < end_remove)]\n",
    "\n",
    "# start_test = pd.to_datetime('2016-12-01')\n",
    "# end_test = pd.to_datetime('2017-01-01')\n",
    "# windspeedtest = windspeed.loc[(windspeed.index >= start_test)]\n",
    "# windgenerationtest = windgenerationdata.loc[(windgenerationdata.index >= start_test) & (windgenerationdata.index < end_test)]\n",
    "\n",
    "solardatatrain =[]\n",
    "solargentrain = []\n",
    "solardatatest = []\n",
    "solargentest = []\n",
    "# Cutting data based on time stamp, 2015-2016 for training, 2016-2017 for testing\n",
    "start_train = pd.to_datetime('2015-01-01',utc = True)\n",
    "end_train = pd.to_datetime('2016-01-01' , utc = True)\n",
    "for i in range(0,len(solar_gen_data_list)):\n",
    "    solardatatrain.append(solar_gen_data_list[i].loc[(solar_gen_data_list[i].index >= start_train) & (solar_gen_data_list[i].index < end_train)])\n",
    "    solargentrain.append(radiation_data_list[i].loc[(radiation_data_list[i].index >= start_train) &(radiation_data_list[i].index < end_train)])\n",
    "#solardatatrain = solardata.loc[(solardata.index >= start_train) & (solardata.index < end_train)]\n",
    "#solargenerationtrain = solargenerationdata.loc[(solargenerationdata.index >= start_train) & (solargenerationdata.index < end_train)]\n",
    "\n",
    "start_test = pd.to_datetime('2016-01-01', utc = True)\n",
    "end_test = pd.to_datetime('2017-01-01', utc = True)\n",
    "#solardatatest = solardata.loc[(solardata.index >= start_test)]\n",
    "#solargenerationtest = solargenerationdata.loc[(solargenerationdata.index >= start_test) & (solargenerationdata.index < end_test)]\n",
    "for i in range(0,len(solar_gen_data_list)):\n",
    "    solardatatest.append(solar_gen_data_list[i].loc[(solar_gen_data_list[i].index >= start_test) & (solar_gen_data_list[i].index < end_test)])\n",
    "    solargentest.append(radiation_data_list[i].loc[(radiation_data_list[i].index >= start_test) &(radiation_data_list[i].index < end_test)])"
   ]
  },
  {
   "cell_type": "code",
   "execution_count": 22,
   "metadata": {
    "scrolled": false
   },
   "outputs": [
    {
     "name": "stdout",
     "output_type": "stream",
     "text": [
      "                           DE_solar_generation_actual\n",
      "utc_timestamp                                        \n",
      "2015-01-01 00:00:00+00:00                         0.0\n",
      "2015-01-01 01:00:00+00:00                         0.0\n",
      "2015-01-01 02:00:00+00:00                         0.0\n",
      "2015-01-01 03:00:00+00:00                         0.0\n",
      "2015-01-01 04:00:00+00:00                         0.0\n",
      "...                                               ...\n",
      "2015-12-31 19:00:00+00:00                         0.0\n",
      "2015-12-31 20:00:00+00:00                         0.0\n",
      "2015-12-31 21:00:00+00:00                         0.0\n",
      "2015-12-31 22:00:00+00:00                         0.0\n",
      "2015-12-31 23:00:00+00:00                         0.0\n",
      "\n",
      "[8760 rows x 1 columns]\n",
      "                           DK_1_solar_generation_actual\n",
      "utc_timestamp                                          \n",
      "2015-01-01 00:00:00+00:00                           0.0\n",
      "2015-01-01 01:00:00+00:00                           0.0\n",
      "2015-01-01 02:00:00+00:00                           0.0\n",
      "2015-01-01 03:00:00+00:00                           0.0\n",
      "2015-01-01 04:00:00+00:00                           0.0\n",
      "...                                                 ...\n",
      "2015-12-31 19:00:00+00:00                           0.0\n",
      "2015-12-31 20:00:00+00:00                           0.0\n",
      "2015-12-31 21:00:00+00:00                           0.0\n",
      "2015-12-31 22:00:00+00:00                           0.0\n",
      "2015-12-31 23:00:00+00:00                           0.0\n",
      "\n",
      "[8760 rows x 1 columns]\n",
      "                           GB_GBN_solar_generation_actual\n",
      "utc_timestamp                                            \n",
      "2015-01-01 00:00:00+00:00                             0.0\n",
      "2015-01-01 01:00:00+00:00                             0.0\n",
      "2015-01-01 02:00:00+00:00                             0.0\n",
      "2015-01-01 03:00:00+00:00                             0.0\n",
      "2015-01-01 04:00:00+00:00                             0.0\n",
      "...                                                   ...\n",
      "2015-12-31 19:00:00+00:00                           361.0\n",
      "2015-12-31 20:00:00+00:00                           527.0\n",
      "2015-12-31 21:00:00+00:00                           407.0\n",
      "2015-12-31 22:00:00+00:00                           323.0\n",
      "2015-12-31 23:00:00+00:00                             0.0\n",
      "\n",
      "[8760 rows x 1 columns]\n",
      "                           SE_solar_generation_actual\n",
      "utc_timestamp                                        \n",
      "2015-01-01 00:00:00+00:00                      0.0102\n",
      "2015-01-01 01:00:00+00:00                      0.0090\n",
      "2015-01-01 02:00:00+00:00                      0.0071\n",
      "2015-01-01 03:00:00+00:00                      0.0124\n",
      "2015-01-01 04:00:00+00:00                      0.0134\n",
      "...                                               ...\n",
      "2015-12-31 19:00:00+00:00                      0.0355\n",
      "2015-12-31 20:00:00+00:00                      0.0337\n",
      "2015-12-31 21:00:00+00:00                      0.0413\n",
      "2015-12-31 22:00:00+00:00                      0.0283\n",
      "2015-12-31 23:00:00+00:00                      0.0353\n",
      "\n",
      "[8760 rows x 1 columns]\n",
      "                           DE_radiation_direct_horizontal  \\\n",
      "utc_timestamp                                               \n",
      "2015-01-01 00:00:00+00:00                             0.0   \n",
      "2015-01-01 01:00:00+00:00                             0.0   \n",
      "2015-01-01 02:00:00+00:00                             0.0   \n",
      "2015-01-01 03:00:00+00:00                             0.0   \n",
      "2015-01-01 04:00:00+00:00                             0.0   \n",
      "...                                                   ...   \n",
      "2015-12-31 19:00:00+00:00                             0.0   \n",
      "2015-12-31 20:00:00+00:00                             0.0   \n",
      "2015-12-31 21:00:00+00:00                             0.0   \n",
      "2015-12-31 22:00:00+00:00                             0.0   \n",
      "2015-12-31 23:00:00+00:00                             0.0   \n",
      "\n",
      "                           DE_radiation_diffuse_horizontal  \n",
      "utc_timestamp                                               \n",
      "2015-01-01 00:00:00+00:00                              0.0  \n",
      "2015-01-01 01:00:00+00:00                              0.0  \n",
      "2015-01-01 02:00:00+00:00                              0.0  \n",
      "2015-01-01 03:00:00+00:00                              0.0  \n",
      "2015-01-01 04:00:00+00:00                              0.0  \n",
      "...                                                    ...  \n",
      "2015-12-31 19:00:00+00:00                              0.0  \n",
      "2015-12-31 20:00:00+00:00                              0.0  \n",
      "2015-12-31 21:00:00+00:00                              0.0  \n",
      "2015-12-31 22:00:00+00:00                              0.0  \n",
      "2015-12-31 23:00:00+00:00                              0.0  \n",
      "\n",
      "[8760 rows x 2 columns]\n",
      "                           DK_radiation_direct_horizontal  \\\n",
      "utc_timestamp                                               \n",
      "2015-01-01 00:00:00+00:00                             0.0   \n",
      "2015-01-01 01:00:00+00:00                             0.0   \n",
      "2015-01-01 02:00:00+00:00                             0.0   \n",
      "2015-01-01 03:00:00+00:00                             0.0   \n",
      "2015-01-01 04:00:00+00:00                             0.0   \n",
      "...                                                   ...   \n",
      "2015-12-31 19:00:00+00:00                             0.0   \n",
      "2015-12-31 20:00:00+00:00                             0.0   \n",
      "2015-12-31 21:00:00+00:00                             0.0   \n",
      "2015-12-31 22:00:00+00:00                             0.0   \n",
      "2015-12-31 23:00:00+00:00                             0.0   \n",
      "\n",
      "                           DK_radiation_diffuse_horizontal  \n",
      "utc_timestamp                                               \n",
      "2015-01-01 00:00:00+00:00                              0.0  \n",
      "2015-01-01 01:00:00+00:00                              0.0  \n",
      "2015-01-01 02:00:00+00:00                              0.0  \n",
      "2015-01-01 03:00:00+00:00                              0.0  \n",
      "2015-01-01 04:00:00+00:00                              0.0  \n",
      "...                                                    ...  \n",
      "2015-12-31 19:00:00+00:00                              0.0  \n",
      "2015-12-31 20:00:00+00:00                              0.0  \n",
      "2015-12-31 21:00:00+00:00                              0.0  \n",
      "2015-12-31 22:00:00+00:00                              0.0  \n",
      "2015-12-31 23:00:00+00:00                              0.0  \n",
      "\n",
      "[8760 rows x 2 columns]\n",
      "                           GB_radiation_direct_horizontal  \\\n",
      "utc_timestamp                                               \n",
      "2015-01-01 00:00:00+00:00                             0.0   \n",
      "2015-01-01 01:00:00+00:00                             0.0   \n",
      "2015-01-01 02:00:00+00:00                             0.0   \n",
      "2015-01-01 03:00:00+00:00                             0.0   \n",
      "2015-01-01 04:00:00+00:00                             0.0   \n",
      "...                                                   ...   \n",
      "2015-12-31 19:00:00+00:00                             0.0   \n",
      "2015-12-31 20:00:00+00:00                             0.0   \n",
      "2015-12-31 21:00:00+00:00                             0.0   \n",
      "2015-12-31 22:00:00+00:00                             0.0   \n",
      "2015-12-31 23:00:00+00:00                             0.0   \n",
      "\n",
      "                           GB_radiation_diffuse_horizontal  \n",
      "utc_timestamp                                               \n",
      "2015-01-01 00:00:00+00:00                              0.0  \n",
      "2015-01-01 01:00:00+00:00                              0.0  \n",
      "2015-01-01 02:00:00+00:00                              0.0  \n",
      "2015-01-01 03:00:00+00:00                              0.0  \n",
      "2015-01-01 04:00:00+00:00                              0.0  \n",
      "...                                                    ...  \n",
      "2015-12-31 19:00:00+00:00                              0.0  \n",
      "2015-12-31 20:00:00+00:00                              0.0  \n",
      "2015-12-31 21:00:00+00:00                              0.0  \n",
      "2015-12-31 22:00:00+00:00                              0.0  \n",
      "2015-12-31 23:00:00+00:00                              0.0  \n",
      "\n",
      "[8760 rows x 2 columns]\n",
      "                           SE_radiation_direct_horizontal  \\\n",
      "utc_timestamp                                               \n",
      "2015-01-01 00:00:00+00:00                             0.0   \n",
      "2015-01-01 01:00:00+00:00                             0.0   \n",
      "2015-01-01 02:00:00+00:00                             0.0   \n",
      "2015-01-01 03:00:00+00:00                             0.0   \n",
      "2015-01-01 04:00:00+00:00                             0.0   \n",
      "...                                                   ...   \n",
      "2015-12-31 19:00:00+00:00                             0.0   \n",
      "2015-12-31 20:00:00+00:00                             0.0   \n",
      "2015-12-31 21:00:00+00:00                             0.0   \n",
      "2015-12-31 22:00:00+00:00                             0.0   \n",
      "2015-12-31 23:00:00+00:00                             0.0   \n",
      "\n",
      "                           SE_radiation_diffuse_horizontal  \n",
      "utc_timestamp                                               \n",
      "2015-01-01 00:00:00+00:00                              0.0  \n",
      "2015-01-01 01:00:00+00:00                              0.0  \n",
      "2015-01-01 02:00:00+00:00                              0.0  \n",
      "2015-01-01 03:00:00+00:00                              0.0  \n",
      "2015-01-01 04:00:00+00:00                              0.0  \n",
      "...                                                    ...  \n",
      "2015-12-31 19:00:00+00:00                              0.0  \n",
      "2015-12-31 20:00:00+00:00                              0.0  \n",
      "2015-12-31 21:00:00+00:00                              0.0  \n",
      "2015-12-31 22:00:00+00:00                              0.0  \n",
      "2015-12-31 23:00:00+00:00                              0.0  \n",
      "\n",
      "[8760 rows x 2 columns]\n",
      "                           DE_solar_generation_actual\n",
      "utc_timestamp                                        \n",
      "2016-01-01 00:00:00+00:00                         0.0\n",
      "2016-01-01 01:00:00+00:00                         0.0\n",
      "2016-01-01 02:00:00+00:00                         0.0\n",
      "2016-01-01 03:00:00+00:00                         0.0\n",
      "2016-01-01 04:00:00+00:00                         0.0\n",
      "...                                               ...\n",
      "2016-12-31 19:00:00+00:00                         0.0\n",
      "2016-12-31 20:00:00+00:00                         0.0\n",
      "2016-12-31 21:00:00+00:00                         0.0\n",
      "2016-12-31 22:00:00+00:00                         0.0\n",
      "2016-12-31 23:00:00+00:00                         0.0\n",
      "\n",
      "[8784 rows x 1 columns]\n",
      "                           DK_1_solar_generation_actual\n",
      "utc_timestamp                                          \n",
      "2016-01-01 00:00:00+00:00                           0.0\n",
      "2016-01-01 01:00:00+00:00                           0.0\n",
      "2016-01-01 02:00:00+00:00                           0.0\n",
      "2016-01-01 03:00:00+00:00                           0.0\n",
      "2016-01-01 04:00:00+00:00                           0.0\n",
      "...                                                 ...\n",
      "2016-12-31 19:00:00+00:00                           0.0\n",
      "2016-12-31 20:00:00+00:00                           0.0\n",
      "2016-12-31 21:00:00+00:00                           0.0\n",
      "2016-12-31 22:00:00+00:00                           0.0\n",
      "2016-12-31 23:00:00+00:00                           0.0\n",
      "\n",
      "[8784 rows x 1 columns]\n",
      "                           GB_GBN_solar_generation_actual\n",
      "utc_timestamp                                            \n",
      "2016-01-01 00:00:00+00:00                            19.0\n",
      "2016-01-01 01:00:00+00:00                             0.0\n",
      "2016-01-01 02:00:00+00:00                             0.0\n",
      "2016-01-01 03:00:00+00:00                             0.0\n",
      "2016-01-01 04:00:00+00:00                             0.0\n",
      "...                                                   ...\n",
      "2016-12-31 19:00:00+00:00                           825.0\n",
      "2016-12-31 20:00:00+00:00                           492.0\n",
      "2016-12-31 21:00:00+00:00                           382.0\n",
      "2016-12-31 22:00:00+00:00                           289.0\n",
      "2016-12-31 23:00:00+00:00                            63.0\n",
      "\n",
      "[8784 rows x 1 columns]\n",
      "                           SE_solar_generation_actual\n",
      "utc_timestamp                                        \n",
      "2016-01-01 00:00:00+00:00                      0.0444\n",
      "2016-01-01 01:00:00+00:00                      0.0435\n",
      "2016-01-01 02:00:00+00:00                      0.0317\n",
      "2016-01-01 03:00:00+00:00                      0.0305\n",
      "2016-01-01 04:00:00+00:00                      0.0300\n",
      "...                                               ...\n",
      "2016-12-31 19:00:00+00:00                      0.0376\n",
      "2016-12-31 20:00:00+00:00                      0.0349\n",
      "2016-12-31 21:00:00+00:00                      0.0294\n",
      "2016-12-31 22:00:00+00:00                      0.0314\n",
      "2016-12-31 23:00:00+00:00                      0.0333\n",
      "\n",
      "[8784 rows x 1 columns]\n",
      "                           DE_radiation_direct_horizontal  \\\n",
      "utc_timestamp                                               \n",
      "2016-01-01 00:00:00+00:00                             0.0   \n",
      "2016-01-01 01:00:00+00:00                             0.0   \n",
      "2016-01-01 02:00:00+00:00                             0.0   \n",
      "2016-01-01 03:00:00+00:00                             0.0   \n",
      "2016-01-01 04:00:00+00:00                             0.0   \n",
      "...                                                   ...   \n",
      "2016-12-31 19:00:00+00:00                             0.0   \n",
      "2016-12-31 20:00:00+00:00                             0.0   \n",
      "2016-12-31 21:00:00+00:00                             0.0   \n",
      "2016-12-31 22:00:00+00:00                             0.0   \n",
      "2016-12-31 23:00:00+00:00                             0.0   \n",
      "\n",
      "                           DE_radiation_diffuse_horizontal  \n",
      "utc_timestamp                                               \n",
      "2016-01-01 00:00:00+00:00                              0.0  \n",
      "2016-01-01 01:00:00+00:00                              0.0  \n",
      "2016-01-01 02:00:00+00:00                              0.0  \n",
      "2016-01-01 03:00:00+00:00                              0.0  \n",
      "2016-01-01 04:00:00+00:00                              0.0  \n",
      "...                                                    ...  \n",
      "2016-12-31 19:00:00+00:00                              0.0  \n",
      "2016-12-31 20:00:00+00:00                              0.0  \n",
      "2016-12-31 21:00:00+00:00                              0.0  \n",
      "2016-12-31 22:00:00+00:00                              0.0  \n",
      "2016-12-31 23:00:00+00:00                              0.0  \n",
      "\n",
      "[8784 rows x 2 columns]\n",
      "                           DK_radiation_direct_horizontal  \\\n",
      "utc_timestamp                                               \n",
      "2016-01-01 00:00:00+00:00                             0.0   \n",
      "2016-01-01 01:00:00+00:00                             0.0   \n",
      "2016-01-01 02:00:00+00:00                             0.0   \n",
      "2016-01-01 03:00:00+00:00                             0.0   \n",
      "2016-01-01 04:00:00+00:00                             0.0   \n",
      "...                                                   ...   \n",
      "2016-12-31 19:00:00+00:00                             0.0   \n",
      "2016-12-31 20:00:00+00:00                             0.0   \n",
      "2016-12-31 21:00:00+00:00                             0.0   \n",
      "2016-12-31 22:00:00+00:00                             0.0   \n",
      "2016-12-31 23:00:00+00:00                             0.0   \n",
      "\n",
      "                           DK_radiation_diffuse_horizontal  \n",
      "utc_timestamp                                               \n",
      "2016-01-01 00:00:00+00:00                              0.0  \n",
      "2016-01-01 01:00:00+00:00                              0.0  \n",
      "2016-01-01 02:00:00+00:00                              0.0  \n",
      "2016-01-01 03:00:00+00:00                              0.0  \n",
      "2016-01-01 04:00:00+00:00                              0.0  \n",
      "...                                                    ...  \n",
      "2016-12-31 19:00:00+00:00                              0.0  \n",
      "2016-12-31 20:00:00+00:00                              0.0  \n",
      "2016-12-31 21:00:00+00:00                              0.0  \n",
      "2016-12-31 22:00:00+00:00                              0.0  \n",
      "2016-12-31 23:00:00+00:00                              0.0  \n",
      "\n",
      "[8784 rows x 2 columns]\n",
      "                           GB_radiation_direct_horizontal  \\\n",
      "utc_timestamp                                               \n",
      "2016-01-01 00:00:00+00:00                             0.0   \n",
      "2016-01-01 01:00:00+00:00                             0.0   \n",
      "2016-01-01 02:00:00+00:00                             0.0   \n",
      "2016-01-01 03:00:00+00:00                             0.0   \n",
      "2016-01-01 04:00:00+00:00                             0.0   \n",
      "...                                                   ...   \n",
      "2016-12-31 19:00:00+00:00                             0.0   \n",
      "2016-12-31 20:00:00+00:00                             0.0   \n",
      "2016-12-31 21:00:00+00:00                             0.0   \n",
      "2016-12-31 22:00:00+00:00                             0.0   \n",
      "2016-12-31 23:00:00+00:00                             0.0   \n",
      "\n",
      "                           GB_radiation_diffuse_horizontal  \n",
      "utc_timestamp                                               \n",
      "2016-01-01 00:00:00+00:00                              0.0  \n",
      "2016-01-01 01:00:00+00:00                              0.0  \n",
      "2016-01-01 02:00:00+00:00                              0.0  \n",
      "2016-01-01 03:00:00+00:00                              0.0  \n",
      "2016-01-01 04:00:00+00:00                              0.0  \n",
      "...                                                    ...  \n",
      "2016-12-31 19:00:00+00:00                              0.0  \n",
      "2016-12-31 20:00:00+00:00                              0.0  \n",
      "2016-12-31 21:00:00+00:00                              0.0  \n",
      "2016-12-31 22:00:00+00:00                              0.0  \n",
      "2016-12-31 23:00:00+00:00                              0.0  \n",
      "\n",
      "[8784 rows x 2 columns]\n",
      "                           SE_radiation_direct_horizontal  \\\n",
      "utc_timestamp                                               \n",
      "2016-01-01 00:00:00+00:00                             0.0   \n",
      "2016-01-01 01:00:00+00:00                             0.0   \n",
      "2016-01-01 02:00:00+00:00                             0.0   \n",
      "2016-01-01 03:00:00+00:00                             0.0   \n",
      "2016-01-01 04:00:00+00:00                             0.0   \n",
      "...                                                   ...   \n",
      "2016-12-31 19:00:00+00:00                             0.0   \n",
      "2016-12-31 20:00:00+00:00                             0.0   \n",
      "2016-12-31 21:00:00+00:00                             0.0   \n",
      "2016-12-31 22:00:00+00:00                             0.0   \n",
      "2016-12-31 23:00:00+00:00                             0.0   \n",
      "\n",
      "                           SE_radiation_diffuse_horizontal  \n",
      "utc_timestamp                                               \n",
      "2016-01-01 00:00:00+00:00                              0.0  \n",
      "2016-01-01 01:00:00+00:00                              0.0  \n",
      "2016-01-01 02:00:00+00:00                              0.0  \n",
      "2016-01-01 03:00:00+00:00                              0.0  \n",
      "2016-01-01 04:00:00+00:00                              0.0  \n",
      "...                                                    ...  \n",
      "2016-12-31 19:00:00+00:00                              0.0  \n",
      "2016-12-31 20:00:00+00:00                              0.0  \n",
      "2016-12-31 21:00:00+00:00                              0.0  \n",
      "2016-12-31 22:00:00+00:00                              0.0  \n",
      "2016-12-31 23:00:00+00:00                              0.0  \n",
      "\n",
      "[8784 rows x 2 columns]\n"
     ]
    }
   ],
   "source": [
    "for i in solardatatrain:\n",
    "    print(i)\n",
    "for j in solargentrain:\n",
    "    print(j)\n",
    "for k in solardatatest:\n",
    "    print(k)\n",
    "for l in solargentest:\n",
    "    print(l)"
   ]
  },
  {
   "cell_type": "code",
   "execution_count": null,
   "metadata": {},
   "outputs": [],
   "source": [
    "# windspeedformatted.replace([np.inf, -np.inf], 0)"
   ]
  },
  {
   "cell_type": "code",
   "execution_count": null,
   "metadata": {},
   "outputs": [],
   "source": [
    "#creating test/comparison data\n",
    "# start_test = pd.to_datetime('2015-01-01')\n",
    "# end_test = pd.to_datetime('2016-01-01')\n",
    "# windspeedtest = windspeed.loc[(windspeed.index >= start_test) & (windspeed.index < end_test)]\n",
    "# windgenerationtest = windgenerationdata.loc[(windgenerationdata.index >= start_test) & (windgenerationdata.index < end_test)]"
   ]
  },
  {
   "cell_type": "code",
   "execution_count": null,
   "metadata": {},
   "outputs": [],
   "source": []
  },
  {
   "cell_type": "code",
   "execution_count": null,
   "metadata": {},
   "outputs": [],
   "source": [
    "solargenerationtrain"
   ]
  },
  {
   "cell_type": "code",
   "execution_count": null,
   "metadata": {},
   "outputs": [],
   "source": [
    "# max(windgenerationdataformatted['DE_wind_generation_actual'])"
   ]
  },
  {
   "cell_type": "code",
   "execution_count": null,
   "metadata": {},
   "outputs": [],
   "source": [
    "# min(windgenerationdataformatted['DE_wind_generation_actual'])"
   ]
  },
  {
   "cell_type": "code",
   "execution_count": null,
   "metadata": {},
   "outputs": [],
   "source": [
    "solargenerationtrain = solargenerationtrain * 1e-3"
   ]
  },
  {
   "cell_type": "code",
   "execution_count": null,
   "metadata": {},
   "outputs": [],
   "source": [
    "solargenerationtest = solargenerationtest * 1e-3"
   ]
  },
  {
   "cell_type": "code",
   "execution_count": null,
   "metadata": {},
   "outputs": [],
   "source": [
    "solargenerationtest"
   ]
  },
  {
   "cell_type": "code",
   "execution_count": 15,
   "metadata": {},
   "outputs": [],
   "source": [
    "from sklearn.linear_model import LinearRegression\n",
    "from sklearn.model_selection import train_test_split"
   ]
  },
  {
   "cell_type": "code",
   "execution_count": null,
   "metadata": {},
   "outputs": [],
   "source": [
    "#train test might not be valid for our case because we have timestamps in play\n",
    "# xtr, xts, ytr, yts = train_test_split(windspeedformatted,windgenerationdataformatted, test_size = 0.33)"
   ]
  },
  {
   "cell_type": "code",
   "execution_count": null,
   "metadata": {},
   "outputs": [],
   "source": [
    "#inital model training attempt\n",
    "# model = LinearRegression().fit(xtr,ytr)\n",
    "# predicted = model.predict(windspeedformatted)"
   ]
  },
  {
   "cell_type": "code",
   "execution_count": null,
   "metadata": {},
   "outputs": [],
   "source": [
    "#attempt at cross validation\n",
    "# from sklearn.model_selection import cross_val_score\n",
    "\n",
    "# model = LinearRegression()\n",
    "\n",
    "# scores_wind = cross_val_score(model, windspeedformatted, windgenerationdataformatted, cv=5)\n",
    "# print(scores_wind, \"\\naverage =\", np.mean(scores_wind))"
   ]
  },
  {
   "cell_type": "code",
   "execution_count": null,
   "metadata": {},
   "outputs": [],
   "source": [
    "#predict using train test split data\n",
    "# predicted = model.predict(xts)"
   ]
  },
  {
   "cell_type": "code",
   "execution_count": null,
   "metadata": {},
   "outputs": [],
   "source": [
    "# predicted"
   ]
  },
  {
   "cell_type": "code",
   "execution_count": null,
   "metadata": {},
   "outputs": [],
   "source": [
    "#error when using model from cross validation\n",
    "# predicted = model.predict(windspeedformatted)"
   ]
  },
  {
   "cell_type": "code",
   "execution_count": null,
   "metadata": {},
   "outputs": [],
   "source": [
    "#timeseries used as x axis when plotting predicted\n",
    "# timeseries = pd.date_range('2016-01-01', '2016-12-31 23:00:00', freq='H')"
   ]
  },
  {
   "cell_type": "code",
   "execution_count": null,
   "metadata": {},
   "outputs": [],
   "source": [
    "# timeseries"
   ]
  },
  {
   "cell_type": "code",
   "execution_count": null,
   "metadata": {},
   "outputs": [],
   "source": [
    "# windgenerationdataformatted.plot(linewidth=0.5)"
   ]
  },
  {
   "cell_type": "code",
   "execution_count": null,
   "metadata": {
    "scrolled": true
   },
   "outputs": [],
   "source": [
    "# I think this is an invalid test because using entire dataset in the predict but the training data is from that same set\n",
    "# plt.plot(timeseries,predicted, linewidth=0.5)"
   ]
  },
  {
   "cell_type": "code",
   "execution_count": null,
   "metadata": {},
   "outputs": [],
   "source": [
    "'''\n",
    "Todo:\n",
    "take in weather data and generation data\n",
    "separate data into two sets:\n",
    "Solar\n",
    "X = [sun related weather columns] \n",
    "Y = wind_generation_actual\n",
    "Wind:\n",
    "X = [wind related weather columns] \n",
    "Y = sun_generation_actual\n",
    "\n",
    "Trim data based on timestamp\n",
    "Wind generation begins at 2010-01-01\n",
    "However there are values with NaN.\n",
    "No wind data past 2016\n",
    "Only valid times for dataset is 2015-01-01 to 2017\n",
    "\n",
    "Solar generation begins at 2012-01-01\n",
    "\n",
    "To try: if there are timestamps do I have to format data?\n",
    "'''"
   ]
  },
  {
   "cell_type": "code",
   "execution_count": null,
   "metadata": {},
   "outputs": [],
   "source": [
    "# np.any(np.isnan(windspeedformatted))"
   ]
  },
  {
   "cell_type": "code",
   "execution_count": null,
   "metadata": {},
   "outputs": [],
   "source": [
    "# np.all(np.isfinite(windspeedformatted))"
   ]
  },
  {
   "cell_type": "code",
   "execution_count": null,
   "metadata": {},
   "outputs": [],
   "source": [
    "# windspeedformatted = windspeedformatted[~windspeedformatted.isin([np.nan, np.inf, -np.inf]).any(1)]"
   ]
  },
  {
   "cell_type": "code",
   "execution_count": null,
   "metadata": {},
   "outputs": [],
   "source": [
    "# np.where(windspeedformatted.values >= np.finfo(np.float64).max)"
   ]
  },
  {
   "cell_type": "code",
   "execution_count": null,
   "metadata": {},
   "outputs": [],
   "source": [
    "# windspeedformatted"
   ]
  },
  {
   "cell_type": "code",
   "execution_count": null,
   "metadata": {},
   "outputs": [],
   "source": [
    "# np.any(np.isnan(windspeedformatted))"
   ]
  },
  {
   "cell_type": "code",
   "execution_count": null,
   "metadata": {},
   "outputs": [],
   "source": [
    "# windgenerationdataformatted"
   ]
  },
  {
   "cell_type": "code",
   "execution_count": 23,
   "metadata": {},
   "outputs": [
    {
     "name": "stdout",
     "output_type": "stream",
     "text": [
      "0\n",
      "1\n",
      "2\n",
      "3\n"
     ]
    }
   ],
   "source": [
    "model_list =[]\n",
    "for i in range(0,len(solardatatrain)):\n",
    "    model =LinearRegression().fit(solardatatrain[i],solargentrain[i])\n",
    "    model_list.append(model)\n",
    "    print (i)"
   ]
  },
  {
   "cell_type": "code",
   "execution_count": 24,
   "metadata": {},
   "outputs": [],
   "source": [
    "#using the previously formatted data which is data from 2015\n",
    "prediction_list = []\n",
    "for i in range(0,len(solardatatrain)): # We have 4 items in solardata train\n",
    "    prediction = model_list[i].predict(solardatatest[i])\n",
    "    prediction_list.append(prediction)\n"
   ]
  },
  {
   "cell_type": "code",
   "execution_count": 34,
   "metadata": {},
   "outputs": [
    {
     "name": "stdout",
     "output_type": "stream",
     "text": [
      "(8784, 2)\n"
     ]
    }
   ],
   "source": [
    "print(prediction.shape)"
   ]
  },
  {
   "cell_type": "code",
   "execution_count": 31,
   "metadata": {},
   "outputs": [
    {
     "name": "stdout",
     "output_type": "stream",
     "text": [
      "(8784,)\n"
     ]
    }
   ],
   "source": [
    "timeseries = pd.date_range('2016-01-01', '2016-12-31 23:00:00', freq='H')\n",
    "print(timeseries.shape)"
   ]
  },
  {
   "cell_type": "code",
   "execution_count": 26,
   "metadata": {},
   "outputs": [
    {
     "data": {
      "image/png": "[encoded data removed]",
      "text/plain": [
       "<Figure size 432x288 with 1 Axes>"
      ]
     },
     "metadata": {
      "needs_background": "light"
     },
     "output_type": "display_data"
    },
    {
     "data": {
      "image/png": "[encoded data removed]",
      "text/plain": [
       "<Figure size 432x288 with 1 Axes>"
      ]
     },
     "metadata": {
      "needs_background": "light"
     },
     "output_type": "display_data"
    },
    {
     "data": {
      "image/png": "[encoded data removed]",
      "text/plain": [
       "<Figure size 432x288 with 1 Axes>"
      ]
     },
     "metadata": {
      "needs_background": "light"
     },
     "output_type": "display_data"
    },
    {
     "data": {
      "image/png": "[encoded data removed]",
      "text/plain": [
       "<Figure size 432x288 with 1 Axes>"
      ]
     },
     "metadata": {
      "needs_background": "light"
     },
     "output_type": "display_data"
    }
   ],
   "source": [
    "for i in range (0,4):\n",
    "    \n",
    "    solargentest[i].plot(linewidth=0.5)"
   ]
  },
  {
   "cell_type": "code",
   "execution_count": 35,
   "metadata": {},
   "outputs": [
    {
     "ename": "IndexError",
     "evalue": "index 2 is out of bounds for axis 1 with size 2",
     "output_type": "error",
     "traceback": [
      "\u001b[1;31m---------------------------------------------------------------------------\u001b[0m",
      "\u001b[1;31mIndexError\u001b[0m                                Traceback (most recent call last)",
      "\u001b[1;32m<ipython-input-35-8ca2c55c8981>\u001b[0m in \u001b[0;36m<module>\u001b[1;34m\u001b[0m\n\u001b[0;32m      1\u001b[0m \u001b[1;32mfor\u001b[0m \u001b[0mi\u001b[0m \u001b[1;32min\u001b[0m \u001b[0mrange\u001b[0m\u001b[1;33m(\u001b[0m\u001b[1;36m0\u001b[0m\u001b[1;33m,\u001b[0m\u001b[1;36m4\u001b[0m\u001b[1;33m)\u001b[0m\u001b[1;33m:\u001b[0m\u001b[1;33m\u001b[0m\u001b[1;33m\u001b[0m\u001b[0m\n\u001b[1;32m----> 2\u001b[1;33m     \u001b[0mplt\u001b[0m\u001b[1;33m.\u001b[0m\u001b[0mplot\u001b[0m\u001b[1;33m(\u001b[0m\u001b[0mtimeseries\u001b[0m\u001b[1;33m,\u001b[0m\u001b[0mprediction\u001b[0m\u001b[1;33m[\u001b[0m\u001b[1;33m:\u001b[0m\u001b[1;33m,\u001b[0m\u001b[0mi\u001b[0m\u001b[1;33m]\u001b[0m\u001b[1;33m,\u001b[0m \u001b[0mlinewidth\u001b[0m\u001b[1;33m=\u001b[0m\u001b[1;36m0.5\u001b[0m\u001b[1;33m)\u001b[0m\u001b[1;33m\u001b[0m\u001b[1;33m\u001b[0m\u001b[0m\n\u001b[0m",
      "\u001b[1;31mIndexError\u001b[0m: index 2 is out of bounds for axis 1 with size 2"
     ]
    },
    {
     "data": {
      "image/png": "[encoded data removed]",
      "text/plain": [
       "<Figure size 432x288 with 1 Axes>"
      ]
     },
     "metadata": {
      "needs_background": "light"
     },
     "output_type": "display_data"
    }
   ],
   "source": [
    "for i in range(0,4):\n",
    "    plt.plot(timeseries,prediction[:,i], linewidth=0.5) #Plotting predictions from each model"
   ]
  },
  {
   "cell_type": "code",
   "execution_count": null,
   "metadata": {},
   "outputs": [],
   "source": [
    "from sklearn.metrics import r2_score\n",
    "print(r2_score(solargenerationtest, prediction))"
   ]
  },
  {
   "cell_type": "code",
   "execution_count": null,
   "metadata": {},
   "outputs": [],
   "source": [
    "#large number because we're deadling with large numbers\n",
    "from sklearn.metrics import mean_squared_error\n",
    "print(mean_squared_error(solargenerationtest, prediction))"
   ]
  },
  {
   "cell_type": "code",
   "execution_count": null,
   "metadata": {},
   "outputs": [],
   "source": [
    "print(np.sum((solargenerationtest-prediction)**2)/(prediction.shape[0]))"
   ]
  },
  {
   "cell_type": "code",
   "execution_count": null,
   "metadata": {},
   "outputs": [],
   "source": [
    "'''\n",
    "To do:\n",
    "Figure out mse (maybe normalize)\n",
    "figure out cross validation fitting\n",
    "Incorportate more data (more times and more regions)\n",
    "\n",
    "NN model experimentation\n",
    "\n",
    "Expand to solar generation\n",
    "'''"
   ]
  },
  {
   "cell_type": "code",
   "execution_count": null,
   "metadata": {},
   "outputs": [],
   "source": []
  }
 ],
 "metadata": {
  "kernelspec": {
   "display_name": "Python 3",
   "language": "python",
   "name": "python3"
  },
  "language_info": {
   "codemirror_mode": {
    "name": "ipython",
    "version": 3
   },
   "file_extension": ".py",
   "mimetype": "text/x-python",
   "name": "python",
   "nbconvert_exporter": "python",
   "pygments_lexer": "ipython3",
   "version": "3.7.4"
  }
 },
 "nbformat": 4,
 "nbformat_minor": 2
}
