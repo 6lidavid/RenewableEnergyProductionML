{
 "cells": [
  {
   "cell_type": "code",
   "execution_count": 1,
   "metadata": {},
   "outputs": [],
   "source": [
    "import pandas as pd\n",
    "import numpy as np\n",
    "import matplotlib.pyplot as plt\n",
    "%matplotlib inline"
   ]
  },
  {
   "cell_type": "code",
   "execution_count": 2,
   "metadata": {},
   "outputs": [],
   "source": [
    "country_list_x = ['DE','DK_1','SE'] #Germany,Denmark ,Poland,Sweden \n",
    "country_list_y = ['DE','DK','SE']\n",
    "radiation_data_list = []"
   ]
  },
  {
   "cell_type": "code",
   "execution_count": 3,
   "metadata": {},
   "outputs": [],
   "source": [
    "# energygenerationdata = pd.read_csv(\"../data/time_series_60min_singleindex.csv\",\n",
    "#                         usecols=(lambda s: s.startswith('utc') | \n",
    "#                                  s.startswith('DE_solar') |\n",
    "#                                  s. startswith('DE_wind')),\n",
    "#                         parse_dates=[0], index_col=0)\n",
    "wind_gen_list = []\n",
    "for i in country_list_x:\n",
    "    i = i+\"_wind_gen\"\n",
    "    wind_gen_dat = pd.read_csv(\"../data/time_series_60min_singleindex.csv\",\n",
    "                        usecols=(lambda s: s.startswith('utc') | \n",
    "                                 (s. startswith(i) & s.endswith('actual'))),\n",
    "                        parse_dates=[0], index_col=0)# wind generation is measured in MW\n",
    "    wind_gen_list.append(wind_gen_dat)\n",
    "#windgenerationdata = pd.read_csv(\"../data/time_series_60min_singleindex.csv\",\n",
    " #                       usecols=(lambda s: s.startswith('utc') | \n",
    "  #                               s. startswith('DE_wind_generation')),\n",
    "   #                     parse_dates=[0], index_col=0)\n",
    "\n",
    "# solargenerationdata = pd.read_csv(\"../data/time_series_60min_singleindex.csv\",\n",
    "#                         usecols=(lambda s: s.startswith('utc') | \n",
    "#                                  s.startswith('DE_solar')),\n",
    "#                         parse_dates=[0], index_col=0)"
   ]
  },
  {
   "cell_type": "code",
   "execution_count": 4,
   "metadata": {},
   "outputs": [
    {
     "name": "stdout",
     "output_type": "stream",
     "text": [
      "[                           DE_wind_generation_actual\n",
      "utc_timestamp                                       \n",
      "2004-12-31 23:00:00+00:00                        NaN\n",
      "2005-01-01 00:00:00+00:00                        NaN\n",
      "2005-01-01 01:00:00+00:00                        NaN\n",
      "2005-01-01 02:00:00+00:00                        NaN\n",
      "2005-01-01 03:00:00+00:00                        NaN\n",
      "...                                              ...\n",
      "2019-04-30 19:00:00+00:00                     8194.0\n",
      "2019-04-30 20:00:00+00:00                     8659.0\n",
      "2019-04-30 21:00:00+00:00                     8414.0\n",
      "2019-04-30 22:00:00+00:00                        NaN\n",
      "2019-04-30 23:00:00+00:00                        NaN\n",
      "\n",
      "[125593 rows x 1 columns],                            DK_1_wind_generation_actual\n",
      "utc_timestamp                                         \n",
      "2004-12-31 23:00:00+00:00                          NaN\n",
      "2005-01-01 00:00:00+00:00                        278.1\n",
      "2005-01-01 01:00:00+00:00                        294.9\n",
      "2005-01-01 02:00:00+00:00                        304.5\n",
      "2005-01-01 03:00:00+00:00                        322.4\n",
      "...                                                ...\n",
      "2019-04-30 19:00:00+00:00                          NaN\n",
      "2019-04-30 20:00:00+00:00                          NaN\n",
      "2019-04-30 21:00:00+00:00                          NaN\n",
      "2019-04-30 22:00:00+00:00                          NaN\n",
      "2019-04-30 23:00:00+00:00                          NaN\n",
      "\n",
      "[125593 rows x 1 columns],                            SE_wind_generation_actual\n",
      "utc_timestamp                                       \n",
      "2004-12-31 23:00:00+00:00                        NaN\n",
      "2005-01-01 00:00:00+00:00                       3.22\n",
      "2005-01-01 01:00:00+00:00                       2.84\n",
      "2005-01-01 02:00:00+00:00                       2.57\n",
      "2005-01-01 03:00:00+00:00                       3.12\n",
      "...                                              ...\n",
      "2019-04-30 19:00:00+00:00                        NaN\n",
      "2019-04-30 20:00:00+00:00                        NaN\n",
      "2019-04-30 21:00:00+00:00                        NaN\n",
      "2019-04-30 22:00:00+00:00                        NaN\n",
      "2019-04-30 23:00:00+00:00                        NaN\n",
      "\n",
      "[125593 rows x 1 columns]]\n"
     ]
    }
   ],
   "source": [
    "print(wind_gen_list)"
   ]
  },
  {
   "cell_type": "code",
   "execution_count": 5,
   "metadata": {},
   "outputs": [],
   "source": [
    "# weatherdata = pd.read_csv(\"../data/weather_data.csv\",\n",
    "#                 usecols=(lambda s: s.startswith('utc') | \n",
    "#                          s.startswith('DE')),\n",
    "#                 parse_dates=[0], index_col=0)"
   ]
  },
  {
   "cell_type": "code",
   "execution_count": 6,
   "metadata": {
    "scrolled": true
   },
   "outputs": [
    {
     "name": "stdout",
     "output_type": "stream",
     "text": [
      "                           DE_windspeed_10m\n",
      "utc_timestamp                              \n",
      "1980-01-01 00:00:00+00:00            5.7291\n",
      "1980-01-01 01:00:00+00:00            5.7234\n",
      "1980-01-01 02:00:00+00:00            5.7342\n",
      "1980-01-01 03:00:00+00:00            5.7345\n",
      "1980-01-01 04:00:00+00:00            5.6416\n",
      "...                                     ...\n",
      "2016-12-31 19:00:00+00:00            4.2129\n",
      "2016-12-31 20:00:00+00:00            4.2875\n",
      "2016-12-31 21:00:00+00:00            4.2965\n",
      "2016-12-31 22:00:00+00:00            4.4200\n",
      "2016-12-31 23:00:00+00:00            4.4611\n",
      "\n",
      "[324360 rows x 1 columns]\n",
      "                           DK_windspeed_10m\n",
      "utc_timestamp                              \n",
      "1980-01-01 00:00:00+00:00              4.18\n",
      "1980-01-01 01:00:00+00:00              4.19\n",
      "1980-01-01 02:00:00+00:00              4.16\n",
      "1980-01-01 03:00:00+00:00              4.06\n",
      "1980-01-01 04:00:00+00:00              3.92\n",
      "...                                     ...\n",
      "2016-12-31 19:00:00+00:00              9.52\n",
      "2016-12-31 20:00:00+00:00              9.74\n",
      "2016-12-31 21:00:00+00:00              9.93\n",
      "2016-12-31 22:00:00+00:00              9.98\n",
      "2016-12-31 23:00:00+00:00             10.12\n",
      "\n",
      "[324360 rows x 1 columns]\n",
      "Empty DataFrame\n",
      "Columns: []\n",
      "Index: [1980-01-01 00:00:00+00:00, 1980-01-01 01:00:00+00:00, 1980-01-01 02:00:00+00:00, 1980-01-01 03:00:00+00:00, 1980-01-01 04:00:00+00:00, 1980-01-01 05:00:00+00:00, 1980-01-01 06:00:00+00:00, 1980-01-01 07:00:00+00:00, 1980-01-01 08:00:00+00:00, 1980-01-01 09:00:00+00:00, 1980-01-01 10:00:00+00:00, 1980-01-01 11:00:00+00:00, 1980-01-01 12:00:00+00:00, 1980-01-01 13:00:00+00:00, 1980-01-01 14:00:00+00:00, 1980-01-01 15:00:00+00:00, 1980-01-01 16:00:00+00:00, 1980-01-01 17:00:00+00:00, 1980-01-01 18:00:00+00:00, 1980-01-01 19:00:00+00:00, 1980-01-01 20:00:00+00:00, 1980-01-01 21:00:00+00:00, 1980-01-01 22:00:00+00:00, 1980-01-01 23:00:00+00:00, 1980-01-02 00:00:00+00:00, 1980-01-02 01:00:00+00:00, 1980-01-02 02:00:00+00:00, 1980-01-02 03:00:00+00:00, 1980-01-02 04:00:00+00:00, 1980-01-02 05:00:00+00:00, 1980-01-02 06:00:00+00:00, 1980-01-02 07:00:00+00:00, 1980-01-02 08:00:00+00:00, 1980-01-02 09:00:00+00:00, 1980-01-02 10:00:00+00:00, 1980-01-02 11:00:00+00:00, 1980-01-02 12:00:00+00:00, 1980-01-02 13:00:00+00:00, 1980-01-02 14:00:00+00:00, 1980-01-02 15:00:00+00:00, 1980-01-02 16:00:00+00:00, 1980-01-02 17:00:00+00:00, 1980-01-02 18:00:00+00:00, 1980-01-02 19:00:00+00:00, 1980-01-02 20:00:00+00:00, 1980-01-02 21:00:00+00:00, 1980-01-02 22:00:00+00:00, 1980-01-02 23:00:00+00:00, 1980-01-03 00:00:00+00:00, 1980-01-03 01:00:00+00:00, 1980-01-03 02:00:00+00:00, 1980-01-03 03:00:00+00:00, 1980-01-03 04:00:00+00:00, 1980-01-03 05:00:00+00:00, 1980-01-03 06:00:00+00:00, 1980-01-03 07:00:00+00:00, 1980-01-03 08:00:00+00:00, 1980-01-03 09:00:00+00:00, 1980-01-03 10:00:00+00:00, 1980-01-03 11:00:00+00:00, 1980-01-03 12:00:00+00:00, 1980-01-03 13:00:00+00:00, 1980-01-03 14:00:00+00:00, 1980-01-03 15:00:00+00:00, 1980-01-03 16:00:00+00:00, 1980-01-03 17:00:00+00:00, 1980-01-03 18:00:00+00:00, 1980-01-03 19:00:00+00:00, 1980-01-03 20:00:00+00:00, 1980-01-03 21:00:00+00:00, 1980-01-03 22:00:00+00:00, 1980-01-03 23:00:00+00:00, 1980-01-04 00:00:00+00:00, 1980-01-04 01:00:00+00:00, 1980-01-04 02:00:00+00:00, 1980-01-04 03:00:00+00:00, 1980-01-04 04:00:00+00:00, 1980-01-04 05:00:00+00:00, 1980-01-04 06:00:00+00:00, 1980-01-04 07:00:00+00:00, 1980-01-04 08:00:00+00:00, 1980-01-04 09:00:00+00:00, 1980-01-04 10:00:00+00:00, 1980-01-04 11:00:00+00:00, 1980-01-04 12:00:00+00:00, 1980-01-04 13:00:00+00:00, 1980-01-04 14:00:00+00:00, 1980-01-04 15:00:00+00:00, 1980-01-04 16:00:00+00:00, 1980-01-04 17:00:00+00:00, 1980-01-04 18:00:00+00:00, 1980-01-04 19:00:00+00:00, 1980-01-04 20:00:00+00:00, 1980-01-04 21:00:00+00:00, 1980-01-04 22:00:00+00:00, 1980-01-04 23:00:00+00:00, 1980-01-05 00:00:00+00:00, 1980-01-05 01:00:00+00:00, 1980-01-05 02:00:00+00:00, 1980-01-05 03:00:00+00:00, ...]\n",
      "\n",
      "[324360 rows x 0 columns]\n"
     ]
    }
   ],
   "source": [
    "windspeed_list =[]\n",
    "for i in country_list_y:\n",
    "    i = i + \"_windspeed\"\n",
    "    windspeed = pd.read_csv(\"../data/weather_data.csv\",\n",
    "                usecols=(lambda s: s.startswith('utc') | \n",
    "                         s.startswith(i)),\n",
    "                parse_dates=[0], index_col=0)\n",
    "    print(windspeed)\n",
    "    windspeed_list.append(windspeed)"
   ]
  },
  {
   "cell_type": "code",
   "execution_count": 9,
   "metadata": {},
   "outputs": [
    {
     "name": "stdout",
     "output_type": "stream",
     "text": [
      "3\n",
      "execution\n",
      "                           DE_windspeed_10m\n",
      "utc_timestamp                              \n",
      "1980-01-01 00:00:00+00:00            5.7291\n",
      "1980-01-01 01:00:00+00:00            5.7234\n",
      "1980-01-01 02:00:00+00:00            5.7342\n",
      "1980-01-01 03:00:00+00:00            5.7345\n",
      "1980-01-01 04:00:00+00:00            5.6416\n",
      "...                                     ...\n",
      "2016-12-31 19:00:00+00:00            4.2129\n",
      "2016-12-31 20:00:00+00:00            4.2875\n",
      "2016-12-31 21:00:00+00:00            4.2965\n",
      "2016-12-31 22:00:00+00:00            4.4200\n",
      "2016-12-31 23:00:00+00:00            4.4611\n",
      "\n",
      "[324360 rows x 1 columns]\n",
      "execution\n",
      "                           DK_windspeed_10m\n",
      "utc_timestamp                              \n",
      "1980-01-01 00:00:00+00:00              4.18\n",
      "1980-01-01 01:00:00+00:00              4.19\n",
      "1980-01-01 02:00:00+00:00              4.16\n",
      "1980-01-01 03:00:00+00:00              4.06\n",
      "1980-01-01 04:00:00+00:00              3.92\n",
      "...                                     ...\n",
      "2016-12-31 19:00:00+00:00              9.52\n",
      "2016-12-31 20:00:00+00:00              9.74\n",
      "2016-12-31 21:00:00+00:00              9.93\n",
      "2016-12-31 22:00:00+00:00              9.98\n",
      "2016-12-31 23:00:00+00:00             10.12\n",
      "\n",
      "[324360 rows x 1 columns]\n"
     ]
    }
   ],
   "source": [
    "print(len(windspeed_list))\n",
    "for i in range(0,2):\n",
    "    print(\"execution\")\n",
    "    print(windspeed_list[i])"
   ]
  },
  {
   "cell_type": "code",
   "execution_count": null,
   "metadata": {},
   "outputs": [],
   "source": []
  },
  {
   "cell_type": "code",
   "execution_count": 20,
   "metadata": {},
   "outputs": [
    {
     "name": "stdout",
     "output_type": "stream",
     "text": [
      "works\n",
      "huh\n",
      "works\n",
      "huh\n",
      "urk\n",
      "urk\n",
      "lurks\n",
      "lurks\n",
      "perks\n",
      "perks\n"
     ]
    }
   ],
   "source": [
    "#creating training data but cutting the data based on time stamp\n",
    "# start_remove = pd.to_datetime('2016-01-01')\n",
    "# end_remove = pd.to_datetime('2017-01-01')\n",
    "# windspeedformatted = windspeed.loc[(windspeed.index >= start_remove)]\n",
    "# windgenerationdataformatted = windgenerationdata.loc[(windgenerationdata.index >= start_remove) & (windgenerationdata.index < end_remove)]\n",
    "\n",
    "# start_remove = pd.to_datetime('2015-01-01')\n",
    "# end_remove = pd.to_datetime('2016-01-01')\n",
    "# windspeedformatted = windspeed.loc[(windspeed.index >= start_remove)]\n",
    "# windgenerationdataformatted = windgenerationdata.loc[(windgenerationdata.index >= start_remove) & (windgenerationdata.index < end_remove)]\n",
    "\n",
    "\n",
    "# training and data set\n",
    "\n",
    "# start_remove = pd.to_datetime('2015-01-01')\n",
    "# end_remove = pd.to_datetime('2016-12-01')\n",
    "# windspeedformatted = windspeed.loc[(windspeed.index >= start_remove) & (windspeed.index < end_remove)]\n",
    "# windgenerationdataformatted = windgenerationdata.loc[(windgenerationdata.index >= start_remove) & (windgenerationdata.index < end_remove)]\n",
    "\n",
    "# start_test = pd.to_datetime('2016-12-01')\n",
    "# end_test = pd.to_datetime('2017-01-01')\n",
    "# windspeedtest = windspeed.loc[(windspeed.index >= start_test)]\n",
    "# windgenerationtest = windgenerationdata.loc[(windgenerationdata.index >= start_test) & (windgenerationdata.index < end_test)]\n",
    "#Creating data for multiple models\n",
    "windspeedtrain = []\n",
    "windspeedtest = []\n",
    "windgentrain =[]\n",
    "windgentest = []\n",
    "start_remove = pd.to_datetime('2014-01-01',utc=True)\n",
    "end_remove = pd.to_datetime('2016-11-01',utc=True)\n",
    "for i in range(0,2): #Create xtrain\n",
    "    current_item = windspeed_list[i]\n",
    "    windspeedtrain.append(current_item.loc[(current_item.index >= start_remove) & (current_item.index < end_remove)])\n",
    "\n",
    "for i in range(0,2): #Create ytrain\n",
    "    current_item = wind_gen_list[i]\n",
    "    windgentrain.append(current_item.loc[(current_item.index >= start_remove) & (current_item.index < end_remove)])\n",
    "\n",
    "start_test = pd.to_datetime('2016-11-01',utc=True)\n",
    "end_test = pd.to_datetime('2017-01-01',utc=True)\n",
    "\n",
    "for i in range(0,2): # Create xtest\n",
    "    current_item = windspeed_list[i]\n",
    "    windspeedtest.append(current_item.loc[(current_item.index >= start_test) & (current_item.index < end_test)])\n",
    "\n",
    "for i in range(0,2): # Create ytest\n",
    "    current_item = windspeed_list[i]\n",
    "    windgentest.append(current_item.loc[(current_item.index >= start_test) & (current_item.index < end_test)])\n"
   ]
  },
  {
   "cell_type": "code",
   "execution_count": null,
   "metadata": {},
   "outputs": [],
   "source": [
    "\n",
    "windspeedformatted.replace([np.inf, -np.inf], 0)"
   ]
  },
  {
   "cell_type": "code",
   "execution_count": null,
   "metadata": {},
   "outputs": [],
   "source": [
    "#creating test/comparison data\n",
    "# start_test = pd.to_datetime('2015-01-01')\n",
    "# end_test = pd.to_datetime('2016-01-01')\n",
    "# windspeedtest = windspeed.loc[(windspeed.index >= start_test) & (windspeed.index < end_test)]\n",
    "# windgenerationtest = windgenerationdata.loc[(windgenerationdata.index >= start_test) & (windgenerationdata.index < end_test)]"
   ]
  },
  {
   "cell_type": "code",
   "execution_count": null,
   "metadata": {},
   "outputs": [],
   "source": [
    "windspeedformatted.dtypes"
   ]
  },
  {
   "cell_type": "code",
   "execution_count": null,
   "metadata": {},
   "outputs": [],
   "source": [
    "windgenerationdataformatted"
   ]
  },
  {
   "cell_type": "code",
   "execution_count": null,
   "metadata": {},
   "outputs": [],
   "source": [
    "max(windgenerationdataformatted['DE_wind_generation_actual'])"
   ]
  },
  {
   "cell_type": "code",
   "execution_count": null,
   "metadata": {},
   "outputs": [],
   "source": [
    "min(windgenerationdataformatted['DE_wind_generation_actual'])"
   ]
  },
  {
   "cell_type": "code",
   "execution_count": null,
   "metadata": {},
   "outputs": [],
   "source": [
    "windgenerationdataformatted = windgenerationdataformatted * 1e-3"
   ]
  },
  {
   "cell_type": "code",
   "execution_count": null,
   "metadata": {},
   "outputs": [],
   "source": [
    "windgenerationtest = windgenerationtest * 1e-3"
   ]
  },
  {
   "cell_type": "code",
   "execution_count": null,
   "metadata": {},
   "outputs": [],
   "source": [
    "windgenerationtest"
   ]
  },
  {
   "cell_type": "code",
   "execution_count": 23,
   "metadata": {},
   "outputs": [],
   "source": [
    "from sklearn.linear_model import LinearRegression\n",
    "from sklearn.model_selection import train_test_split"
   ]
  },
  {
   "cell_type": "code",
   "execution_count": null,
   "metadata": {},
   "outputs": [],
   "source": [
    "#train test might not be valid for our case because we have timestamps in play\n",
    "# xtr, xts, ytr, yts = train_test_split(windspeedformatted,windgenerationdataformatted, test_size = 0.33)"
   ]
  },
  {
   "cell_type": "code",
   "execution_count": null,
   "metadata": {},
   "outputs": [],
   "source": [
    "#inital model training attempt\n",
    "# model = LinearRegression().fit(xtr,ytr)\n",
    "# predicted = model.predict(windspeedformatted)"
   ]
  },
  {
   "cell_type": "code",
   "execution_count": null,
   "metadata": {},
   "outputs": [],
   "source": [
    "#attempt at cross validation\n",
    "# from sklearn.model_selection import cross_val_score\n",
    "\n",
    "# model = LinearRegression()\n",
    "\n",
    "# scores_wind = cross_val_score(model, windspeedformatted, windgenerationdataformatted, cv=5)\n",
    "# print(scores_wind, \"\\naverage =\", np.mean(scores_wind))"
   ]
  },
  {
   "cell_type": "code",
   "execution_count": null,
   "metadata": {},
   "outputs": [],
   "source": [
    "#predict using train test split data\n",
    "# predicted = model.predict(xts)"
   ]
  },
  {
   "cell_type": "code",
   "execution_count": null,
   "metadata": {},
   "outputs": [],
   "source": [
    "# predicted"
   ]
  },
  {
   "cell_type": "code",
   "execution_count": null,
   "metadata": {},
   "outputs": [],
   "source": [
    "#error when using model from cross validation\n",
    "# predicted = model.predict(windspeedformatted)"
   ]
  },
  {
   "cell_type": "code",
   "execution_count": null,
   "metadata": {},
   "outputs": [],
   "source": [
    "#timeseries used as x axis when plotting predicted\n",
    "# timeseries = pd.date_range('2016-01-01', '2016-12-31 23:00:00', freq='H')"
   ]
  },
  {
   "cell_type": "code",
   "execution_count": null,
   "metadata": {},
   "outputs": [],
   "source": [
    "# timeseries"
   ]
  },
  {
   "cell_type": "code",
   "execution_count": null,
   "metadata": {},
   "outputs": [],
   "source": [
    "# windgenerationdataformatted.plot(linewidth=0.5)"
   ]
  },
  {
   "cell_type": "code",
   "execution_count": null,
   "metadata": {
    "scrolled": true
   },
   "outputs": [],
   "source": [
    "# I think this is an invalid test because using entire dataset in the predict but the training data is from that same set\n",
    "# plt.plot(timeseries,predicted, linewidth=0.5)"
   ]
  },
  {
   "cell_type": "code",
   "execution_count": null,
   "metadata": {},
   "outputs": [],
   "source": [
    "'''\n",
    "Todo:\n",
    "take in weather data and generation data\n",
    "separate data into two sets:\n",
    "Solar\n",
    "X = [sun related weather columns] \n",
    "Y = wind_generation_actual\n",
    "Wind:\n",
    "X = [wind related weather columns] \n",
    "Y = sun_generation_actual\n",
    "\n",
    "Trim data based on timestamp\n",
    "Wind generation begins at 2010-01-01\n",
    "However there are values with NaN.\n",
    "No wind data past 2016\n",
    "Only valid times for dataset is 2015-01-01 to 2017\n",
    "\n",
    "Solar generation begins at 2012-01-01\n",
    "\n",
    "To try: if there are timestamps do I have to format data?\n",
    "'''"
   ]
  },
  {
   "cell_type": "code",
   "execution_count": null,
   "metadata": {},
   "outputs": [],
   "source": [
    "np.any(np.isnan(windspeedformatted))"
   ]
  },
  {
   "cell_type": "code",
   "execution_count": null,
   "metadata": {},
   "outputs": [],
   "source": [
    "np.all(np.isfinite(windspeedformatted))"
   ]
  },
  {
   "cell_type": "code",
   "execution_count": null,
   "metadata": {},
   "outputs": [],
   "source": [
    "windspeedformatted = windspeedformatted[~windspeedformatted.isin([np.nan, np.inf, -np.inf]).any(1)]"
   ]
  },
  {
   "cell_type": "code",
   "execution_count": null,
   "metadata": {},
   "outputs": [],
   "source": [
    "np.where(windspeedformatted.values >= np.finfo(np.float64).max)"
   ]
  },
  {
   "cell_type": "code",
   "execution_count": null,
   "metadata": {},
   "outputs": [],
   "source": [
    "windspeedformatted"
   ]
  },
  {
   "cell_type": "code",
   "execution_count": null,
   "metadata": {},
   "outputs": [],
   "source": [
    "np.any(np.isnan(windspeedformatted))"
   ]
  },
  {
   "cell_type": "code",
   "execution_count": null,
   "metadata": {},
   "outputs": [],
   "source": [
    "windgenerationdataformatted"
   ]
  },
  {
   "cell_type": "code",
   "execution_count": null,
   "metadata": {},
   "outputs": [],
   "source": [
    "for i, value in enumerate(windspeedformatted.values):\n",
    "    if value.dtype != np.float64:\n",
    "        print(i, value)"
   ]
  },
  {
   "cell_type": "code",
   "execution_count": 24,
   "metadata": {},
   "outputs": [],
   "source": [
    "model_list = []\n",
    "for i in range (0,2): #create multiple models\n",
    "    model = LinearRegression().fit(windspeedtest[i],windgentest[i])\n",
    "    model_list.append(model)"
   ]
  },
  {
   "cell_type": "code",
   "execution_count": 26,
   "metadata": {},
   "outputs": [],
   "source": [
    "#using the previously formatted data which is data from 2015\n",
    "prediction_list = []\n",
    "for i in range(0,2):\n",
    "    \n",
    "    prediction = model.predict(windspeedtest[i])\n",
    "    prediction_list.append(prediction)\n"
   ]
  },
  {
   "cell_type": "code",
   "execution_count": null,
   "metadata": {},
   "outputs": [],
   "source": [
    "timeseries = pd.date_range('2016-11-01', '2016-12-31 23:00:00', freq='H')"
   ]
  },
  {
   "cell_type": "code",
   "execution_count": null,
   "metadata": {},
   "outputs": [],
   "source": [
    "windgenerationtest.plot(linewidth=0.5)"
   ]
  },
  {
   "cell_type": "code",
   "execution_count": null,
   "metadata": {},
   "outputs": [],
   "source": [
    "plt.plot(timeseries,prediction, linewidth=0.5)"
   ]
  },
  {
   "cell_type": "code",
   "execution_count": null,
   "metadata": {},
   "outputs": [],
   "source": [
    "from sklearn.metrics import r2_score\n",
    "print(r2_score(windgenerationtest, prediction))"
   ]
  },
  {
   "cell_type": "code",
   "execution_count": null,
   "metadata": {},
   "outputs": [],
   "source": [
    "#large number because we're deadling with large numbers\n",
    "from sklearn.metrics import mean_squared_error\n",
    "print(mean_squared_error(windgenerationtest, prediction))"
   ]
  },
  {
   "cell_type": "code",
   "execution_count": 27,
   "metadata": {},
   "outputs": [
    {
     "name": "stdout",
     "output_type": "stream",
     "text": [
      "DE_windspeed_10m    8531.289426\n",
      "dtype: float64\n",
      "DK_windspeed_10m    10007.5079\n",
      "dtype: float64\n"
     ]
    }
   ],
   "source": [
    "for i in range(0,2):\n",
    "    \n",
    "    print(np.sum((windgentest[i]-prediction[i])**2)/(prediction[i].shape[0]))"
   ]
  },
  {
   "cell_type": "code",
   "execution_count": null,
   "metadata": {},
   "outputs": [],
   "source": [
    "'''\n",
    "To do:\n",
    "Figure out mse (maybe normalize)\n",
    "figure out cross validation fitting\n",
    "Incorportate more data (more times and more regions)\n",
    "\n",
    "NN model experimentation\n",
    "\n",
    "Expand to solar generation\n",
    "'''"
   ]
  },
  {
   "cell_type": "code",
   "execution_count": null,
   "metadata": {},
   "outputs": [],
   "source": [
    "for i, value in enumerate(windspeedformatted.values):\n",
    "    if value.dtype != np.float64:\n",
    "        print(i, value)"
   ]
  },
  {
   "cell_type": "code",
   "execution_count": null,
   "metadata": {},
   "outputs": [],
   "source": [
    "# np.where((windspeedformatted.values).dtype != np.float64)"
   ]
  },
  {
   "cell_type": "code",
   "execution_count": null,
   "metadata": {},
   "outputs": [],
   "source": [
    "# 3.3706 != np.float64"
   ]
  },
  {
   "cell_type": "code",
   "execution_count": null,
   "metadata": {},
   "outputs": [],
   "source": [
    "# windspeedformatted.values"
   ]
  },
  {
   "cell_type": "code",
   "execution_count": null,
   "metadata": {},
   "outputs": [],
   "source": [
    "# windspeedformatted.values.dtype != np.float64"
   ]
  },
  {
   "cell_type": "code",
   "execution_count": null,
   "metadata": {},
   "outputs": [],
   "source": []
  }
 ],
 "metadata": {
  "kernelspec": {
   "display_name": "Python 3",
   "language": "python",
   "name": "python3"
  },
  "language_info": {
   "codemirror_mode": {
    "name": "ipython",
    "version": 3
   },
   "file_extension": ".py",
   "mimetype": "text/x-python",
   "name": "python",
   "nbconvert_exporter": "python",
   "pygments_lexer": "ipython3",
   "version": "3.7.0"
  }
 },
 "nbformat": 4,
 "nbformat_minor": 2
}
