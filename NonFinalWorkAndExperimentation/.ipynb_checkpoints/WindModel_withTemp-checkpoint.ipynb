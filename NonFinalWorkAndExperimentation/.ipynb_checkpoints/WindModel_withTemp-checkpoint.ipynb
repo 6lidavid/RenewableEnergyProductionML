{
 "cells": [
  {
   "cell_type": "code",
   "execution_count": 1,
   "metadata": {},
   "outputs": [],
   "source": [
    "import pandas as pd\n",
    "import numpy as np\n",
    "import matplotlib.pyplot as plt\n",
    "%matplotlib inline"
   ]
  },
  {
   "cell_type": "code",
   "execution_count": 2,
   "metadata": {},
   "outputs": [],
   "source": [
    "# energygenerationdata = pd.read_csv(\"../data/time_series_60min_singleindex.csv\",\n",
    "#                         usecols=(lambda s: s.startswith('utc') | \n",
    "#                                  s.startswith('DE_solar') |\n",
    "#                                  s. startswith('DE_wind')),\n",
    "#                         parse_dates=[0], index_col=0)\n",
    "\n",
    "windgenerationdata = pd.read_csv(\"../data/time_series_60min_singleindex.csv\",\n",
    "                        usecols=(lambda s: s.startswith('utc') | \n",
    "                                 s. startswith('DE_wind_generation')),\n",
    "                        parse_dates=[0], index_col=0)\n",
    "\n",
    "# solargenerationdata = pd.read_csv(\"../data/time_series_60min_singleindex.csv\",\n",
    "#                         usecols=(lambda s: s.startswith('utc') | \n",
    "#                                  s.startswith('DE_solar')),\n",
    "#                         parse_dates=[0], index_col=0)"
   ]
  },
  {
   "cell_type": "code",
   "execution_count": 3,
   "metadata": {},
   "outputs": [],
   "source": [
    "# weatherdata = pd.read_csv(\"../data/weather_data.csv\",\n",
    "#                 usecols=(lambda s: s.startswith('utc') | \n",
    "#                          s.startswith('DE')),\n",
    "#                 parse_dates=[0], index_col=0)"
   ]
  },
  {
   "cell_type": "code",
   "execution_count": 4,
   "metadata": {},
   "outputs": [],
   "source": [
    "windspeed = pd.read_csv(\"../data/weather_data.csv\",\n",
    "                usecols=(lambda s: s.startswith('utc') | \n",
    "                         s.startswith('DE_windspeed') |\n",
    "                         s.startswith('DE_temperature')),\n",
    "                parse_dates=[0], index_col=0)"
   ]
  },
  {
   "cell_type": "code",
   "execution_count": 5,
   "metadata": {},
   "outputs": [
    {
     "data": {
      "text/html": [
       "<div>\n",
       "<style scoped>\n",
       "    .dataframe tbody tr th:only-of-type {\n",
       "        vertical-align: middle;\n",
       "    }\n",
       "\n",
       "    .dataframe tbody tr th {\n",
       "        vertical-align: top;\n",
       "    }\n",
       "\n",
       "    .dataframe thead th {\n",
       "        text-align: right;\n",
       "    }\n",
       "</style>\n",
       "<table border=\"1\" class=\"dataframe\">\n",
       "  <thead>\n",
       "    <tr style=\"text-align: right;\">\n",
       "      <th></th>\n",
       "      <th>DE_windspeed_10m</th>\n",
       "      <th>DE_temperature</th>\n",
       "    </tr>\n",
       "    <tr>\n",
       "      <th>utc_timestamp</th>\n",
       "      <th></th>\n",
       "      <th></th>\n",
       "    </tr>\n",
       "  </thead>\n",
       "  <tbody>\n",
       "    <tr>\n",
       "      <th>1980-01-01 00:00:00</th>\n",
       "      <td>5.7291</td>\n",
       "      <td>-1.261</td>\n",
       "    </tr>\n",
       "    <tr>\n",
       "      <th>1980-01-01 01:00:00</th>\n",
       "      <td>5.7234</td>\n",
       "      <td>-1.414</td>\n",
       "    </tr>\n",
       "    <tr>\n",
       "      <th>1980-01-01 02:00:00</th>\n",
       "      <td>5.7342</td>\n",
       "      <td>-1.571</td>\n",
       "    </tr>\n",
       "    <tr>\n",
       "      <th>1980-01-01 03:00:00</th>\n",
       "      <td>5.7345</td>\n",
       "      <td>-1.760</td>\n",
       "    </tr>\n",
       "    <tr>\n",
       "      <th>1980-01-01 04:00:00</th>\n",
       "      <td>5.6416</td>\n",
       "      <td>-1.995</td>\n",
       "    </tr>\n",
       "    <tr>\n",
       "      <th>1980-01-01 05:00:00</th>\n",
       "      <td>5.6070</td>\n",
       "      <td>-2.190</td>\n",
       "    </tr>\n",
       "    <tr>\n",
       "      <th>1980-01-01 06:00:00</th>\n",
       "      <td>5.5772</td>\n",
       "      <td>-2.316</td>\n",
       "    </tr>\n",
       "    <tr>\n",
       "      <th>1980-01-01 07:00:00</th>\n",
       "      <td>5.3745</td>\n",
       "      <td>-2.439</td>\n",
       "    </tr>\n",
       "    <tr>\n",
       "      <th>1980-01-01 08:00:00</th>\n",
       "      <td>5.4239</td>\n",
       "      <td>-2.204</td>\n",
       "    </tr>\n",
       "    <tr>\n",
       "      <th>1980-01-01 09:00:00</th>\n",
       "      <td>5.6136</td>\n",
       "      <td>-1.616</td>\n",
       "    </tr>\n",
       "    <tr>\n",
       "      <th>1980-01-01 10:00:00</th>\n",
       "      <td>5.8361</td>\n",
       "      <td>-1.015</td>\n",
       "    </tr>\n",
       "    <tr>\n",
       "      <th>1980-01-01 11:00:00</th>\n",
       "      <td>5.9554</td>\n",
       "      <td>-0.575</td>\n",
       "    </tr>\n",
       "    <tr>\n",
       "      <th>1980-01-01 12:00:00</th>\n",
       "      <td>5.8263</td>\n",
       "      <td>-0.393</td>\n",
       "    </tr>\n",
       "    <tr>\n",
       "      <th>1980-01-01 13:00:00</th>\n",
       "      <td>5.3908</td>\n",
       "      <td>-0.527</td>\n",
       "    </tr>\n",
       "    <tr>\n",
       "      <th>1980-01-01 14:00:00</th>\n",
       "      <td>4.9619</td>\n",
       "      <td>-1.036</td>\n",
       "    </tr>\n",
       "    <tr>\n",
       "      <th>1980-01-01 15:00:00</th>\n",
       "      <td>4.6755</td>\n",
       "      <td>-1.726</td>\n",
       "    </tr>\n",
       "    <tr>\n",
       "      <th>1980-01-01 16:00:00</th>\n",
       "      <td>4.6272</td>\n",
       "      <td>-2.077</td>\n",
       "    </tr>\n",
       "    <tr>\n",
       "      <th>1980-01-01 17:00:00</th>\n",
       "      <td>4.5785</td>\n",
       "      <td>-2.263</td>\n",
       "    </tr>\n",
       "    <tr>\n",
       "      <th>1980-01-01 18:00:00</th>\n",
       "      <td>4.5334</td>\n",
       "      <td>-2.462</td>\n",
       "    </tr>\n",
       "    <tr>\n",
       "      <th>1980-01-01 19:00:00</th>\n",
       "      <td>4.6516</td>\n",
       "      <td>-2.570</td>\n",
       "    </tr>\n",
       "    <tr>\n",
       "      <th>1980-01-01 20:00:00</th>\n",
       "      <td>4.7727</td>\n",
       "      <td>-2.650</td>\n",
       "    </tr>\n",
       "    <tr>\n",
       "      <th>1980-01-01 21:00:00</th>\n",
       "      <td>4.9104</td>\n",
       "      <td>-2.725</td>\n",
       "    </tr>\n",
       "    <tr>\n",
       "      <th>1980-01-01 22:00:00</th>\n",
       "      <td>4.9603</td>\n",
       "      <td>-2.814</td>\n",
       "    </tr>\n",
       "    <tr>\n",
       "      <th>1980-01-01 23:00:00</th>\n",
       "      <td>4.8425</td>\n",
       "      <td>-2.950</td>\n",
       "    </tr>\n",
       "    <tr>\n",
       "      <th>1980-01-02 00:00:00</th>\n",
       "      <td>4.7964</td>\n",
       "      <td>-3.041</td>\n",
       "    </tr>\n",
       "    <tr>\n",
       "      <th>1980-01-02 01:00:00</th>\n",
       "      <td>4.8105</td>\n",
       "      <td>-3.045</td>\n",
       "    </tr>\n",
       "    <tr>\n",
       "      <th>1980-01-02 02:00:00</th>\n",
       "      <td>4.6991</td>\n",
       "      <td>-3.066</td>\n",
       "    </tr>\n",
       "    <tr>\n",
       "      <th>1980-01-02 03:00:00</th>\n",
       "      <td>4.7129</td>\n",
       "      <td>-3.072</td>\n",
       "    </tr>\n",
       "    <tr>\n",
       "      <th>1980-01-02 04:00:00</th>\n",
       "      <td>4.6726</td>\n",
       "      <td>-3.144</td>\n",
       "    </tr>\n",
       "    <tr>\n",
       "      <th>1980-01-02 05:00:00</th>\n",
       "      <td>4.7131</td>\n",
       "      <td>-3.193</td>\n",
       "    </tr>\n",
       "    <tr>\n",
       "      <th>...</th>\n",
       "      <td>...</td>\n",
       "      <td>...</td>\n",
       "    </tr>\n",
       "    <tr>\n",
       "      <th>2016-12-30 18:00:00</th>\n",
       "      <td>3.0336</td>\n",
       "      <td>-2.089</td>\n",
       "    </tr>\n",
       "    <tr>\n",
       "      <th>2016-12-30 19:00:00</th>\n",
       "      <td>3.0919</td>\n",
       "      <td>-2.166</td>\n",
       "    </tr>\n",
       "    <tr>\n",
       "      <th>2016-12-30 20:00:00</th>\n",
       "      <td>3.1371</td>\n",
       "      <td>-2.242</td>\n",
       "    </tr>\n",
       "    <tr>\n",
       "      <th>2016-12-30 21:00:00</th>\n",
       "      <td>3.1763</td>\n",
       "      <td>-2.301</td>\n",
       "    </tr>\n",
       "    <tr>\n",
       "      <th>2016-12-30 22:00:00</th>\n",
       "      <td>3.2729</td>\n",
       "      <td>-2.402</td>\n",
       "    </tr>\n",
       "    <tr>\n",
       "      <th>2016-12-30 23:00:00</th>\n",
       "      <td>3.3321</td>\n",
       "      <td>-2.532</td>\n",
       "    </tr>\n",
       "    <tr>\n",
       "      <th>2016-12-31 00:00:00</th>\n",
       "      <td>3.3939</td>\n",
       "      <td>-2.643</td>\n",
       "    </tr>\n",
       "    <tr>\n",
       "      <th>2016-12-31 01:00:00</th>\n",
       "      <td>3.4352</td>\n",
       "      <td>-2.737</td>\n",
       "    </tr>\n",
       "    <tr>\n",
       "      <th>2016-12-31 02:00:00</th>\n",
       "      <td>3.4240</td>\n",
       "      <td>-2.826</td>\n",
       "    </tr>\n",
       "    <tr>\n",
       "      <th>2016-12-31 03:00:00</th>\n",
       "      <td>3.4480</td>\n",
       "      <td>-2.918</td>\n",
       "    </tr>\n",
       "    <tr>\n",
       "      <th>2016-12-31 04:00:00</th>\n",
       "      <td>3.4270</td>\n",
       "      <td>-3.027</td>\n",
       "    </tr>\n",
       "    <tr>\n",
       "      <th>2016-12-31 05:00:00</th>\n",
       "      <td>3.4434</td>\n",
       "      <td>-3.134</td>\n",
       "    </tr>\n",
       "    <tr>\n",
       "      <th>2016-12-31 06:00:00</th>\n",
       "      <td>3.4789</td>\n",
       "      <td>-3.240</td>\n",
       "    </tr>\n",
       "    <tr>\n",
       "      <th>2016-12-31 07:00:00</th>\n",
       "      <td>3.5711</td>\n",
       "      <td>-3.214</td>\n",
       "    </tr>\n",
       "    <tr>\n",
       "      <th>2016-12-31 08:00:00</th>\n",
       "      <td>3.8978</td>\n",
       "      <td>-2.326</td>\n",
       "    </tr>\n",
       "    <tr>\n",
       "      <th>2016-12-31 09:00:00</th>\n",
       "      <td>3.9994</td>\n",
       "      <td>-1.198</td>\n",
       "    </tr>\n",
       "    <tr>\n",
       "      <th>2016-12-31 10:00:00</th>\n",
       "      <td>4.0177</td>\n",
       "      <td>-0.025</td>\n",
       "    </tr>\n",
       "    <tr>\n",
       "      <th>2016-12-31 11:00:00</th>\n",
       "      <td>4.0469</td>\n",
       "      <td>0.917</td>\n",
       "    </tr>\n",
       "    <tr>\n",
       "      <th>2016-12-31 12:00:00</th>\n",
       "      <td>4.0058</td>\n",
       "      <td>1.408</td>\n",
       "    </tr>\n",
       "    <tr>\n",
       "      <th>2016-12-31 13:00:00</th>\n",
       "      <td>3.7247</td>\n",
       "      <td>1.213</td>\n",
       "    </tr>\n",
       "    <tr>\n",
       "      <th>2016-12-31 14:00:00</th>\n",
       "      <td>3.3698</td>\n",
       "      <td>0.085</td>\n",
       "    </tr>\n",
       "    <tr>\n",
       "      <th>2016-12-31 15:00:00</th>\n",
       "      <td>3.5741</td>\n",
       "      <td>-1.179</td>\n",
       "    </tr>\n",
       "    <tr>\n",
       "      <th>2016-12-31 16:00:00</th>\n",
       "      <td>3.8801</td>\n",
       "      <td>-1.487</td>\n",
       "    </tr>\n",
       "    <tr>\n",
       "      <th>2016-12-31 17:00:00</th>\n",
       "      <td>4.0347</td>\n",
       "      <td>-1.672</td>\n",
       "    </tr>\n",
       "    <tr>\n",
       "      <th>2016-12-31 18:00:00</th>\n",
       "      <td>4.1309</td>\n",
       "      <td>-1.813</td>\n",
       "    </tr>\n",
       "    <tr>\n",
       "      <th>2016-12-31 19:00:00</th>\n",
       "      <td>4.2129</td>\n",
       "      <td>-1.932</td>\n",
       "    </tr>\n",
       "    <tr>\n",
       "      <th>2016-12-31 20:00:00</th>\n",
       "      <td>4.2875</td>\n",
       "      <td>-2.090</td>\n",
       "    </tr>\n",
       "    <tr>\n",
       "      <th>2016-12-31 21:00:00</th>\n",
       "      <td>4.2965</td>\n",
       "      <td>-2.289</td>\n",
       "    </tr>\n",
       "    <tr>\n",
       "      <th>2016-12-31 22:00:00</th>\n",
       "      <td>4.4200</td>\n",
       "      <td>-2.473</td>\n",
       "    </tr>\n",
       "    <tr>\n",
       "      <th>2016-12-31 23:00:00</th>\n",
       "      <td>4.4611</td>\n",
       "      <td>-2.730</td>\n",
       "    </tr>\n",
       "  </tbody>\n",
       "</table>\n",
       "<p>324360 rows × 2 columns</p>\n",
       "</div>"
      ],
      "text/plain": [
       "                     DE_windspeed_10m  DE_temperature\n",
       "utc_timestamp                                        \n",
       "1980-01-01 00:00:00            5.7291          -1.261\n",
       "1980-01-01 01:00:00            5.7234          -1.414\n",
       "1980-01-01 02:00:00            5.7342          -1.571\n",
       "1980-01-01 03:00:00            5.7345          -1.760\n",
       "1980-01-01 04:00:00            5.6416          -1.995\n",
       "1980-01-01 05:00:00            5.6070          -2.190\n",
       "1980-01-01 06:00:00            5.5772          -2.316\n",
       "1980-01-01 07:00:00            5.3745          -2.439\n",
       "1980-01-01 08:00:00            5.4239          -2.204\n",
       "1980-01-01 09:00:00            5.6136          -1.616\n",
       "1980-01-01 10:00:00            5.8361          -1.015\n",
       "1980-01-01 11:00:00            5.9554          -0.575\n",
       "1980-01-01 12:00:00            5.8263          -0.393\n",
       "1980-01-01 13:00:00            5.3908          -0.527\n",
       "1980-01-01 14:00:00            4.9619          -1.036\n",
       "1980-01-01 15:00:00            4.6755          -1.726\n",
       "1980-01-01 16:00:00            4.6272          -2.077\n",
       "1980-01-01 17:00:00            4.5785          -2.263\n",
       "1980-01-01 18:00:00            4.5334          -2.462\n",
       "1980-01-01 19:00:00            4.6516          -2.570\n",
       "1980-01-01 20:00:00            4.7727          -2.650\n",
       "1980-01-01 21:00:00            4.9104          -2.725\n",
       "1980-01-01 22:00:00            4.9603          -2.814\n",
       "1980-01-01 23:00:00            4.8425          -2.950\n",
       "1980-01-02 00:00:00            4.7964          -3.041\n",
       "1980-01-02 01:00:00            4.8105          -3.045\n",
       "1980-01-02 02:00:00            4.6991          -3.066\n",
       "1980-01-02 03:00:00            4.7129          -3.072\n",
       "1980-01-02 04:00:00            4.6726          -3.144\n",
       "1980-01-02 05:00:00            4.7131          -3.193\n",
       "...                               ...             ...\n",
       "2016-12-30 18:00:00            3.0336          -2.089\n",
       "2016-12-30 19:00:00            3.0919          -2.166\n",
       "2016-12-30 20:00:00            3.1371          -2.242\n",
       "2016-12-30 21:00:00            3.1763          -2.301\n",
       "2016-12-30 22:00:00            3.2729          -2.402\n",
       "2016-12-30 23:00:00            3.3321          -2.532\n",
       "2016-12-31 00:00:00            3.3939          -2.643\n",
       "2016-12-31 01:00:00            3.4352          -2.737\n",
       "2016-12-31 02:00:00            3.4240          -2.826\n",
       "2016-12-31 03:00:00            3.4480          -2.918\n",
       "2016-12-31 04:00:00            3.4270          -3.027\n",
       "2016-12-31 05:00:00            3.4434          -3.134\n",
       "2016-12-31 06:00:00            3.4789          -3.240\n",
       "2016-12-31 07:00:00            3.5711          -3.214\n",
       "2016-12-31 08:00:00            3.8978          -2.326\n",
       "2016-12-31 09:00:00            3.9994          -1.198\n",
       "2016-12-31 10:00:00            4.0177          -0.025\n",
       "2016-12-31 11:00:00            4.0469           0.917\n",
       "2016-12-31 12:00:00            4.0058           1.408\n",
       "2016-12-31 13:00:00            3.7247           1.213\n",
       "2016-12-31 14:00:00            3.3698           0.085\n",
       "2016-12-31 15:00:00            3.5741          -1.179\n",
       "2016-12-31 16:00:00            3.8801          -1.487\n",
       "2016-12-31 17:00:00            4.0347          -1.672\n",
       "2016-12-31 18:00:00            4.1309          -1.813\n",
       "2016-12-31 19:00:00            4.2129          -1.932\n",
       "2016-12-31 20:00:00            4.2875          -2.090\n",
       "2016-12-31 21:00:00            4.2965          -2.289\n",
       "2016-12-31 22:00:00            4.4200          -2.473\n",
       "2016-12-31 23:00:00            4.4611          -2.730\n",
       "\n",
       "[324360 rows x 2 columns]"
      ]
     },
     "execution_count": 5,
     "metadata": {},
     "output_type": "execute_result"
    }
   ],
   "source": [
    "windspeed"
   ]
  },
  {
   "cell_type": "code",
   "execution_count": null,
   "metadata": {},
   "outputs": [],
   "source": []
  },
  {
   "cell_type": "code",
   "execution_count": 6,
   "metadata": {},
   "outputs": [],
   "source": [
    "#creating training data but cutting the data based on time stamp\n",
    "start_remove = pd.to_datetime('2016-01-01')\n",
    "end_remove = pd.to_datetime('2017-01-01')\n",
    "windspeedformatted = windspeed.loc[(windspeed.index >= start_remove)]\n",
    "windgenerationdataformatted = windgenerationdata.loc[(windgenerationdata.index >= start_remove) & (windgenerationdata.index < end_remove)]\n",
    "\n",
    "#creating test/comparison data\n",
    "start_test = pd.to_datetime('2015-01-01')\n",
    "end_test = pd.to_datetime('2016-01-01')\n",
    "windspeedtest = windspeed.loc[(windspeed.index >= start_test) & (windspeed.index < end_test)]\n",
    "windgenerationtest = windgenerationdata.loc[(windgenerationdata.index >= start_test) & (windgenerationdata.index < end_test)]"
   ]
  },
  {
   "cell_type": "code",
   "execution_count": 7,
   "metadata": {},
   "outputs": [],
   "source": [
    "# windspeedformatted"
   ]
  },
  {
   "cell_type": "code",
   "execution_count": 8,
   "metadata": {},
   "outputs": [],
   "source": [
    "# windgenerationdataformatted"
   ]
  },
  {
   "cell_type": "code",
   "execution_count": 9,
   "metadata": {},
   "outputs": [],
   "source": [
    "# max(windgenerationdataformatted['DE_wind_generation_actual'])"
   ]
  },
  {
   "cell_type": "code",
   "execution_count": 10,
   "metadata": {},
   "outputs": [],
   "source": [
    "# min(windgenerationdataformatted['DE_wind_generation_actual'])"
   ]
  },
  {
   "cell_type": "code",
   "execution_count": 11,
   "metadata": {},
   "outputs": [],
   "source": [
    "windgenerationdataformatted = windgenerationdataformatted * 1e-3"
   ]
  },
  {
   "cell_type": "code",
   "execution_count": 12,
   "metadata": {},
   "outputs": [],
   "source": [
    "windgenerationtest = windgenerationtest * 1e-3"
   ]
  },
  {
   "cell_type": "code",
   "execution_count": 13,
   "metadata": {},
   "outputs": [],
   "source": [
    "# windgenerationtest"
   ]
  },
  {
   "cell_type": "code",
   "execution_count": 14,
   "metadata": {},
   "outputs": [],
   "source": [
    "from sklearn.linear_model import LinearRegression\n",
    "# from sklearn.model_selection import train_test_split"
   ]
  },
  {
   "cell_type": "code",
   "execution_count": 15,
   "metadata": {},
   "outputs": [],
   "source": [
    "#train test might not be valid for our case because we have timestamps in play\n",
    "# xtr, xts, ytr, yts = train_test_split(windspeedformatted,windgenerationdataformatted, test_size = 0.33)"
   ]
  },
  {
   "cell_type": "code",
   "execution_count": 16,
   "metadata": {},
   "outputs": [],
   "source": [
    "#inital model training attempt\n",
    "# model = LinearRegression().fit(xtr,ytr)\n",
    "# predicted = model.predict(windspeedformatted)"
   ]
  },
  {
   "cell_type": "code",
   "execution_count": 17,
   "metadata": {},
   "outputs": [],
   "source": [
    "#attempt at cross validation\n",
    "# from sklearn.model_selection import cross_val_score\n",
    "\n",
    "# model = LinearRegression()\n",
    "\n",
    "# scores_wind = cross_val_score(model, windspeedformatted, windgenerationdataformatted, cv=5)\n",
    "# print(scores_wind, \"\\naverage =\", np.mean(scores_wind))"
   ]
  },
  {
   "cell_type": "code",
   "execution_count": 18,
   "metadata": {},
   "outputs": [],
   "source": [
    "#predict using train test split data\n",
    "# predicted = model.predict(xts)"
   ]
  },
  {
   "cell_type": "code",
   "execution_count": 19,
   "metadata": {},
   "outputs": [],
   "source": [
    "# predicted"
   ]
  },
  {
   "cell_type": "code",
   "execution_count": 20,
   "metadata": {},
   "outputs": [],
   "source": [
    "#error when using model from cross validation\n",
    "# predicted = model.predict(windspeedformatted)"
   ]
  },
  {
   "cell_type": "code",
   "execution_count": 21,
   "metadata": {},
   "outputs": [],
   "source": [
    "#timeseries used as x axis when plotting predicted\n",
    "# timeseries = pd.date_range('2016-01-01', '2016-12-31 23:00:00', freq='H')"
   ]
  },
  {
   "cell_type": "code",
   "execution_count": 22,
   "metadata": {},
   "outputs": [],
   "source": [
    "# timeseries"
   ]
  },
  {
   "cell_type": "code",
   "execution_count": 23,
   "metadata": {},
   "outputs": [],
   "source": [
    "# windgenerationdataformatted.plot(linewidth=0.5)"
   ]
  },
  {
   "cell_type": "code",
   "execution_count": 24,
   "metadata": {
    "scrolled": true
   },
   "outputs": [],
   "source": [
    "# I think this is an invalid test because using entire dataset in the predict but the training data is from that same set\n",
    "# plt.plot(timeseries,predicted, linewidth=0.5)"
   ]
  },
  {
   "cell_type": "code",
   "execution_count": 25,
   "metadata": {},
   "outputs": [
    {
     "data": {
      "text/plain": [
       "'\\nTodo:\\ntake in weather data and generation data\\nseparate data into two sets:\\nSolar\\nX = [sun related weather columns] \\nY = wind_generation_actual\\nWind:\\nX = [wind related weather columns] \\nY = sun_generation_actual\\n\\nTrim data based on timestamp\\nWind generation begins at 2010-01-01\\nHowever there are values with NaN. Chose to only take 2016 for now\\nNo wind data past 2016\\n\\nSolar generation begins at 2012-01-01\\n\\nTo try: if there are timestamps do I have to format data?\\n'"
      ]
     },
     "execution_count": 25,
     "metadata": {},
     "output_type": "execute_result"
    }
   ],
   "source": [
    "'''\n",
    "Todo:\n",
    "take in weather data and generation data\n",
    "separate data into two sets:\n",
    "Solar\n",
    "X = [sun related weather columns] \n",
    "Y = wind_generation_actual\n",
    "Wind:\n",
    "X = [wind related weather columns] \n",
    "Y = sun_generation_actual\n",
    "\n",
    "Trim data based on timestamp\n",
    "Wind generation begins at 2010-01-01\n",
    "However there are values with NaN. Chose to only take 2016 for now\n",
    "No wind data past 2016\n",
    "\n",
    "Solar generation begins at 2012-01-01\n",
    "\n",
    "To try: if there are timestamps do I have to format data?\n",
    "'''"
   ]
  },
  {
   "cell_type": "code",
   "execution_count": 26,
   "metadata": {},
   "outputs": [],
   "source": [
    "model = LinearRegression().fit(windspeedformatted,windgenerationdataformatted)"
   ]
  },
  {
   "cell_type": "code",
   "execution_count": 27,
   "metadata": {},
   "outputs": [],
   "source": [
    "#using the previously formatted data which is data from 2015\n",
    "prediction = model.predict(windspeedtest)"
   ]
  },
  {
   "cell_type": "code",
   "execution_count": 28,
   "metadata": {},
   "outputs": [],
   "source": [
    "timeseries = pd.date_range('2015-01-01', '2015-12-31 23:00:00', freq='H')"
   ]
  },
  {
   "cell_type": "code",
   "execution_count": 29,
   "metadata": {},
   "outputs": [
    {
     "data": {
      "text/plain": [
       "<matplotlib.axes._subplots.AxesSubplot at 0x22f58e99278>"
      ]
     },
     "execution_count": 29,
     "metadata": {},
     "output_type": "execute_result"
    },
    {
     "data": {
      "image/png": "[encoded data removed]",
      "text/plain": [
       "<Figure size 432x288 with 1 Axes>"
      ]
     },
     "metadata": {
      "needs_background": "light"
     },
     "output_type": "display_data"
    }
   ],
   "source": [
    "windgenerationtest.plot(linewidth=0.5)"
   ]
  },
  {
   "cell_type": "code",
   "execution_count": 30,
   "metadata": {},
   "outputs": [
    {
     "data": {
      "text/plain": [
       "[<matplotlib.lines.Line2D at 0x22f58a73128>]"
      ]
     },
     "execution_count": 30,
     "metadata": {},
     "output_type": "execute_result"
    },
    {
     "data": {
      "image/png": "[encoded data removed]",
      "text/plain": [
       "<Figure size 432x288 with 1 Axes>"
      ]
     },
     "metadata": {
      "needs_background": "light"
     },
     "output_type": "display_data"
    }
   ],
   "source": [
    "plt.plot(timeseries,prediction, linewidth=0.5)"
   ]
  },
  {
   "cell_type": "code",
   "execution_count": 31,
   "metadata": {},
   "outputs": [
    {
     "name": "stdout",
     "output_type": "stream",
     "text": [
      "0.7534270049807754\n"
     ]
    }
   ],
   "source": [
    "from sklearn.metrics import r2_score\n",
    "print(r2_score(windgenerationtest, prediction))"
   ]
  },
  {
   "cell_type": "code",
   "execution_count": 32,
   "metadata": {},
   "outputs": [
    {
     "name": "stdout",
     "output_type": "stream",
     "text": [
      "12.632633831925965\n"
     ]
    }
   ],
   "source": [
    "#large number because we're deadling with large numbers\n",
    "from sklearn.metrics import mean_squared_error\n",
    "print(mean_squared_error(windgenerationtest, prediction))"
   ]
  },
  {
   "cell_type": "code",
   "execution_count": 33,
   "metadata": {},
   "outputs": [
    {
     "name": "stdout",
     "output_type": "stream",
     "text": [
      "DE_wind_generation_actual    12.632634\n",
      "dtype: float64\n"
     ]
    }
   ],
   "source": [
    "print(np.sum((windgenerationtest-prediction)**2)/(prediction.shape[0]))"
   ]
  },
  {
   "cell_type": "code",
   "execution_count": 34,
   "metadata": {},
   "outputs": [
    {
     "data": {
      "text/plain": [
       "'\\nTo do:\\nFigure out mse (maybe normalize)\\nfigure out cross validation fitting\\nIncorportate more data (more times and more regions)\\n\\nNN model experimentation\\n\\nExpand to solar generation\\n'"
      ]
     },
     "execution_count": 34,
     "metadata": {},
     "output_type": "execute_result"
    }
   ],
   "source": [
    "'''\n",
    "To do:\n",
    "Figure out mse (maybe normalize)\n",
    "figure out cross validation fitting\n",
    "Incorportate more data (more times and more regions)\n",
    "\n",
    "NN model experimentation\n",
    "\n",
    "Expand to solar generation\n",
    "'''"
   ]
  },
  {
   "cell_type": "code",
   "execution_count": null,
   "metadata": {},
   "outputs": [],
   "source": []
  }
 ],
 "metadata": {
  "kernelspec": {
   "display_name": "Python 3",
   "language": "python",
   "name": "python3"
  },
  "language_info": {
   "codemirror_mode": {
    "name": "ipython",
    "version": 3
   },
   "file_extension": ".py",
   "mimetype": "text/x-python",
   "name": "python",
   "nbconvert_exporter": "python",
   "pygments_lexer": "ipython3",
   "version": "3.7.0"
  }
 },
 "nbformat": 4,
 "nbformat_minor": 2
}
