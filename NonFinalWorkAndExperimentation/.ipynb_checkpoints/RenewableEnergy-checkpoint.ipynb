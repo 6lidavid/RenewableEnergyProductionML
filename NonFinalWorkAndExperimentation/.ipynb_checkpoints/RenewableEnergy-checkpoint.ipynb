{
 "cells": [
  {
   "cell_type": "code",
   "execution_count": 1,
   "metadata": {},
   "outputs": [],
   "source": [
    "import pandas as pd\n",
    "import numpy as np\n",
    "import matplotlib.pyplot as plt\n",
    "%matplotlib inline"
   ]
  },
  {
   "cell_type": "code",
   "execution_count": 2,
   "metadata": {},
   "outputs": [],
   "source": [
    "# energygenerationdata = pd.read_csv(\"../data/time_series_60min_singleindex.csv\",\n",
    "#                         usecols=(lambda s: s.startswith('utc') | \n",
    "#                                  s.startswith('DE_solar') |\n",
    "#                                  s. startswith('DE_wind')),\n",
    "#                         parse_dates=[0], index_col=0)\n",
    "\n",
    "windgenerationdata = pd.read_csv(\"../data/time_series_60min_singleindex.csv\",\n",
    "                        usecols=(lambda s: s.startswith('utc') | \n",
    "                                 s. startswith('DE_wind_generation')),\n",
    "                        parse_dates=[0], index_col=0)\n",
    "\n",
    "solargenerationdata = pd.read_csv(\"../data/time_series_60min_singleindex.csv\",\n",
    "                        usecols=(lambda s: s.startswith('utc') | \n",
    "                                 s.startswith('DE_solar')),\n",
    "                        parse_dates=[0], index_col=0)"
   ]
  },
  {
   "cell_type": "code",
   "execution_count": 3,
   "metadata": {},
   "outputs": [],
   "source": [
    "# weatherdata = pd.read_csv(\"../data/weather_data.csv\",\n",
    "#                 usecols=(lambda s: s.startswith('utc') | \n",
    "#                          s.startswith('DE')),\n",
    "#                 parse_dates=[0], index_col=0)"
   ]
  },
  {
   "cell_type": "code",
   "execution_count": 4,
   "metadata": {},
   "outputs": [],
   "source": [
    "windspeed = pd.read_csv(\"../data/weather_data.csv\",\n",
    "                usecols=(lambda s: s.startswith('utc') | \n",
    "                         s.startswith('DE_windspeed')),\n",
    "                parse_dates=[0], index_col=0)"
   ]
  },
  {
   "cell_type": "code",
   "execution_count": 5,
   "metadata": {},
   "outputs": [
    {
     "data": {
      "text/html": [
       "<div>\n",
       "<style scoped>\n",
       "    .dataframe tbody tr th:only-of-type {\n",
       "        vertical-align: middle;\n",
       "    }\n",
       "\n",
       "    .dataframe tbody tr th {\n",
       "        vertical-align: top;\n",
       "    }\n",
       "\n",
       "    .dataframe thead th {\n",
       "        text-align: right;\n",
       "    }\n",
       "</style>\n",
       "<table border=\"1\" class=\"dataframe\">\n",
       "  <thead>\n",
       "    <tr style=\"text-align: right;\">\n",
       "      <th></th>\n",
       "      <th>DE_windspeed_10m</th>\n",
       "    </tr>\n",
       "    <tr>\n",
       "      <th>utc_timestamp</th>\n",
       "      <th></th>\n",
       "    </tr>\n",
       "  </thead>\n",
       "  <tbody>\n",
       "    <tr>\n",
       "      <th>1980-01-01 00:00:00</th>\n",
       "      <td>5.7291</td>\n",
       "    </tr>\n",
       "    <tr>\n",
       "      <th>1980-01-01 01:00:00</th>\n",
       "      <td>5.7234</td>\n",
       "    </tr>\n",
       "    <tr>\n",
       "      <th>1980-01-01 02:00:00</th>\n",
       "      <td>5.7342</td>\n",
       "    </tr>\n",
       "    <tr>\n",
       "      <th>1980-01-01 03:00:00</th>\n",
       "      <td>5.7345</td>\n",
       "    </tr>\n",
       "    <tr>\n",
       "      <th>1980-01-01 04:00:00</th>\n",
       "      <td>5.6416</td>\n",
       "    </tr>\n",
       "    <tr>\n",
       "      <th>1980-01-01 05:00:00</th>\n",
       "      <td>5.6070</td>\n",
       "    </tr>\n",
       "    <tr>\n",
       "      <th>1980-01-01 06:00:00</th>\n",
       "      <td>5.5772</td>\n",
       "    </tr>\n",
       "    <tr>\n",
       "      <th>1980-01-01 07:00:00</th>\n",
       "      <td>5.3745</td>\n",
       "    </tr>\n",
       "    <tr>\n",
       "      <th>1980-01-01 08:00:00</th>\n",
       "      <td>5.4239</td>\n",
       "    </tr>\n",
       "    <tr>\n",
       "      <th>1980-01-01 09:00:00</th>\n",
       "      <td>5.6136</td>\n",
       "    </tr>\n",
       "    <tr>\n",
       "      <th>1980-01-01 10:00:00</th>\n",
       "      <td>5.8361</td>\n",
       "    </tr>\n",
       "    <tr>\n",
       "      <th>1980-01-01 11:00:00</th>\n",
       "      <td>5.9554</td>\n",
       "    </tr>\n",
       "    <tr>\n",
       "      <th>1980-01-01 12:00:00</th>\n",
       "      <td>5.8263</td>\n",
       "    </tr>\n",
       "    <tr>\n",
       "      <th>1980-01-01 13:00:00</th>\n",
       "      <td>5.3908</td>\n",
       "    </tr>\n",
       "    <tr>\n",
       "      <th>1980-01-01 14:00:00</th>\n",
       "      <td>4.9619</td>\n",
       "    </tr>\n",
       "    <tr>\n",
       "      <th>1980-01-01 15:00:00</th>\n",
       "      <td>4.6755</td>\n",
       "    </tr>\n",
       "    <tr>\n",
       "      <th>1980-01-01 16:00:00</th>\n",
       "      <td>4.6272</td>\n",
       "    </tr>\n",
       "    <tr>\n",
       "      <th>1980-01-01 17:00:00</th>\n",
       "      <td>4.5785</td>\n",
       "    </tr>\n",
       "    <tr>\n",
       "      <th>1980-01-01 18:00:00</th>\n",
       "      <td>4.5334</td>\n",
       "    </tr>\n",
       "    <tr>\n",
       "      <th>1980-01-01 19:00:00</th>\n",
       "      <td>4.6516</td>\n",
       "    </tr>\n",
       "    <tr>\n",
       "      <th>1980-01-01 20:00:00</th>\n",
       "      <td>4.7727</td>\n",
       "    </tr>\n",
       "    <tr>\n",
       "      <th>1980-01-01 21:00:00</th>\n",
       "      <td>4.9104</td>\n",
       "    </tr>\n",
       "    <tr>\n",
       "      <th>1980-01-01 22:00:00</th>\n",
       "      <td>4.9603</td>\n",
       "    </tr>\n",
       "    <tr>\n",
       "      <th>1980-01-01 23:00:00</th>\n",
       "      <td>4.8425</td>\n",
       "    </tr>\n",
       "    <tr>\n",
       "      <th>1980-01-02 00:00:00</th>\n",
       "      <td>4.7964</td>\n",
       "    </tr>\n",
       "    <tr>\n",
       "      <th>1980-01-02 01:00:00</th>\n",
       "      <td>4.8105</td>\n",
       "    </tr>\n",
       "    <tr>\n",
       "      <th>1980-01-02 02:00:00</th>\n",
       "      <td>4.6991</td>\n",
       "    </tr>\n",
       "    <tr>\n",
       "      <th>1980-01-02 03:00:00</th>\n",
       "      <td>4.7129</td>\n",
       "    </tr>\n",
       "    <tr>\n",
       "      <th>1980-01-02 04:00:00</th>\n",
       "      <td>4.6726</td>\n",
       "    </tr>\n",
       "    <tr>\n",
       "      <th>1980-01-02 05:00:00</th>\n",
       "      <td>4.7131</td>\n",
       "    </tr>\n",
       "    <tr>\n",
       "      <th>...</th>\n",
       "      <td>...</td>\n",
       "    </tr>\n",
       "    <tr>\n",
       "      <th>2016-12-30 18:00:00</th>\n",
       "      <td>3.0336</td>\n",
       "    </tr>\n",
       "    <tr>\n",
       "      <th>2016-12-30 19:00:00</th>\n",
       "      <td>3.0919</td>\n",
       "    </tr>\n",
       "    <tr>\n",
       "      <th>2016-12-30 20:00:00</th>\n",
       "      <td>3.1371</td>\n",
       "    </tr>\n",
       "    <tr>\n",
       "      <th>2016-12-30 21:00:00</th>\n",
       "      <td>3.1763</td>\n",
       "    </tr>\n",
       "    <tr>\n",
       "      <th>2016-12-30 22:00:00</th>\n",
       "      <td>3.2729</td>\n",
       "    </tr>\n",
       "    <tr>\n",
       "      <th>2016-12-30 23:00:00</th>\n",
       "      <td>3.3321</td>\n",
       "    </tr>\n",
       "    <tr>\n",
       "      <th>2016-12-31 00:00:00</th>\n",
       "      <td>3.3939</td>\n",
       "    </tr>\n",
       "    <tr>\n",
       "      <th>2016-12-31 01:00:00</th>\n",
       "      <td>3.4352</td>\n",
       "    </tr>\n",
       "    <tr>\n",
       "      <th>2016-12-31 02:00:00</th>\n",
       "      <td>3.4240</td>\n",
       "    </tr>\n",
       "    <tr>\n",
       "      <th>2016-12-31 03:00:00</th>\n",
       "      <td>3.4480</td>\n",
       "    </tr>\n",
       "    <tr>\n",
       "      <th>2016-12-31 04:00:00</th>\n",
       "      <td>3.4270</td>\n",
       "    </tr>\n",
       "    <tr>\n",
       "      <th>2016-12-31 05:00:00</th>\n",
       "      <td>3.4434</td>\n",
       "    </tr>\n",
       "    <tr>\n",
       "      <th>2016-12-31 06:00:00</th>\n",
       "      <td>3.4789</td>\n",
       "    </tr>\n",
       "    <tr>\n",
       "      <th>2016-12-31 07:00:00</th>\n",
       "      <td>3.5711</td>\n",
       "    </tr>\n",
       "    <tr>\n",
       "      <th>2016-12-31 08:00:00</th>\n",
       "      <td>3.8978</td>\n",
       "    </tr>\n",
       "    <tr>\n",
       "      <th>2016-12-31 09:00:00</th>\n",
       "      <td>3.9994</td>\n",
       "    </tr>\n",
       "    <tr>\n",
       "      <th>2016-12-31 10:00:00</th>\n",
       "      <td>4.0177</td>\n",
       "    </tr>\n",
       "    <tr>\n",
       "      <th>2016-12-31 11:00:00</th>\n",
       "      <td>4.0469</td>\n",
       "    </tr>\n",
       "    <tr>\n",
       "      <th>2016-12-31 12:00:00</th>\n",
       "      <td>4.0058</td>\n",
       "    </tr>\n",
       "    <tr>\n",
       "      <th>2016-12-31 13:00:00</th>\n",
       "      <td>3.7247</td>\n",
       "    </tr>\n",
       "    <tr>\n",
       "      <th>2016-12-31 14:00:00</th>\n",
       "      <td>3.3698</td>\n",
       "    </tr>\n",
       "    <tr>\n",
       "      <th>2016-12-31 15:00:00</th>\n",
       "      <td>3.5741</td>\n",
       "    </tr>\n",
       "    <tr>\n",
       "      <th>2016-12-31 16:00:00</th>\n",
       "      <td>3.8801</td>\n",
       "    </tr>\n",
       "    <tr>\n",
       "      <th>2016-12-31 17:00:00</th>\n",
       "      <td>4.0347</td>\n",
       "    </tr>\n",
       "    <tr>\n",
       "      <th>2016-12-31 18:00:00</th>\n",
       "      <td>4.1309</td>\n",
       "    </tr>\n",
       "    <tr>\n",
       "      <th>2016-12-31 19:00:00</th>\n",
       "      <td>4.2129</td>\n",
       "    </tr>\n",
       "    <tr>\n",
       "      <th>2016-12-31 20:00:00</th>\n",
       "      <td>4.2875</td>\n",
       "    </tr>\n",
       "    <tr>\n",
       "      <th>2016-12-31 21:00:00</th>\n",
       "      <td>4.2965</td>\n",
       "    </tr>\n",
       "    <tr>\n",
       "      <th>2016-12-31 22:00:00</th>\n",
       "      <td>4.4200</td>\n",
       "    </tr>\n",
       "    <tr>\n",
       "      <th>2016-12-31 23:00:00</th>\n",
       "      <td>4.4611</td>\n",
       "    </tr>\n",
       "  </tbody>\n",
       "</table>\n",
       "<p>324360 rows × 1 columns</p>\n",
       "</div>"
      ],
      "text/plain": [
       "                     DE_windspeed_10m\n",
       "utc_timestamp                        \n",
       "1980-01-01 00:00:00            5.7291\n",
       "1980-01-01 01:00:00            5.7234\n",
       "1980-01-01 02:00:00            5.7342\n",
       "1980-01-01 03:00:00            5.7345\n",
       "1980-01-01 04:00:00            5.6416\n",
       "1980-01-01 05:00:00            5.6070\n",
       "1980-01-01 06:00:00            5.5772\n",
       "1980-01-01 07:00:00            5.3745\n",
       "1980-01-01 08:00:00            5.4239\n",
       "1980-01-01 09:00:00            5.6136\n",
       "1980-01-01 10:00:00            5.8361\n",
       "1980-01-01 11:00:00            5.9554\n",
       "1980-01-01 12:00:00            5.8263\n",
       "1980-01-01 13:00:00            5.3908\n",
       "1980-01-01 14:00:00            4.9619\n",
       "1980-01-01 15:00:00            4.6755\n",
       "1980-01-01 16:00:00            4.6272\n",
       "1980-01-01 17:00:00            4.5785\n",
       "1980-01-01 18:00:00            4.5334\n",
       "1980-01-01 19:00:00            4.6516\n",
       "1980-01-01 20:00:00            4.7727\n",
       "1980-01-01 21:00:00            4.9104\n",
       "1980-01-01 22:00:00            4.9603\n",
       "1980-01-01 23:00:00            4.8425\n",
       "1980-01-02 00:00:00            4.7964\n",
       "1980-01-02 01:00:00            4.8105\n",
       "1980-01-02 02:00:00            4.6991\n",
       "1980-01-02 03:00:00            4.7129\n",
       "1980-01-02 04:00:00            4.6726\n",
       "1980-01-02 05:00:00            4.7131\n",
       "...                               ...\n",
       "2016-12-30 18:00:00            3.0336\n",
       "2016-12-30 19:00:00            3.0919\n",
       "2016-12-30 20:00:00            3.1371\n",
       "2016-12-30 21:00:00            3.1763\n",
       "2016-12-30 22:00:00            3.2729\n",
       "2016-12-30 23:00:00            3.3321\n",
       "2016-12-31 00:00:00            3.3939\n",
       "2016-12-31 01:00:00            3.4352\n",
       "2016-12-31 02:00:00            3.4240\n",
       "2016-12-31 03:00:00            3.4480\n",
       "2016-12-31 04:00:00            3.4270\n",
       "2016-12-31 05:00:00            3.4434\n",
       "2016-12-31 06:00:00            3.4789\n",
       "2016-12-31 07:00:00            3.5711\n",
       "2016-12-31 08:00:00            3.8978\n",
       "2016-12-31 09:00:00            3.9994\n",
       "2016-12-31 10:00:00            4.0177\n",
       "2016-12-31 11:00:00            4.0469\n",
       "2016-12-31 12:00:00            4.0058\n",
       "2016-12-31 13:00:00            3.7247\n",
       "2016-12-31 14:00:00            3.3698\n",
       "2016-12-31 15:00:00            3.5741\n",
       "2016-12-31 16:00:00            3.8801\n",
       "2016-12-31 17:00:00            4.0347\n",
       "2016-12-31 18:00:00            4.1309\n",
       "2016-12-31 19:00:00            4.2129\n",
       "2016-12-31 20:00:00            4.2875\n",
       "2016-12-31 21:00:00            4.2965\n",
       "2016-12-31 22:00:00            4.4200\n",
       "2016-12-31 23:00:00            4.4611\n",
       "\n",
       "[324360 rows x 1 columns]"
      ]
     },
     "execution_count": 5,
     "metadata": {},
     "output_type": "execute_result"
    }
   ],
   "source": [
    "windspeed"
   ]
  },
  {
   "cell_type": "code",
   "execution_count": null,
   "metadata": {},
   "outputs": [],
   "source": []
  },
  {
   "cell_type": "code",
   "execution_count": 6,
   "metadata": {},
   "outputs": [
    {
     "name": "stdout",
     "output_type": "stream",
     "text": [
      "None\n"
     ]
    },
    {
     "ename": "TypeError",
     "evalue": "Cannot compare tz-naive and tz-aware datetime-like objects.",
     "output_type": "error",
     "traceback": [
      "\u001b[1;31m---------------------------------------------------------------------------\u001b[0m",
      "\u001b[1;31mTypeError\u001b[0m                                 Traceback (most recent call last)",
      "\u001b[1;32m<ipython-input-6-69aadb64067a>\u001b[0m in \u001b[0;36m<module>\u001b[1;34m()\u001b[0m\n\u001b[0;32m      4\u001b[0m \u001b[1;33m\u001b[0m\u001b[0m\n\u001b[0;32m      5\u001b[0m \u001b[0mprint\u001b[0m\u001b[1;33m(\u001b[0m\u001b[0mwindspeed\u001b[0m\u001b[1;33m.\u001b[0m\u001b[0mindex\u001b[0m\u001b[1;33m.\u001b[0m\u001b[0mtz\u001b[0m\u001b[1;33m)\u001b[0m\u001b[1;33m\u001b[0m\u001b[0m\n\u001b[1;32m----> 6\u001b[1;33m \u001b[0mwindspeedformatted\u001b[0m \u001b[1;33m=\u001b[0m \u001b[0mwindspeed\u001b[0m\u001b[1;33m.\u001b[0m\u001b[0mloc\u001b[0m\u001b[1;33m[\u001b[0m\u001b[1;33m(\u001b[0m\u001b[0mwindspeed\u001b[0m\u001b[1;33m.\u001b[0m\u001b[0mindex\u001b[0m \u001b[1;33m>=\u001b[0m \u001b[0mstart_remove\u001b[0m\u001b[1;33m)\u001b[0m\u001b[1;33m]\u001b[0m\u001b[1;33m\u001b[0m\u001b[0m\n\u001b[0m\u001b[0;32m      7\u001b[0m \u001b[0mwindgenerationdataformatted\u001b[0m \u001b[1;33m=\u001b[0m \u001b[0mwindgenerationdata\u001b[0m\u001b[1;33m.\u001b[0m\u001b[0mloc\u001b[0m\u001b[1;33m[\u001b[0m\u001b[1;33m(\u001b[0m\u001b[0mwindgenerationdata\u001b[0m\u001b[1;33m.\u001b[0m\u001b[0mindex\u001b[0m \u001b[1;33m>=\u001b[0m \u001b[0mstart_remove\u001b[0m\u001b[1;33m)\u001b[0m \u001b[1;33m&\u001b[0m \u001b[1;33m(\u001b[0m\u001b[0mwindgenerationdata\u001b[0m\u001b[1;33m.\u001b[0m\u001b[0mindex\u001b[0m \u001b[1;33m<\u001b[0m \u001b[0mend_remove\u001b[0m\u001b[1;33m)\u001b[0m\u001b[1;33m]\u001b[0m\u001b[1;33m\u001b[0m\u001b[0m\n",
      "\u001b[1;32m~\\Anaconda3\\lib\\site-packages\\pandas\\core\\indexes\\datetimes.py\u001b[0m in \u001b[0;36mwrapper\u001b[1;34m(self, other)\u001b[0m\n\u001b[0;32m    113\u001b[0m             \u001b[1;32mif\u001b[0m \u001b[0misinstance\u001b[0m\u001b[1;33m(\u001b[0m\u001b[0mother\u001b[0m\u001b[1;33m,\u001b[0m \u001b[0mdatetime\u001b[0m\u001b[1;33m)\u001b[0m\u001b[1;33m:\u001b[0m\u001b[1;33m\u001b[0m\u001b[0m\n\u001b[0;32m    114\u001b[0m                 \u001b[1;31m# GH#18435 strings get a pass from tzawareness compat\u001b[0m\u001b[1;33m\u001b[0m\u001b[1;33m\u001b[0m\u001b[0m\n\u001b[1;32m--> 115\u001b[1;33m                 \u001b[0mself\u001b[0m\u001b[1;33m.\u001b[0m\u001b[0m_assert_tzawareness_compat\u001b[0m\u001b[1;33m(\u001b[0m\u001b[0mother\u001b[0m\u001b[1;33m)\u001b[0m\u001b[1;33m\u001b[0m\u001b[0m\n\u001b[0m\u001b[0;32m    116\u001b[0m \u001b[1;33m\u001b[0m\u001b[0m\n\u001b[0;32m    117\u001b[0m             \u001b[0mother\u001b[0m \u001b[1;33m=\u001b[0m \u001b[0m_to_m8\u001b[0m\u001b[1;33m(\u001b[0m\u001b[0mother\u001b[0m\u001b[1;33m,\u001b[0m \u001b[0mtz\u001b[0m\u001b[1;33m=\u001b[0m\u001b[0mself\u001b[0m\u001b[1;33m.\u001b[0m\u001b[0mtz\u001b[0m\u001b[1;33m)\u001b[0m\u001b[1;33m\u001b[0m\u001b[0m\n",
      "\u001b[1;32m~\\Anaconda3\\lib\\site-packages\\pandas\\core\\indexes\\datetimes.py\u001b[0m in \u001b[0;36m_assert_tzawareness_compat\u001b[1;34m(self, other)\u001b[0m\n\u001b[0;32m    667\u001b[0m         \u001b[1;32melif\u001b[0m \u001b[0mself\u001b[0m\u001b[1;33m.\u001b[0m\u001b[0mtz\u001b[0m \u001b[1;32mis\u001b[0m \u001b[1;32mNone\u001b[0m\u001b[1;33m:\u001b[0m\u001b[1;33m\u001b[0m\u001b[0m\n\u001b[0;32m    668\u001b[0m             \u001b[1;32mif\u001b[0m \u001b[0mother_tz\u001b[0m \u001b[1;32mis\u001b[0m \u001b[1;32mnot\u001b[0m \u001b[1;32mNone\u001b[0m\u001b[1;33m:\u001b[0m\u001b[1;33m\u001b[0m\u001b[0m\n\u001b[1;32m--> 669\u001b[1;33m                 raise TypeError('Cannot compare tz-naive and tz-aware '\n\u001b[0m\u001b[0;32m    670\u001b[0m                                 'datetime-like objects.')\n\u001b[0;32m    671\u001b[0m         \u001b[1;32melif\u001b[0m \u001b[0mother_tz\u001b[0m \u001b[1;32mis\u001b[0m \u001b[1;32mNone\u001b[0m\u001b[1;33m:\u001b[0m\u001b[1;33m\u001b[0m\u001b[0m\n",
      "\u001b[1;31mTypeError\u001b[0m: Cannot compare tz-naive and tz-aware datetime-like objects."
     ]
    }
   ],
   "source": [
    "#creating training data but cutting the data based on time stamp\n",
    "start_remove = pd.to_datetime('2016-01-01',utc=True)\n",
    "end_remove =pd.to_datetime('2017-01-01',utc=True)\n",
    "\n",
    "print(windspeed.index.tz)\n",
    "windspeedformatted = windspeed.loc[(windspeed.index >= start_remove)]\n",
    "windgenerationdataformatted = windgenerationdata.loc[(windgenerationdata.index >= start_remove) & (windgenerationdata.index < end_remove)]"
   ]
  },
  {
   "cell_type": "code",
   "execution_count": null,
   "metadata": {},
   "outputs": [],
   "source": [
    "#creating test/comparison data\n",
    "start_test = pd.to_datetime('2015-01-01', utc = True)\n",
    "end_test = pd.to_datetime('2016-01-01', utc = True)\n",
    "windspeedtest = windspeed.loc[(windspeed.index >= start_test) & (windspeed.index < end_test)]\n",
    "windgenerationtest = windgenerationdata.loc[(windgenerationdata.index >= start_test) & (windgenerationdata.index < end_test)]"
   ]
  },
  {
   "cell_type": "code",
   "execution_count": null,
   "metadata": {},
   "outputs": [],
   "source": [
    "windspeedformatted"
   ]
  },
  {
   "cell_type": "code",
   "execution_count": null,
   "metadata": {},
   "outputs": [],
   "source": [
    "windgenerationdataformatted"
   ]
  },
  {
   "cell_type": "code",
   "execution_count": null,
   "metadata": {},
   "outputs": [],
   "source": [
    "from sklearn.linear_model import LinearRegression\n",
    "from sklearn.model_selection import train_test_split"
   ]
  },
  {
   "cell_type": "code",
   "execution_count": null,
   "metadata": {},
   "outputs": [],
   "source": [
    "#train test might not be valid for our case because we have timestamps in play\n",
    "xtr, xts, ytr, yts = train_test_split(windspeedformatted,windgenerationdataformatted, test_size = 0.33)"
   ]
  },
  {
   "cell_type": "code",
   "execution_count": null,
   "metadata": {},
   "outputs": [],
   "source": [
    "#inital model training attempt\n",
    "model = LinearRegression().fit(xtr,ytr)\n",
    "predicted = model.predict(windspeedformatted)"
   ]
  },
  {
   "cell_type": "code",
   "execution_count": null,
   "metadata": {},
   "outputs": [],
   "source": [
    "#attempt at cross validation\n",
    "from sklearn.model_selection import cross_val_score\n",
    "\n",
    "model = LinearRegression()\n",
    "\n",
    "\n",
    "scores_wind = cross_val_score(model, windspeedformatted, windgenerationdataformatted, cv=5)\n",
    "print(scores_wind, \"\\naverage =\", np.mean(scores_wind))"
   ]
  },
  {
   "cell_type": "code",
   "execution_count": null,
   "metadata": {},
   "outputs": [],
   "source": [
    "#predict using train test split data\n",
    "predicted = model.predict(xts)"
   ]
  },
  {
   "cell_type": "code",
   "execution_count": null,
   "metadata": {},
   "outputs": [],
   "source": [
    "predicted"
   ]
  },
  {
   "cell_type": "code",
   "execution_count": null,
   "metadata": {},
   "outputs": [],
   "source": [
    "#error when using model from cross validation\n",
    "predicted = model.predict(windspeedformatted)"
   ]
  },
  {
   "cell_type": "code",
   "execution_count": null,
   "metadata": {},
   "outputs": [],
   "source": [
    "#timeseries used as x axis when plotting predicted\n",
    "timeseries = pd.date_range('2016-01-01', '2016-12-31 23:00:00', freq='H')"
   ]
  },
  {
   "cell_type": "code",
   "execution_count": null,
   "metadata": {},
   "outputs": [],
   "source": [
    "timeseries"
   ]
  },
  {
   "cell_type": "code",
   "execution_count": null,
   "metadata": {},
   "outputs": [],
   "source": [
    "windgenerationdataformatted.plot(linewidth=0.5)"
   ]
  },
  {
   "cell_type": "code",
   "execution_count": null,
   "metadata": {
    "scrolled": true
   },
   "outputs": [],
   "source": [
    "#I think this is an invalid test because using entire dataset in the predict but the training data is from that same set\n",
    "plt.plot(timeseries,predicted, linewidth=0.5)"
   ]
  },
  {
   "cell_type": "code",
   "execution_count": null,
   "metadata": {},
   "outputs": [],
   "source": [
    "'''\n",
    "Todo:\n",
    "take in weather data and generation data\n",
    "separate data into two sets:\n",
    "Solar\n",
    "X = [sun related weather columns] \n",
    "Y = wind_generation_actual\n",
    "Wind:\n",
    "X = [wind related weather columns] \n",
    "Y = sun_generation_actual\n",
    "\n",
    "Trim data based on timestamp\n",
    "Wind generation begins at 2010-01-01\n",
    "However there are values with NaN. Chose to only take 2016 for now\n",
    "No wind data past 2016\n",
    "\n",
    "Solar generation begins at 2012-01-01\n",
    "\n",
    "To try: if there are timestamps do I have to format data?\n"
   ]
  },
  {
   "cell_type": "code",
   "execution_count": null,
   "metadata": {},
   "outputs": [],
   "source": [
    "#Solar generation and radiation\n",
    "\n",
    "sun_start_remove = pd.to_datetime('2012-01-01',utc=True)\n",
    "sun_end_remove = pd.to_datetime('2019-01-01',utc=True)\n",
    "#Solar radiation\n",
    "solar_radiation = pd.read_csv(\"../data/weather_data.csv\",\n",
    "                        usecols=(lambda s: s.startswith('utc') | \n",
    "                                 s. startswith('DE_radiation')),\n",
    "                        parse_dates=[0], index_col=0)\n",
    "solar_radiation = solar_radiation.loc[(solar_radiation.index >= sun_start_remove) & (solar_radiation.index < sun_end_remove)]\n",
    "#Solar generation\n",
    "'DE_solar_generation_actual'\n",
    "\n",
    "solar_gen_actual = solargenerationdata.loc[(solargenerationdata.index >= sun_start_remove) & (solargenerationdata.index < sun_end_remove),\"DE_solar_generation_actual\"]\n"
   ]
  },
  {
   "cell_type": "code",
   "execution_count": null,
   "metadata": {},
   "outputs": [],
   "source": [
    "model = LinearRegression().fit(windspeedformatted,windgenerationdataformatted)"
   ]
  },
  {
   "cell_type": "code",
   "execution_count": null,
   "metadata": {},
   "outputs": [],
   "source": []
  },
  {
   "cell_type": "code",
   "execution_count": null,
   "metadata": {},
   "outputs": [],
   "source": [
    "#using the previously formatted data which is data from 2015\n",
    "prediction = model.predict(windspeedtest)"
   ]
  },
  {
   "cell_type": "code",
   "execution_count": null,
   "metadata": {},
   "outputs": [],
   "source": [
    "timeseries = pd.date_range('2015-01-01', '2015-12-31 23:00:00', freq='H')"
   ]
  },
  {
   "cell_type": "code",
   "execution_count": null,
   "metadata": {},
   "outputs": [],
   "source": [
    "windgenerationtest.plot(linewidth=0.5)"
   ]
  },
  {
   "cell_type": "code",
   "execution_count": null,
   "metadata": {},
   "outputs": [],
   "source": [
    "plt.plot(timeseries,prediction, linewidth=0.5)"
   ]
  },
  {
   "cell_type": "code",
   "execution_count": null,
   "metadata": {},
   "outputs": [],
   "source": [
    "from sklearn.metrics import r2_score\n",
    "print(r2_score(windgenerationtest, prediction))"
   ]
  },
  {
   "cell_type": "code",
   "execution_count": null,
   "metadata": {},
   "outputs": [],
   "source": [
    "#large number because we're deadling with large numbers\n",
    "from sklearn.metrics import mean_squared_error\n",
    "print(mean_squared_error(windgenerationtest, prediction))"
   ]
  },
  {
   "cell_type": "code",
   "execution_count": null,
   "metadata": {},
   "outputs": [],
   "source": [
    "print(np.sum((windgenerationtest-prediction)**2)/(prediction.shape[0]))"
   ]
  },
  {
   "cell_type": "code",
   "execution_count": null,
   "metadata": {},
   "outputs": [],
   "source": [
    "#Solar generation and radiation\n",
    "\n",
    "sun_start_remove = pd.to_datetime('2012-01-01',utc=True)\n",
    "sun_end_remove = pd.to_datetime('2016-12-31',utc=True)\n",
    "#Solar radiation\n",
    "solar_radiation = pd.read_csv(\"../data/weather_data.csv\",\n",
    "                        usecols=(lambda s: s.startswith('utc') | \n",
    "                                 s. startswith('DE_radiation')),\n",
    "                        parse_dates=[0], index_col=0)\n",
    "solar_radiation = solar_radiation.loc[(solar_radiation.index >= sun_start_remove) & (solar_radiation.index < sun_end_remove)]\n",
    "#Solar generation\n",
    "'DE_solar_generation_actual'\n",
    "\n",
    "solar_gen_actual = solargenerationdata.loc[(solargenerationdata.index >= sun_start_remove) & (solargenerationdata.index < sun_end_remove),\"DE_solar_generation_actual\"]"
   ]
  },
  {
   "cell_type": "code",
   "execution_count": null,
   "metadata": {},
   "outputs": [],
   "source": [
    "solar_gen_actual"
   ]
  },
  {
   "cell_type": "code",
   "execution_count": null,
   "metadata": {},
   "outputs": [],
   "source": [
    "solar_radiation"
   ]
  },
  {
   "cell_type": "code",
   "execution_count": null,
   "metadata": {},
   "outputs": [],
   "source": [
    "sunmodel = LinearRegression()"
   ]
  },
  {
   "cell_type": "code",
   "execution_count": null,
   "metadata": {},
   "outputs": [],
   "source": [
    "xtr, xts, ytr, yts=  train_test_split(solar_radiation,solar_gen_actual, test_size = 0.33)"
   ]
  },
  {
   "cell_type": "code",
   "execution_count": null,
   "metadata": {},
   "outputs": [],
   "source": [
    "sunmodel.fit(xtr,ytr)\n",
    "est_sun_generation = sunmodel.predict(xts)"
   ]
  },
  {
   "cell_type": "code",
   "execution_count": null,
   "metadata": {},
   "outputs": [],
   "source": []
  }
 ],
 "metadata": {
  "kernelspec": {
   "display_name": "Python 3",
   "language": "python",
   "name": "python3"
  },
  "language_info": {
   "codemirror_mode": {
    "name": "ipython",
    "version": 3
   },
   "file_extension": ".py",
   "mimetype": "text/x-python",
   "name": "python",
   "nbconvert_exporter": "python",
   "pygments_lexer": "ipython3",
   "version": "3.7.0"
  }
 },
 "nbformat": 4,
 "nbformat_minor": 2
}
