{
 "cells": [
  {
   "cell_type": "code",
   "execution_count": 1,
   "metadata": {},
   "outputs": [],
   "source": [
    "import pandas as pd\n",
    "import numpy as np\n",
    "import matplotlib.pyplot as plt\n",
    "%matplotlib inline"
   ]
  },
  {
   "cell_type": "code",
   "execution_count": 2,
   "metadata": {},
   "outputs": [],
   "source": [
    "# energygenerationdata = pd.read_csv(\"data/time_series_60min_singleindex.csv\",\n",
    "#                         usecols=(lambda s: s.startswith('utc') | \n",
    "#                                  s.startswith('DE_solar') |\n",
    "#                                  s. startswith('DE_wind')),\n",
    "#                         parse_dates=[0], index_col=0)\n",
    "\n",
    "# windgenerationdata = pd.read_csv(\"data/time_series_60min_singleindex.csv\",\n",
    "#                         usecols=(lambda s: s.startswith('utc') | \n",
    "#                                  s. startswith('DE_wind_generation')),\n",
    "#                         parse_dates=[0], index_col=0)\n",
    "windgenDE = pd.read_csv(\"data/time_series_60min_singleindex.csv\",\n",
    "                        usecols=(lambda s: s.startswith('utc') | \n",
    "                                 s. startswith('DE_wind_generation')),\n",
    "                        parse_dates=[0], index_col=0)\n",
    "\n",
    "windgenAT = pd.read_csv(\"data/time_series_60min_singleindex.csv\",\n",
    "                        usecols=(lambda s: s.startswith('utc') | \n",
    "                                 s. startswith('AT_wind_onshore_generation')),\n",
    "                        parse_dates=[0], index_col=0)\n",
    "\n",
    "windgenFR = pd.read_csv(\"data/time_series_60min_singleindex.csv\",\n",
    "                        usecols=(lambda s: s.startswith('utc') | \n",
    "                                 s. startswith('FR_wind_onshore_generation')),\n",
    "                        parse_dates=[0], index_col=0)\n",
    "\n",
    "windgenPL = pd.read_csv(\"data/time_series_60min_singleindex.csv\",\n",
    "                        usecols=(lambda s: s.startswith('utc') | \n",
    "                                 s. startswith('PL_wind_onshore_generation')),\n",
    "                        parse_dates=[0], index_col=0)"
   ]
  },
  {
   "cell_type": "code",
   "execution_count": 3,
   "metadata": {},
   "outputs": [],
   "source": [
    "# weatherdata = pd.read_csv(\"data/weather_data.csv\",\n",
    "#                 usecols=(lambda s: s.startswith('utc') | \n",
    "#                          s.startswith('DE')),\n",
    "#                 parse_dates=[0], index_col=0)"
   ]
  },
  {
   "cell_type": "code",
   "execution_count": 4,
   "metadata": {},
   "outputs": [],
   "source": [
    "# windspeed = pd.read_csv(\"data/weather_data.csv\",\n",
    "#                 usecols=(lambda s: s.startswith('utc') | \n",
    "#                          s.startswith('DE_windspeed')),\n",
    "#                 parse_dates=[0], index_col=0)\n",
    "windspeedDE = pd.read_csv(\"data/weather_data.csv\",\n",
    "                usecols=(lambda s: s.startswith('utc') | \n",
    "                         s.startswith('DE_windspeed')),\n",
    "                parse_dates=[0], index_col=0)\n",
    "\n",
    "windspeedAT = pd.read_csv(\"data/weather_data.csv\",\n",
    "                usecols=(lambda s: s.startswith('utc') | \n",
    "                         s.startswith('AT_windspeed')),\n",
    "                parse_dates=[0], index_col=0)\n",
    "\n",
    "\n",
    "windspeedFR = pd.read_csv(\"data/weather_data.csv\",\n",
    "                usecols=(lambda s: s.startswith('utc') | \n",
    "                         s.startswith('FR_windspeed')),\n",
    "                parse_dates=[0], index_col=0)\n",
    "\n",
    "windspeedPL = pd.read_csv(\"data/weather_data.csv\",\n",
    "                usecols=(lambda s: s.startswith('utc') | \n",
    "                         s.startswith('PL_windspeed')),\n",
    "                parse_dates=[0], index_col=0)"
   ]
  },
  {
   "cell_type": "code",
   "execution_count": 5,
   "metadata": {},
   "outputs": [],
   "source": [
    "start_remove = pd.to_datetime('2016-01-01', utc = True)\n",
    "end_remove = pd.to_datetime('2017-01-01', utc = True)\n",
    "\n",
    "start_test = pd.to_datetime('2015-01-01', utc = True)\n",
    "end_test = pd.to_datetime('2016-01-01', utc = True)"
   ]
  },
  {
   "cell_type": "code",
   "execution_count": 6,
   "metadata": {},
   "outputs": [],
   "source": [
    "windspeedtrainDE = windspeedDE.loc[(windspeedDE.index >= start_remove) & (windspeedDE.index < end_remove)]\n",
    "windgenerationtrainDE = windgenDE.loc[(windgenDE.index >= start_remove) & (windgenDE.index < end_remove)]\n",
    "\n",
    "windspeedtestDE = windspeedDE.loc[(windspeedDE.index >= start_test) & (windspeedDE.index < end_test)]\n",
    "windgenerationtestDE = windgenDE.loc[(windgenDE.index >= start_test) & (windgenDE.index < end_test)]"
   ]
  },
  {
   "cell_type": "code",
   "execution_count": 7,
   "metadata": {},
   "outputs": [],
   "source": [
    "windspeedtrainAT = windspeedAT.loc[(windspeedAT.index >= start_remove) & (windspeedAT.index < end_remove)]\n",
    "windgenerationtrainAT = windgenAT.loc[(windgenAT.index >= start_remove) & (windgenAT.index < end_remove)]\n",
    "\n",
    "windspeedtestAT = windspeedAT.loc[(windspeedAT.index >= start_test) & (windspeedAT.index < end_test)]\n",
    "windgenerationtestAT = windgenAT.loc[(windgenAT.index >= start_test) & (windgenAT.index < end_test)]"
   ]
  },
  {
   "cell_type": "code",
   "execution_count": 8,
   "metadata": {},
   "outputs": [],
   "source": [
    "windspeedtrainFR = windspeedFR.loc[(windspeedFR.index >= start_remove) & (windspeedFR.index < end_remove)]\n",
    "windgenerationtrainFR = windgenFR.loc[(windgenFR.index >= start_remove) & (windgenFR.index < end_remove)]\n",
    "\n",
    "windspeedtestFR = windspeedFR.loc[(windspeedFR.index >= start_test) & (windspeedFR.index < end_test)]\n",
    "windgenerationtestFR = windgenFR.loc[(windgenFR.index >= start_test) & (windgenFR.index < end_test)]"
   ]
  },
  {
   "cell_type": "code",
   "execution_count": 9,
   "metadata": {},
   "outputs": [],
   "source": [
    "windspeedtrainPL = windspeedPL.loc[(windspeedPL.index >= start_remove) & (windspeedPL.index < end_remove)]\n",
    "windgenerationtrainPL = windgenPL.loc[(windgenPL.index >= start_remove) & (windgenPL.index < end_remove)]\n",
    "\n",
    "windspeedtestPL = windspeedPL.loc[(windspeedPL.index >= start_test) & (windspeedPL.index < end_test)]\n",
    "windgenerationtestPL = windgenPL.loc[(windgenPL.index >= start_test) & (windgenPL.index < end_test)]"
   ]
  },
  {
   "cell_type": "code",
   "execution_count": 10,
   "metadata": {},
   "outputs": [],
   "source": [
    "windspeedtrainFR = windspeedtrainFR.rename({\"utc_timestamp\": \"timestamp\", \"FR_windspeed_10m\": \"windspeed\"}, axis='columns')"
   ]
  },
  {
   "cell_type": "code",
   "execution_count": 11,
   "metadata": {},
   "outputs": [],
   "source": [
    "windspeedtrainDE = windspeedtrainDE.rename({\"utc_timestamp\": \"timestamp\", \"DE_windspeed_10m\": \"windspeed\"}, axis='columns')"
   ]
  },
  {
   "cell_type": "code",
   "execution_count": 12,
   "metadata": {},
   "outputs": [],
   "source": [
    "windspeedtrainAT = windspeedtrainAT.rename({\"utc_timestamp\": \"timestamp\", \"AT_windspeed_10m\": \"windspeed\"}, axis='columns')"
   ]
  },
  {
   "cell_type": "code",
   "execution_count": 13,
   "metadata": {},
   "outputs": [],
   "source": [
    "windspeedtrainPL = windspeedtrainPL.rename({\"utc_timestamp\": \"timestamp\", \"PL_windspeed_10m\": \"windspeed\"}, axis='columns')"
   ]
  },
  {
   "cell_type": "code",
   "execution_count": 14,
   "metadata": {},
   "outputs": [],
   "source": [
    "windspeedformatted = pd.concat([windspeedtrainDE, windspeedtrainAT, windspeedtrainPL], sort=False)"
   ]
  },
  {
   "cell_type": "code",
   "execution_count": 15,
   "metadata": {},
   "outputs": [],
   "source": [
    "# windspeedformatted"
   ]
  },
  {
   "cell_type": "code",
   "execution_count": 16,
   "metadata": {},
   "outputs": [],
   "source": [
    "windgenerationtrainFR = windgenerationtrainFR.rename({\"utc_timestamp\": \"timestamp\", \"FR_wind_onshore_generation_actual\": \"wind_generation\"}, axis='columns')"
   ]
  },
  {
   "cell_type": "code",
   "execution_count": 17,
   "metadata": {},
   "outputs": [],
   "source": [
    "windgenerationtrainDE = windgenerationtrainDE.rename({\"utc_timestamp\": \"timestamp\", \"DE_wind_generation_actual\": \"wind_generation\"}, axis='columns')"
   ]
  },
  {
   "cell_type": "code",
   "execution_count": 18,
   "metadata": {},
   "outputs": [],
   "source": [
    "windgenerationtrainAT = windgenerationtrainAT.rename({\"utc_timestamp\": \"timestamp\", \"AT_wind_onshore_generation_actual\": \"wind_generation\"}, axis='columns')"
   ]
  },
  {
   "cell_type": "code",
   "execution_count": 19,
   "metadata": {},
   "outputs": [],
   "source": [
    "windgenerationtrainPL = windgenerationtrainPL.rename({\"utc_timestamp\": \"timestamp\", \"PL_wind_onshore_generation_actual\": \"wind_generation\"}, axis='columns')"
   ]
  },
  {
   "cell_type": "code",
   "execution_count": 20,
   "metadata": {},
   "outputs": [],
   "source": [
    "windgenerationdataformatted = pd.concat([windgenerationtrainDE, windgenerationtrainAT, windgenerationtrainPL], sort=False)"
   ]
  },
  {
   "cell_type": "code",
   "execution_count": 21,
   "metadata": {},
   "outputs": [],
   "source": [
    "# windspeedformatted"
   ]
  },
  {
   "cell_type": "code",
   "execution_count": 22,
   "metadata": {},
   "outputs": [],
   "source": [
    "#creating training data but cutting the data based on time stamp\n",
    "# start_remove = pd.to_datetime('2016-01-01', utc = True)\n",
    "# end_remove = pd.to_datetime('2017-01-01', utc = True)\n",
    "\n",
    "# start_remove = pd.to_datetime('2016-01-01')\n",
    "# end_remove = pd.to_datetime('2017-01-01')\n",
    "\n",
    "# windspeedformatted = windspeed.loc[(windspeed.index >= start_remove)]\n",
    "# windgenerationdataformatted = windgenerationdata.loc[(windgenerationdata.index >= start_remove) & (windgenerationdata.index < end_remove)]"
   ]
  },
  {
   "cell_type": "code",
   "execution_count": 23,
   "metadata": {},
   "outputs": [],
   "source": [
    "#creating test/comparison data\n",
    "# start_test = pd.to_datetime('2015-01-01', utc = True)\n",
    "# end_test = pd.to_datetime('2016-01-01', utc = True)\n",
    "\n",
    "# start_test = pd.to_datetime('2015-01-01')\n",
    "# end_test = pd.to_datetime('2016-01-01')\n",
    "# windspeedtest = windspeed.loc[(windspeed.index >= start_test) & (windspeed.index < end_test)]\n",
    "# windgenerationtest = windgenerationdata.loc[(windgenerationdata.index >= start_test) & (windgenerationdata.index < end_test)]"
   ]
  },
  {
   "cell_type": "code",
   "execution_count": 24,
   "metadata": {},
   "outputs": [],
   "source": [
    "# windspeedformatted"
   ]
  },
  {
   "cell_type": "code",
   "execution_count": 25,
   "metadata": {},
   "outputs": [],
   "source": [
    "# windgenerationdataformatted"
   ]
  },
  {
   "cell_type": "code",
   "execution_count": 26,
   "metadata": {},
   "outputs": [],
   "source": [
    "# max(windgenerationdataformatted['DE_wind_generation_actual'])"
   ]
  },
  {
   "cell_type": "code",
   "execution_count": 27,
   "metadata": {},
   "outputs": [],
   "source": [
    "# min(windgenerationdataformatted['DE_wind_generation_actual'])"
   ]
  },
  {
   "cell_type": "code",
   "execution_count": 28,
   "metadata": {},
   "outputs": [],
   "source": [
    "windgenerationdataformatted = windgenerationdataformatted * 1e-3"
   ]
  },
  {
   "cell_type": "code",
   "execution_count": 29,
   "metadata": {},
   "outputs": [],
   "source": [
    "windgenerationtestFR = windgenerationtestFR * 1e-3"
   ]
  },
  {
   "cell_type": "code",
   "execution_count": null,
   "metadata": {},
   "outputs": [],
   "source": []
  },
  {
   "cell_type": "code",
   "execution_count": 30,
   "metadata": {},
   "outputs": [],
   "source": [
    "# windgenerationtest"
   ]
  },
  {
   "cell_type": "code",
   "execution_count": 31,
   "metadata": {},
   "outputs": [],
   "source": [
    "from sklearn.linear_model import LinearRegression\n",
    "# from sklearn.model_selection import train_test_split"
   ]
  },
  {
   "cell_type": "code",
   "execution_count": 32,
   "metadata": {},
   "outputs": [],
   "source": [
    "#train test might not be valid for our case because we have timestamps in play\n",
    "# xtr, xts, ytr, yts = train_test_split(windspeedformatted,windgenerationdataformatted, test_size = 0.33)"
   ]
  },
  {
   "cell_type": "code",
   "execution_count": 33,
   "metadata": {},
   "outputs": [],
   "source": [
    "#inital model training attempt\n",
    "# model = LinearRegression().fit(xtr,ytr)\n",
    "# predicted = model.predict(windspeedformatted)"
   ]
  },
  {
   "cell_type": "code",
   "execution_count": 34,
   "metadata": {},
   "outputs": [],
   "source": [
    "#attempt at cross validation\n",
    "# from sklearn.model_selection import cross_val_score\n",
    "\n",
    "# model = LinearRegression()\n",
    "\n",
    "# scores_wind = cross_val_score(model, windspeedformatted, windgenerationdataformatted, cv=5)\n",
    "# print(scores_wind, \"\\naverage =\", np.mean(scores_wind))"
   ]
  },
  {
   "cell_type": "code",
   "execution_count": 35,
   "metadata": {},
   "outputs": [],
   "source": [
    "#predict using train test split data\n",
    "# predicted = model.predict(xts)"
   ]
  },
  {
   "cell_type": "code",
   "execution_count": 36,
   "metadata": {},
   "outputs": [],
   "source": [
    "# predicted"
   ]
  },
  {
   "cell_type": "code",
   "execution_count": 37,
   "metadata": {},
   "outputs": [],
   "source": [
    "#error when using model from cross validation\n",
    "# predicted = model.predict(windspeedformatted)"
   ]
  },
  {
   "cell_type": "code",
   "execution_count": 38,
   "metadata": {},
   "outputs": [],
   "source": [
    "#timeseries used as x axis when plotting predicted\n",
    "# timeseries = pd.date_range('2016-01-01', '2016-12-31 23:00:00', freq='H')"
   ]
  },
  {
   "cell_type": "code",
   "execution_count": 39,
   "metadata": {},
   "outputs": [],
   "source": [
    "# timeseries"
   ]
  },
  {
   "cell_type": "code",
   "execution_count": 40,
   "metadata": {},
   "outputs": [],
   "source": [
    "# windgenerationdataformatted.plot(linewidth=0.5)"
   ]
  },
  {
   "cell_type": "code",
   "execution_count": 41,
   "metadata": {
    "scrolled": true
   },
   "outputs": [],
   "source": [
    "# I think this is an invalid test because using entire dataset in the predict but the training data is from that same set\n",
    "# plt.plot(timeseries,predicted, linewidth=0.5)"
   ]
  },
  {
   "cell_type": "code",
   "execution_count": 42,
   "metadata": {},
   "outputs": [
    {
     "data": {
      "text/plain": [
       "'\\nTodo:\\ntake in weather data and generation data\\nseparate data into two sets:\\nSolar\\nX = [sun related weather columns] \\nY = wind_generation_actual\\nWind:\\nX = [wind related weather columns] \\nY = sun_generation_actual\\n\\nTrim data based on timestamp\\nWind generation begins at 2010-01-01\\nHowever there are values with NaN. Chose to only take 2016 for now\\nNo wind data past 2016\\n\\nSolar generation begins at 2012-01-01\\n\\nTo try: if there are timestamps do I have to format data?\\n'"
      ]
     },
     "execution_count": 42,
     "metadata": {},
     "output_type": "execute_result"
    }
   ],
   "source": [
    "'''\n",
    "Todo:\n",
    "take in weather data and generation data\n",
    "separate data into two sets:\n",
    "Solar\n",
    "X = [sun related weather columns] \n",
    "Y = wind_generation_actual\n",
    "Wind:\n",
    "X = [wind related weather columns] \n",
    "Y = sun_generation_actual\n",
    "\n",
    "Trim data based on timestamp\n",
    "Wind generation begins at 2010-01-01\n",
    "However there are values with NaN. Chose to only take 2016 for now\n",
    "No wind data past 2016\n",
    "\n",
    "Solar generation begins at 2012-01-01\n",
    "\n",
    "To try: if there are timestamps do I have to format data?\n",
    "'''"
   ]
  },
  {
   "cell_type": "code",
   "execution_count": 50,
   "metadata": {},
   "outputs": [],
   "source": [
    "model = LinearRegression().fit(windspeedformatted,windgenerationdataformatted)"
   ]
  },
  {
   "cell_type": "code",
   "execution_count": 51,
   "metadata": {},
   "outputs": [],
   "source": [
    "#using the previously formatted data which is data from 2015\n",
    "prediction = model.predict(windspeedtestFR)"
   ]
  },
  {
   "cell_type": "code",
   "execution_count": 52,
   "metadata": {},
   "outputs": [],
   "source": [
    "timeseries = pd.date_range('2015-01-01', '2015-12-31 23:00:00', freq='H')"
   ]
  },
  {
   "cell_type": "code",
   "execution_count": 53,
   "metadata": {},
   "outputs": [
    {
     "name": "stderr",
     "output_type": "stream",
     "text": [
      "C:\\Users\\hong8\\Anaconda3\\lib\\site-packages\\pandas\\core\\arrays\\datetimes.py:1172: UserWarning: Converting to PeriodArray/Index representation will drop timezone information.\n",
      "  \"will drop timezone information.\", UserWarning)\n"
     ]
    },
    {
     "data": {
      "text/plain": [
       "<matplotlib.axes._subplots.AxesSubplot at 0x2ab3a945400>"
      ]
     },
     "execution_count": 53,
     "metadata": {},
     "output_type": "execute_result"
    },
    {
     "data": {
      "image/png": "[encoded data removed]",
      "text/plain": [
       "<Figure size 432x288 with 1 Axes>"
      ]
     },
     "metadata": {
      "needs_background": "light"
     },
     "output_type": "display_data"
    }
   ],
   "source": [
    "windgenerationtestFR.plot(linewidth=0.5)"
   ]
  },
  {
   "cell_type": "code",
   "execution_count": 54,
   "metadata": {},
   "outputs": [
    {
     "data": {
      "text/plain": [
       "[<matplotlib.lines.Line2D at 0x2ab3b227048>]"
      ]
     },
     "execution_count": 54,
     "metadata": {},
     "output_type": "execute_result"
    },
    {
     "data": {
      "image/png": "[encoded data removed]",
      "text/plain": [
       "<Figure size 432x288 with 1 Axes>"
      ]
     },
     "metadata": {
      "needs_background": "light"
     },
     "output_type": "display_data"
    }
   ],
   "source": [
    "plt.plot(timeseries,prediction, linewidth=0.5)"
   ]
  },
  {
   "cell_type": "code",
   "execution_count": 55,
   "metadata": {},
   "outputs": [
    {
     "name": "stdout",
     "output_type": "stream",
     "text": [
      "-1.2993254494687663\n"
     ]
    }
   ],
   "source": [
    "from sklearn.metrics import r2_score\n",
    "print(r2_score(windgenerationtestFR, prediction))"
   ]
  },
  {
   "cell_type": "code",
   "execution_count": 56,
   "metadata": {},
   "outputs": [
    {
     "name": "stdout",
     "output_type": "stream",
     "text": [
      "7.093402163712705\n"
     ]
    }
   ],
   "source": [
    "#large number because we're deadling with large numbers\n",
    "from sklearn.metrics import mean_squared_error\n",
    "print(mean_squared_error(windgenerationtestFR, prediction))"
   ]
  },
  {
   "cell_type": "code",
   "execution_count": 57,
   "metadata": {},
   "outputs": [],
   "source": [
    "# print(np.sum((windgenerationtest-prediction)**2)/(prediction.shape[0]))"
   ]
  },
  {
   "cell_type": "code",
   "execution_count": 58,
   "metadata": {},
   "outputs": [
    {
     "data": {
      "text/plain": [
       "'\\nTo do:\\nFigure out mse (maybe normalize)\\nfigure out cross validation fitting\\nIncorportate more data (more times and more regions)\\n\\nNN model experimentation\\n\\nExpand to solar generation\\n'"
      ]
     },
     "execution_count": 58,
     "metadata": {},
     "output_type": "execute_result"
    }
   ],
   "source": [
    "'''\n",
    "To do:\n",
    "Figure out mse (maybe normalize)\n",
    "figure out cross validation fitting\n",
    "Incorportate more data (more times and more regions)\n",
    "\n",
    "NN model experimentation\n",
    "\n",
    "Expand to solar generation\n",
    "'''"
   ]
  },
  {
   "cell_type": "code",
   "execution_count": 59,
   "metadata": {},
   "outputs": [],
   "source": [
    "#\n",
    "def energy_production(energy):\n",
    "    total_energy = np.sum(energy)\n",
    "    avg_energy_per_hour = total_energy / energy.shape[0]\n",
    "    avg_energy_per_day = total_energy / (energy.shape[0] / 24)\n",
    "    print(\"Energy Data measured in Giga Watts\")\n",
    "    print(\"Total energy:\", total_energy)\n",
    "    print(\"Average Energy Per Hour:\", avg_energy_per_hour)\n",
    "    print(\"Average Energy Per Day:\", avg_energy_per_day)"
   ]
  },
  {
   "cell_type": "code",
   "execution_count": 60,
   "metadata": {},
   "outputs": [
    {
     "name": "stdout",
     "output_type": "stream",
     "text": [
      "Energy Data measured in Giga Watts\n",
      "Total energy: FR_wind_onshore_generation_actual    21090.859\n",
      "dtype: float64\n",
      "Average Energy Per Hour: FR_wind_onshore_generation_actual    2.407632\n",
      "dtype: float64\n",
      "Average Energy Per Day: FR_wind_onshore_generation_actual    57.783175\n",
      "dtype: float64\n"
     ]
    }
   ],
   "source": [
    "energy_production(windgenerationtestFR)"
   ]
  },
  {
   "cell_type": "code",
   "execution_count": 61,
   "metadata": {},
   "outputs": [
    {
     "name": "stdout",
     "output_type": "stream",
     "text": [
      "Energy Data measured in Giga Watts\n",
      "Total energy: 40420.929259635945\n",
      "Average Energy Per Hour: 4.614261331008669\n",
      "Average Energy Per Day: 110.74227194420807\n"
     ]
    }
   ],
   "source": [
    "energy_production(prediction)"
   ]
  },
  {
   "cell_type": "code",
   "execution_count": null,
   "metadata": {},
   "outputs": [],
   "source": []
  }
 ],
 "metadata": {
  "kernelspec": {
   "display_name": "Python 3",
   "language": "python",
   "name": "python3"
  },
  "language_info": {
   "codemirror_mode": {
    "name": "ipython",
    "version": 3
   },
   "file_extension": ".py",
   "mimetype": "text/x-python",
   "name": "python",
   "nbconvert_exporter": "python",
   "pygments_lexer": "ipython3",
   "version": "3.7.3"
  }
 },
 "nbformat": 4,
 "nbformat_minor": 2
}
