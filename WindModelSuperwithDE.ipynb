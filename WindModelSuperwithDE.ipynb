{
 "cells": [
  {
   "cell_type": "code",
   "execution_count": 1,
   "metadata": {},
   "outputs": [],
   "source": [
    "import pandas as pd\n",
    "import numpy as np\n",
    "import matplotlib.pyplot as plt\n",
    "%matplotlib inline"
   ]
  },
  {
   "cell_type": "markdown",
   "metadata": {},
   "source": [
    "## saving the wind generation data (the target variable) for all regions into dataframes"
   ]
  },
  {
   "cell_type": "code",
   "execution_count": 2,
   "metadata": {},
   "outputs": [],
   "source": [
    "windgenDE = pd.read_csv(\"data/time_series_60min_singleindex.csv\",\n",
    "                        usecols=(lambda s: s.startswith('utc') | \n",
    "                                 s. startswith('DE_wind_generation')),\n",
    "                        parse_dates=[0], index_col=0)\n",
    "\n",
    "windgenAT = pd.read_csv(\"data/time_series_60min_singleindex.csv\",\n",
    "                        usecols=(lambda s: s.startswith('utc') | \n",
    "                                 s. startswith('AT_wind_onshore_generation')),\n",
    "                        parse_dates=[0], index_col=0)\n",
    "\n",
    "windgenFR = pd.read_csv(\"data/time_series_60min_singleindex.csv\",\n",
    "                        usecols=(lambda s: s.startswith('utc') | \n",
    "                                 s. startswith('FR_wind_onshore_generation')),\n",
    "                        parse_dates=[0], index_col=0)\n",
    "\n",
    "windgenPL = pd.read_csv(\"data/time_series_60min_singleindex.csv\",\n",
    "                        usecols=(lambda s: s.startswith('utc') | \n",
    "                                 s. startswith('PL_wind_onshore_generation')),\n",
    "                        parse_dates=[0], index_col=0)\n",
    "\n",
    "windgenDK = pd.read_csv(\"data/time_series_60min_singleindex.csv\",\n",
    "                        usecols=(lambda s: s.startswith('utc') | \n",
    "                                 s. startswith('DK_wind_onshore_generation')),\n",
    "                        parse_dates=[0], index_col=0)"
   ]
  },
  {
   "cell_type": "markdown",
   "metadata": {},
   "source": [
    "## saving the wind weather data (the features) into dataframes"
   ]
  },
  {
   "cell_type": "code",
   "execution_count": 3,
   "metadata": {},
   "outputs": [],
   "source": [
    "windspeedDE = pd.read_csv(\"data/weather_data.csv\",\n",
    "                usecols=(lambda s: s.startswith('utc') | \n",
    "                         s.startswith('DE_windspeed')),\n",
    "                parse_dates=[0], index_col=0)\n",
    "\n",
    "windspeedAT = pd.read_csv(\"data/weather_data.csv\",\n",
    "                usecols=(lambda s: s.startswith('utc') | \n",
    "                         s.startswith('AT_windspeed')),\n",
    "                parse_dates=[0], index_col=0)\n",
    "\n",
    "\n",
    "windspeedFR = pd.read_csv(\"data/weather_data.csv\",\n",
    "                usecols=(lambda s: s.startswith('utc') | \n",
    "                         s.startswith('FR_windspeed')),\n",
    "                parse_dates=[0], index_col=0)\n",
    "\n",
    "windspeedPL = pd.read_csv(\"data/weather_data.csv\",\n",
    "                usecols=(lambda s: s.startswith('utc') | \n",
    "                         s.startswith('PL_windspeed')),\n",
    "                parse_dates=[0], index_col=0)\n",
    "\n",
    "windspeedDK = pd.read_csv(\"data/weather_data.csv\",\n",
    "                usecols=(lambda s: s.startswith('utc') | \n",
    "                         s.startswith('DK_windspeed')),\n",
    "                parse_dates=[0], index_col=0)"
   ]
  },
  {
   "cell_type": "markdown",
   "metadata": {},
   "source": [
    "## Next two cells are identical in purpose but if you get a tz-naive error you need to run the other block of code. The block of code needed differs based on system"
   ]
  },
  {
   "cell_type": "code",
   "execution_count": 4,
   "metadata": {},
   "outputs": [],
   "source": [
    "start_remove = pd.to_datetime('2016-01-01')\n",
    "end_remove = pd.to_datetime('2017-01-01')\n",
    "\n",
    "start_test = pd.to_datetime('2015-01-01')\n",
    "end_test = pd.to_datetime('2016-01-01')"
   ]
  },
  {
   "cell_type": "code",
   "execution_count": 5,
   "metadata": {},
   "outputs": [],
   "source": [
    "# start_remove = pd.to_datetime('2016-01-01', utc = True)\n",
    "# end_remove = pd.to_datetime('2017-01-01', utc = True)\n",
    "\n",
    "# start_test = pd.to_datetime('2015-01-01', utc = True)\n",
    "# end_test = pd.to_datetime('2016-01-01', utc = True)"
   ]
  },
  {
   "cell_type": "markdown",
   "metadata": {},
   "source": [
    "## Limiting the data to just data from 2015 & 2016. Only these two years are consistent for most of the regions. Other years may be missing generation data"
   ]
  },
  {
   "cell_type": "code",
   "execution_count": 6,
   "metadata": {},
   "outputs": [],
   "source": [
    "windspeedtrainDE = windspeedDE.loc[(windspeedDE.index >= start_remove) & (windspeedDE.index < end_remove)]\n",
    "windgenerationtrainDE = windgenDE.loc[(windgenDE.index >= start_remove) & (windgenDE.index < end_remove)]\n",
    "\n",
    "windspeedtestDE = windspeedDE.loc[(windspeedDE.index >= start_test) & (windspeedDE.index < end_test)]\n",
    "windgenerationtestDE = windgenDE.loc[(windgenDE.index >= start_test) & (windgenDE.index < end_test)]"
   ]
  },
  {
   "cell_type": "code",
   "execution_count": 7,
   "metadata": {},
   "outputs": [],
   "source": [
    "windspeedtrainAT = windspeedAT.loc[(windspeedAT.index >= start_remove) & (windspeedAT.index < end_remove)]\n",
    "windgenerationtrainAT = windgenAT.loc[(windgenAT.index >= start_remove) & (windgenAT.index < end_remove)]\n",
    "\n",
    "windspeedtestAT = windspeedAT.loc[(windspeedAT.index >= start_test) & (windspeedAT.index < end_test)]\n",
    "windgenerationtestAT = windgenAT.loc[(windgenAT.index >= start_test) & (windgenAT.index < end_test)]"
   ]
  },
  {
   "cell_type": "code",
   "execution_count": 8,
   "metadata": {},
   "outputs": [],
   "source": [
    "windspeedtrainFR = windspeedFR.loc[(windspeedFR.index >= start_remove) & (windspeedFR.index < end_remove)]\n",
    "windgenerationtrainFR = windgenFR.loc[(windgenFR.index >= start_remove) & (windgenFR.index < end_remove)]\n",
    "\n",
    "windspeedtestFR = windspeedFR.loc[(windspeedFR.index >= start_test) & (windspeedFR.index < end_test)]\n",
    "windgenerationtestFR = windgenFR.loc[(windgenFR.index >= start_test) & (windgenFR.index < end_test)]"
   ]
  },
  {
   "cell_type": "code",
   "execution_count": 9,
   "metadata": {},
   "outputs": [],
   "source": [
    "windspeedtrainPL = windspeedPL.loc[(windspeedPL.index >= start_remove) & (windspeedPL.index < end_remove)]\n",
    "windgenerationtrainPL = windgenPL.loc[(windgenPL.index >= start_remove) & (windgenPL.index < end_remove)]\n",
    "\n",
    "windspeedtestPL = windspeedPL.loc[(windspeedPL.index >= start_test) & (windspeedPL.index < end_test)]\n",
    "windgenerationtestPL = windgenPL.loc[(windgenPL.index >= start_test) & (windgenPL.index < end_test)]"
   ]
  },
  {
   "cell_type": "code",
   "execution_count": 10,
   "metadata": {},
   "outputs": [],
   "source": [
    "windspeedtrainDK = windspeedDK.loc[(windspeedDK.index >= start_remove) & (windspeedDK.index < end_remove)]\n",
    "windgenerationtrainDK = windgenDK.loc[(windgenDK.index >= start_remove) & (windgenDK.index < end_remove)]\n",
    "\n",
    "windspeedtestDK = windspeedDK.loc[(windspeedDK.index >= start_test) & (windspeedDK.index < end_test)]\n",
    "windgenerationtestDK = windgenDK.loc[(windgenDK.index >= start_test) & (windgenDK.index < end_test)]"
   ]
  },
  {
   "cell_type": "markdown",
   "metadata": {},
   "source": [
    "## changing the names of the columns in the features to one common name so that they concatenate properly"
   ]
  },
  {
   "cell_type": "code",
   "execution_count": 11,
   "metadata": {},
   "outputs": [],
   "source": [
    "windspeedtrainFR = windspeedtrainFR.rename({\"utc_timestamp\": \"timestamp\", \"FR_windspeed_10m\": \"windspeed\"}, axis='columns')"
   ]
  },
  {
   "cell_type": "code",
   "execution_count": 12,
   "metadata": {},
   "outputs": [],
   "source": [
    "windspeedtrainDE = windspeedtrainDE.rename({\"utc_timestamp\": \"timestamp\", \"DE_windspeed_10m\": \"windspeed\"}, axis='columns')"
   ]
  },
  {
   "cell_type": "code",
   "execution_count": 13,
   "metadata": {},
   "outputs": [],
   "source": [
    "windspeedtrainAT = windspeedtrainAT.rename({\"utc_timestamp\": \"timestamp\", \"AT_windspeed_10m\": \"windspeed\"}, axis='columns')"
   ]
  },
  {
   "cell_type": "code",
   "execution_count": 14,
   "metadata": {},
   "outputs": [],
   "source": [
    "windspeedtrainPL = windspeedtrainPL.rename({\"utc_timestamp\": \"timestamp\", \"PL_windspeed_10m\": \"windspeed\"}, axis='columns')"
   ]
  },
  {
   "cell_type": "code",
   "execution_count": 15,
   "metadata": {},
   "outputs": [],
   "source": [
    "windspeedtrainDK = windspeedtrainDK.rename({\"utc_timestamp\": \"timestamp\", \"DK_windspeed_10m\": \"windspeed\"}, axis='columns')"
   ]
  },
  {
   "cell_type": "code",
   "execution_count": 16,
   "metadata": {},
   "outputs": [],
   "source": [
    "windspeedformatted = pd.concat([windspeedtrainDE, windspeedtrainAT, windspeedtrainFR], sort=False)"
   ]
  },
  {
   "cell_type": "markdown",
   "metadata": {},
   "source": [
    "## changing the names of the columns in the target variable to one common name so that they concatenate properly"
   ]
  },
  {
   "cell_type": "code",
   "execution_count": 17,
   "metadata": {},
   "outputs": [],
   "source": [
    "windgenerationtrainFR = windgenerationtrainFR.rename({\"utc_timestamp\": \"timestamp\", \"FR_wind_onshore_generation_actual\": \"wind_generation\"}, axis='columns')"
   ]
  },
  {
   "cell_type": "code",
   "execution_count": 18,
   "metadata": {},
   "outputs": [],
   "source": [
    "windgenerationtrainDE = windgenerationtrainDE.rename({\"utc_timestamp\": \"timestamp\", \"DE_wind_generation_actual\": \"wind_generation\"}, axis='columns')"
   ]
  },
  {
   "cell_type": "code",
   "execution_count": 19,
   "metadata": {},
   "outputs": [],
   "source": [
    "windgenerationtrainAT = windgenerationtrainAT.rename({\"utc_timestamp\": \"timestamp\", \"AT_wind_onshore_generation_actual\": \"wind_generation\"}, axis='columns')"
   ]
  },
  {
   "cell_type": "code",
   "execution_count": 20,
   "metadata": {},
   "outputs": [],
   "source": [
    "windgenerationtrainPL = windgenerationtrainPL.rename({\"utc_timestamp\": \"timestamp\", \"PL_wind_onshore_generation_actual\": \"wind_generation\"}, axis='columns')"
   ]
  },
  {
   "cell_type": "code",
   "execution_count": 21,
   "metadata": {},
   "outputs": [],
   "source": [
    "windgenerationtrainDK = windgenerationtrainDK.rename({\"utc_timestamp\": \"timestamp\", \"DK_wind_onshore_generation_actual\": \"wind_generation\"}, axis='columns')"
   ]
  },
  {
   "cell_type": "code",
   "execution_count": 22,
   "metadata": {},
   "outputs": [],
   "source": [
    "windgenerationdataformatted = pd.concat([windgenerationtrainDE, windgenerationtrainAT, windgenerationtrainFR], sort=False)"
   ]
  },
  {
   "cell_type": "markdown",
   "metadata": {},
   "source": [
    "## The wind generation data is measured in Mega Watts and even then has a large magnitude. Here changing the magnitude so that it's in Giga Watts"
   ]
  },
  {
   "cell_type": "code",
   "execution_count": 23,
   "metadata": {},
   "outputs": [],
   "source": [
    "windgenerationdataformatted = windgenerationdataformatted * 1e-3"
   ]
  },
  {
   "cell_type": "code",
   "execution_count": 24,
   "metadata": {},
   "outputs": [],
   "source": [
    "# windgenerationtestFR = windgenerationtestFR * 1e-3"
   ]
  },
  {
   "cell_type": "code",
   "execution_count": 25,
   "metadata": {},
   "outputs": [],
   "source": [
    "windgenerationtestPL = windgenerationtestPL * 1e-3"
   ]
  },
  {
   "cell_type": "code",
   "execution_count": 26,
   "metadata": {},
   "outputs": [],
   "source": [
    "from sklearn.linear_model import LinearRegression\n",
    "from sklearn.metrics import r2_score\n",
    "from sklearn.metrics import mean_squared_error"
   ]
  },
  {
   "cell_type": "code",
   "execution_count": 27,
   "metadata": {},
   "outputs": [],
   "source": [
    "#function to print out generation averages for hour and day. This is used as a visual representation of the data\n",
    "#later will throw train data and predicted data to see how they fair\n",
    "#summing up all the hourly generation numbers to product the total production for the year\n",
    "#then doing division for the averages\n",
    "def energy_production(energy):\n",
    "    total_energy = np.sum(energy)\n",
    "    avg_energy_per_hour = total_energy / energy.shape[0]\n",
    "    avg_energy_per_day = total_energy / (energy.shape[0] / 24)\n",
    "    print(\"Energy Data measured in Giga Watts\")\n",
    "    print(\"Total energy:\", total_energy)\n",
    "    print(\"Average Energy Per Hour:\", avg_energy_per_hour)\n",
    "    print(\"Average Energy Per Day:\", avg_energy_per_day)"
   ]
  },
  {
   "cell_type": "markdown",
   "metadata": {},
   "source": [
    "## Creating the model fitting on the concatenated dataset and predicting on FR"
   ]
  },
  {
   "cell_type": "code",
   "execution_count": 28,
   "metadata": {},
   "outputs": [],
   "source": [
    "# fitting the model with the concatenated dataset and target variables\n",
    "model = LinearRegression().fit(windspeedformatted,windgenerationdataformatted)"
   ]
  },
  {
   "cell_type": "code",
   "execution_count": 29,
   "metadata": {},
   "outputs": [],
   "source": [
    "# using trained model to predict on new set of wind features\n",
    "prediction = model.predict(windspeedtestPL)"
   ]
  },
  {
   "cell_type": "code",
   "execution_count": 30,
   "metadata": {},
   "outputs": [],
   "source": [
    "timeseries = pd.date_range('2015-01-01', '2015-12-31 23:00:00', freq='H')"
   ]
  },
  {
   "cell_type": "code",
   "execution_count": 31,
   "metadata": {},
   "outputs": [
    {
     "data": {
      "text/plain": [
       "<matplotlib.axes._subplots.AxesSubplot at 0x2200d058f60>"
      ]
     },
     "execution_count": 31,
     "metadata": {},
     "output_type": "execute_result"
    },
    {
     "data": {
      "image/png": "[encoded data removed]",
      "text/plain": [
       "<Figure size 432x288 with 1 Axes>"
      ]
     },
     "metadata": {
      "needs_background": "light"
     },
     "output_type": "display_data"
    }
   ],
   "source": [
    "windgenerationtestPL.plot(linewidth=0.5, title='Actual Plot', legend=False)"
   ]
  },
  {
   "cell_type": "code",
   "execution_count": 32,
   "metadata": {},
   "outputs": [
    {
     "data": {
      "image/png": "[encoded data removed]",
      "text/plain": [
       "<Figure size 432x288 with 1 Axes>"
      ]
     },
     "metadata": {
      "needs_background": "light"
     },
     "output_type": "display_data"
    }
   ],
   "source": [
    "plt.plot(timeseries,prediction, linewidth=0.5)\n",
    "plt.xlabel('Timestamp')\n",
    "plt.ylabel('Energy Production in GigaWatts')\n",
    "plt.title('Predicted Plot')\n",
    "plt.show()"
   ]
  },
  {
   "cell_type": "code",
   "execution_count": 33,
   "metadata": {},
   "outputs": [
    {
     "name": "stdout",
     "output_type": "stream",
     "text": [
      "-35.07362806796889\n"
     ]
    }
   ],
   "source": [
    "print(r2_score(windgenerationtestPL, prediction))"
   ]
  },
  {
   "cell_type": "code",
   "execution_count": 34,
   "metadata": {},
   "outputs": [
    {
     "name": "stdout",
     "output_type": "stream",
     "text": [
      "35.36239047858843\n"
     ]
    }
   ],
   "source": [
    "print(mean_squared_error(windgenerationtestPL, prediction))"
   ]
  },
  {
   "cell_type": "code",
   "execution_count": 35,
   "metadata": {},
   "outputs": [
    {
     "name": "stdout",
     "output_type": "stream",
     "text": [
      "Energy Data measured in Giga Watts\n",
      "Total energy: PL_wind_onshore_generation_actual    10644.233554\n",
      "dtype: float64\n",
      "Average Energy Per Hour: PL_wind_onshore_generation_actual    1.215095\n",
      "dtype: float64\n",
      "Average Energy Per Day: PL_wind_onshore_generation_actual    29.162284\n",
      "dtype: float64\n"
     ]
    }
   ],
   "source": [
    "energy_production(windgenerationtestPL)"
   ]
  },
  {
   "cell_type": "code",
   "execution_count": 36,
   "metadata": {},
   "outputs": [
    {
     "name": "stdout",
     "output_type": "stream",
     "text": [
      "Energy Data measured in Giga Watts\n",
      "Total energy: 52205.40319764994\n",
      "Average Energy Per Hour: 5.959520912973737\n",
      "Average Energy Per Day: 143.0285019113697\n"
     ]
    }
   ],
   "source": [
    "energy_production(prediction)"
   ]
  },
  {
   "cell_type": "code",
   "execution_count": null,
   "metadata": {},
   "outputs": [],
   "source": []
  }
 ],
 "metadata": {
  "kernelspec": {
   "display_name": "Python 3",
   "language": "python",
   "name": "python3"
  },
  "language_info": {
   "codemirror_mode": {
    "name": "ipython",
    "version": 3
   },
   "file_extension": ".py",
   "mimetype": "text/x-python",
   "name": "python",
   "nbconvert_exporter": "python",
   "pygments_lexer": "ipython3",
   "version": "3.7.0"
  }
 },
 "nbformat": 4,
 "nbformat_minor": 2
}
